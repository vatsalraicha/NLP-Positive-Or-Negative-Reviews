{
 "cells": [
  {
   "cell_type": "code",
   "execution_count": 144,
   "metadata": {},
   "outputs": [],
   "source": [
    "import pickle\n",
    "import pandas as pd\n",
    "import seaborn as sns\n",
    "import matplotlib.pyplot as plt\n",
    "from collections import Counter\n",
    "\n",
    "from sklearn.metrics import accuracy_score\n",
    "from sklearn.linear_model import LogisticRegression\n",
    "from sklearn.model_selection import train_test_split\n",
    "from sklearn.feature_extraction.text import CountVectorizer, TfidfVectorizer\n",
    "\n",
    "%matplotlib inline"
   ]
  },
  {
   "cell_type": "code",
   "execution_count": 145,
   "metadata": {},
   "outputs": [
    {
     "name": "stderr",
     "output_type": "stream",
     "text": [
      "[nltk_data] Downloading package punkt to /Users/vatsal/nltk_data...\n",
      "[nltk_data]   Package punkt is already up-to-date!\n",
      "[nltk_data] Downloading package stopwords to\n",
      "[nltk_data]     /Users/vatsal/nltk_data...\n",
      "[nltk_data]   Package stopwords is already up-to-date!\n",
      "[nltk_data] Downloading package wordnet to /Users/vatsal/nltk_data...\n",
      "[nltk_data]   Package wordnet is already up-to-date!\n"
     ]
    },
    {
     "data": {
      "text/plain": [
       "True"
      ]
     },
     "execution_count": 145,
     "metadata": {},
     "output_type": "execute_result"
    }
   ],
   "source": [
    "import nltk\n",
    "nltk.download('punkt')\n",
    "nltk.download('stopwords')\n",
    "nltk.download('wordnet')"
   ]
  },
  {
   "cell_type": "code",
   "execution_count": 146,
   "metadata": {},
   "outputs": [],
   "source": [
    "from nltk.corpus import stopwords\n",
    "from nltk.stem import PorterStemmer, LancasterStemmer, SnowballStemmer\n",
    "from nltk.tokenize import sent_tokenize, word_tokenize, RegexpTokenizer"
   ]
  },
  {
   "cell_type": "code",
   "execution_count": 147,
   "metadata": {},
   "outputs": [],
   "source": [
    "reviews = pd.read_excel(\"../../data/Canva_reviews.xlsx\")"
   ]
  },
  {
   "cell_type": "code",
   "execution_count": 148,
   "metadata": {},
   "outputs": [
    {
     "data": {
      "text/html": [
       "<div>\n",
       "<style scoped>\n",
       "    .dataframe tbody tr th:only-of-type {\n",
       "        vertical-align: middle;\n",
       "    }\n",
       "\n",
       "    .dataframe tbody tr th {\n",
       "        vertical-align: top;\n",
       "    }\n",
       "\n",
       "    .dataframe thead th {\n",
       "        text-align: right;\n",
       "    }\n",
       "</style>\n",
       "<table border=\"1\" class=\"dataframe\">\n",
       "  <thead>\n",
       "    <tr style=\"text-align: right;\">\n",
       "      <th></th>\n",
       "      <th>reviewId</th>\n",
       "      <th>userName</th>\n",
       "      <th>userImage</th>\n",
       "      <th>review</th>\n",
       "      <th>score</th>\n",
       "      <th>thumbsUpCount</th>\n",
       "      <th>reviewCreatedVersion</th>\n",
       "      <th>at</th>\n",
       "      <th>replyContent</th>\n",
       "      <th>repliedAt</th>\n",
       "      <th>Sentiment</th>\n",
       "      <th>Sub Category</th>\n",
       "      <th>Sub Category_test</th>\n",
       "    </tr>\n",
       "  </thead>\n",
       "  <tbody>\n",
       "    <tr>\n",
       "      <th>0</th>\n",
       "      <td>gp:AOqpTOFxf3fttcT5DSvFIn9KPp5FErgH9yC533Fmoxv...</td>\n",
       "      <td>Donna Caritero</td>\n",
       "      <td>https://play-lh.googleusercontent.com/a-/AOh14...</td>\n",
       "      <td>Overall it's really an amazing app. I've been ...</td>\n",
       "      <td>4</td>\n",
       "      <td>528</td>\n",
       "      <td>2.116.0</td>\n",
       "      <td>2021-06-17 07:18:54</td>\n",
       "      <td>Hi Donna. We are sorry that your text or desig...</td>\n",
       "      <td>2021-06-19 21:24:32</td>\n",
       "      <td>Negative</td>\n",
       "      <td>NaN</td>\n",
       "      <td>bug_picture_quality</td>\n",
       "    </tr>\n",
       "    <tr>\n",
       "      <th>1</th>\n",
       "      <td>gp:AOqpTOEq6rNIWLnPV4KFTctWvm0mpGEQljtD6mvy1H-...</td>\n",
       "      <td>Soumi Mukhopadhyay</td>\n",
       "      <td>https://play-lh.googleusercontent.com/a-/AOh14...</td>\n",
       "      <td>Hey! Yes I gave a 5 star rating... coz I belie...</td>\n",
       "      <td>5</td>\n",
       "      <td>351</td>\n",
       "      <td>2.116.0</td>\n",
       "      <td>2021-06-17 19:18:28</td>\n",
       "      <td>NaN</td>\n",
       "      <td>NaT</td>\n",
       "      <td>Positive</td>\n",
       "      <td>extremely_happy</td>\n",
       "      <td>NaN</td>\n",
       "    </tr>\n",
       "    <tr>\n",
       "      <th>2</th>\n",
       "      <td>gp:AOqpTOE86hSyPRHZgYt28Uk5zGe4FZGb1hkmtFDiYJ2...</td>\n",
       "      <td>Theknown _unknown</td>\n",
       "      <td>https://play-lh.googleusercontent.com/a-/AOh14...</td>\n",
       "      <td>Canva used to be a good app! But recently I've...</td>\n",
       "      <td>1</td>\n",
       "      <td>160</td>\n",
       "      <td>2.116.0</td>\n",
       "      <td>2021-06-23 19:13:28</td>\n",
       "      <td>Hi there. We're sorry to hear that you are hav...</td>\n",
       "      <td>2021-06-26 20:20:56</td>\n",
       "      <td>Negative</td>\n",
       "      <td>saving_downloading_issue</td>\n",
       "      <td>bug_saving_files</td>\n",
       "    </tr>\n",
       "    <tr>\n",
       "      <th>3</th>\n",
       "      <td>gp:AOqpTOHSuKkVTcM3QgCCKysHQlxEnk2ocOKsUMiMIJy...</td>\n",
       "      <td>Anthony Dean</td>\n",
       "      <td>https://play-lh.googleusercontent.com/a/AATXAJ...</td>\n",
       "      <td>It's a brilliant app, but I have just one prob...</td>\n",
       "      <td>5</td>\n",
       "      <td>145</td>\n",
       "      <td>2.116.0</td>\n",
       "      <td>2021-06-19 23:36:07</td>\n",
       "      <td>NaN</td>\n",
       "      <td>NaT</td>\n",
       "      <td>Negative</td>\n",
       "      <td>others</td>\n",
       "      <td>bug_app_crash</td>\n",
       "    </tr>\n",
       "    <tr>\n",
       "      <th>4</th>\n",
       "      <td>gp:AOqpTOEOrZt5H6jXPiplJyffCd5ZBnVXACTWgwNsF1R...</td>\n",
       "      <td>Neha Diana Wesley</td>\n",
       "      <td>https://play-lh.googleusercontent.com/a-/AOh14...</td>\n",
       "      <td>This was such a great app. I used to make BTS ...</td>\n",
       "      <td>4</td>\n",
       "      <td>142</td>\n",
       "      <td>2.116.0</td>\n",
       "      <td>2021-06-21 00:29:27</td>\n",
       "      <td>Hi Neha. Sorry to hear that you are unable to ...</td>\n",
       "      <td>2021-06-24 20:46:28</td>\n",
       "      <td>Negative</td>\n",
       "      <td>others</td>\n",
       "      <td>bug_other</td>\n",
       "    </tr>\n",
       "  </tbody>\n",
       "</table>\n",
       "</div>"
      ],
      "text/plain": [
       "                                            reviewId            userName  \\\n",
       "0  gp:AOqpTOFxf3fttcT5DSvFIn9KPp5FErgH9yC533Fmoxv...      Donna Caritero   \n",
       "1  gp:AOqpTOEq6rNIWLnPV4KFTctWvm0mpGEQljtD6mvy1H-...  Soumi Mukhopadhyay   \n",
       "2  gp:AOqpTOE86hSyPRHZgYt28Uk5zGe4FZGb1hkmtFDiYJ2...   Theknown _unknown   \n",
       "3  gp:AOqpTOHSuKkVTcM3QgCCKysHQlxEnk2ocOKsUMiMIJy...        Anthony Dean   \n",
       "4  gp:AOqpTOEOrZt5H6jXPiplJyffCd5ZBnVXACTWgwNsF1R...   Neha Diana Wesley   \n",
       "\n",
       "                                           userImage  \\\n",
       "0  https://play-lh.googleusercontent.com/a-/AOh14...   \n",
       "1  https://play-lh.googleusercontent.com/a-/AOh14...   \n",
       "2  https://play-lh.googleusercontent.com/a-/AOh14...   \n",
       "3  https://play-lh.googleusercontent.com/a/AATXAJ...   \n",
       "4  https://play-lh.googleusercontent.com/a-/AOh14...   \n",
       "\n",
       "                                              review  score  thumbsUpCount  \\\n",
       "0  Overall it's really an amazing app. I've been ...      4            528   \n",
       "1  Hey! Yes I gave a 5 star rating... coz I belie...      5            351   \n",
       "2  Canva used to be a good app! But recently I've...      1            160   \n",
       "3  It's a brilliant app, but I have just one prob...      5            145   \n",
       "4  This was such a great app. I used to make BTS ...      4            142   \n",
       "\n",
       "  reviewCreatedVersion                  at  \\\n",
       "0              2.116.0 2021-06-17 07:18:54   \n",
       "1              2.116.0 2021-06-17 19:18:28   \n",
       "2              2.116.0 2021-06-23 19:13:28   \n",
       "3              2.116.0 2021-06-19 23:36:07   \n",
       "4              2.116.0 2021-06-21 00:29:27   \n",
       "\n",
       "                                        replyContent           repliedAt  \\\n",
       "0  Hi Donna. We are sorry that your text or desig... 2021-06-19 21:24:32   \n",
       "1                                                NaN                 NaT   \n",
       "2  Hi there. We're sorry to hear that you are hav... 2021-06-26 20:20:56   \n",
       "3                                                NaN                 NaT   \n",
       "4  Hi Neha. Sorry to hear that you are unable to ... 2021-06-24 20:46:28   \n",
       "\n",
       "  Sentiment              Sub Category    Sub Category_test  \n",
       "0  Negative                       NaN  bug_picture_quality  \n",
       "1  Positive           extremely_happy                  NaN  \n",
       "2  Negative  saving_downloading_issue     bug_saving_files  \n",
       "3  Negative                    others        bug_app_crash  \n",
       "4  Negative                    others            bug_other  "
      ]
     },
     "execution_count": 148,
     "metadata": {},
     "output_type": "execute_result"
    }
   ],
   "source": [
    "reviews.head()"
   ]
  },
  {
   "cell_type": "code",
   "execution_count": 149,
   "metadata": {},
   "outputs": [
    {
     "data": {
      "text/plain": [
       "'Unable to save my work. Nothing works :('"
      ]
     },
     "execution_count": 149,
     "metadata": {},
     "output_type": "execute_result"
    }
   ],
   "source": [
    "reviews.loc[13, \"review\"]"
   ]
  },
  {
   "cell_type": "code",
   "execution_count": 150,
   "metadata": {},
   "outputs": [
    {
     "data": {
      "text/plain": [
       "'Negative'"
      ]
     },
     "execution_count": 150,
     "metadata": {},
     "output_type": "execute_result"
    }
   ],
   "source": [
    "reviews.loc[13, \"Sentiment\"]"
   ]
  },
  {
   "cell_type": "code",
   "execution_count": 151,
   "metadata": {},
   "outputs": [
    {
     "data": {
      "text/plain": [
       "('Absolutely amazing and a lifesaver for teachers.', 'Positive')"
      ]
     },
     "execution_count": 151,
     "metadata": {},
     "output_type": "execute_result"
    }
   ],
   "source": [
    "reviews.loc[1495, \"review\"], reviews.loc[1495, \"Sentiment\"]"
   ]
  },
  {
   "cell_type": "code",
   "execution_count": 152,
   "metadata": {},
   "outputs": [
    {
     "data": {
      "text/plain": [
       "<Axes: xlabel='Sentiment', ylabel='count'>"
      ]
     },
     "execution_count": 152,
     "metadata": {},
     "output_type": "execute_result"
    },
    {
     "data": {
      "image/png": "[encoded data removed]",
      "text/plain": [
       "<Figure size 640x480 with 1 Axes>"
      ]
     },
     "metadata": {},
     "output_type": "display_data"
    }
   ],
   "source": [
    "sns.countplot(x=\"Sentiment\", data=reviews)"
   ]
  },
  {
   "cell_type": "code",
   "execution_count": 153,
   "metadata": {},
   "outputs": [
    {
     "data": {
      "text/plain": [
       "Sentiment\n",
       "Positive    68.8\n",
       "Negative    31.2\n",
       "Name: proportion, dtype: float64"
      ]
     },
     "execution_count": 153,
     "metadata": {},
     "output_type": "execute_result"
    }
   ],
   "source": [
    "reviews[\"Sentiment\"].value_counts(normalize=True)*100"
   ]
  },
  {
   "cell_type": "code",
   "execution_count": 154,
   "metadata": {},
   "outputs": [
    {
     "data": {
      "text/plain": [
       "<Axes: xlabel='score', ylabel='count'>"
      ]
     },
     "execution_count": 154,
     "metadata": {},
     "output_type": "execute_result"
    },
    {
     "data": {
      "image/png": "[encoded data removed]",
      "text/plain": [
       "<Figure size 640x480 with 1 Axes>"
      ]
     },
     "metadata": {},
     "output_type": "display_data"
    }
   ],
   "source": [
    "sns.countplot(x=\"score\", data=reviews)"
   ]
  },
  {
   "cell_type": "code",
   "execution_count": 155,
   "metadata": {},
   "outputs": [
    {
     "data": {
      "text/plain": [
       "<Axes: xlabel='score', ylabel='count'>"
      ]
     },
     "execution_count": 155,
     "metadata": {},
     "output_type": "execute_result"
    },
    {
     "data": {
      "image/png": "[encoded data removed]",
      "text/plain": [
       "<Figure size 640x480 with 1 Axes>"
      ]
     },
     "metadata": {},
     "output_type": "display_data"
    }
   ],
   "source": [
    "sns.countplot(x=\"score\", hue=\"Sentiment\", data=reviews)"
   ]
  },
  {
   "cell_type": "code",
   "execution_count": 156,
   "metadata": {},
   "outputs": [],
   "source": [
    "reviews[\"length\"] = reviews[\"review\"].apply(len)"
   ]
  },
  {
   "cell_type": "code",
   "execution_count": 157,
   "metadata": {},
   "outputs": [
    {
     "data": {
      "text/plain": [
       "count    1500.000000\n",
       "mean       86.468667\n",
       "std        55.681355\n",
       "min        20.000000\n",
       "25%        54.000000\n",
       "50%        75.000000\n",
       "75%       102.000000\n",
       "max       498.000000\n",
       "Name: length, dtype: float64"
      ]
     },
     "execution_count": 157,
     "metadata": {},
     "output_type": "execute_result"
    }
   ],
   "source": [
    "reviews[\"length\"].describe()"
   ]
  },
  {
   "cell_type": "code",
   "execution_count": 158,
   "metadata": {},
   "outputs": [
    {
     "data": {
      "text/plain": [
       "<seaborn.axisgrid.FacetGrid at 0x7fadfe3cd6d0>"
      ]
     },
     "execution_count": 158,
     "metadata": {},
     "output_type": "execute_result"
    },
    {
     "data": {
      "image/png": "[encoded data removed]",
      "text/plain": [
       "<Figure size 500x500 with 1 Axes>"
      ]
     },
     "metadata": {},
     "output_type": "display_data"
    }
   ],
   "source": [
    "sns.displot(reviews[\"length\"])"
   ]
  },
  {
   "cell_type": "code",
   "execution_count": 159,
   "metadata": {},
   "outputs": [
    {
     "data": {
      "text/plain": [
       "<seaborn.axisgrid.FacetGrid at 0x7fadff2f69a0>"
      ]
     },
     "execution_count": 159,
     "metadata": {},
     "output_type": "execute_result"
    },
    {
     "data": {
      "image/png": "[encoded data removed]",
      "text/plain": [
       "<Figure size 612.5x500 with 1 Axes>"
      ]
     },
     "metadata": {},
     "output_type": "display_data"
    }
   ],
   "source": [
    "sns.displot(data=reviews, x=\"length\", hue=\"Sentiment\", kind=\"kde\", fill=True)"
   ]
  },
  {
   "cell_type": "code",
   "execution_count": 160,
   "metadata": {},
   "outputs": [
    {
     "data": {
      "text/html": [
       "<div>\n",
       "<style scoped>\n",
       "    .dataframe tbody tr th:only-of-type {\n",
       "        vertical-align: middle;\n",
       "    }\n",
       "\n",
       "    .dataframe tbody tr th {\n",
       "        vertical-align: top;\n",
       "    }\n",
       "\n",
       "    .dataframe thead th {\n",
       "        text-align: right;\n",
       "    }\n",
       "</style>\n",
       "<table border=\"1\" class=\"dataframe\">\n",
       "  <thead>\n",
       "    <tr style=\"text-align: right;\">\n",
       "      <th></th>\n",
       "      <th>review</th>\n",
       "      <th>Sentiment</th>\n",
       "    </tr>\n",
       "  </thead>\n",
       "  <tbody>\n",
       "    <tr>\n",
       "      <th>0</th>\n",
       "      <td>Overall it's really an amazing app. I've been ...</td>\n",
       "      <td>Negative</td>\n",
       "    </tr>\n",
       "    <tr>\n",
       "      <th>1</th>\n",
       "      <td>Hey! Yes I gave a 5 star rating... coz I belie...</td>\n",
       "      <td>Positive</td>\n",
       "    </tr>\n",
       "    <tr>\n",
       "      <th>2</th>\n",
       "      <td>Canva used to be a good app! But recently I've...</td>\n",
       "      <td>Negative</td>\n",
       "    </tr>\n",
       "    <tr>\n",
       "      <th>3</th>\n",
       "      <td>It's a brilliant app, but I have just one prob...</td>\n",
       "      <td>Negative</td>\n",
       "    </tr>\n",
       "    <tr>\n",
       "      <th>4</th>\n",
       "      <td>This was such a great app. I used to make BTS ...</td>\n",
       "      <td>Negative</td>\n",
       "    </tr>\n",
       "  </tbody>\n",
       "</table>\n",
       "</div>"
      ],
      "text/plain": [
       "                                              review Sentiment\n",
       "0  Overall it's really an amazing app. I've been ...  Negative\n",
       "1  Hey! Yes I gave a 5 star rating... coz I belie...  Positive\n",
       "2  Canva used to be a good app! But recently I've...  Negative\n",
       "3  It's a brilliant app, but I have just one prob...  Negative\n",
       "4  This was such a great app. I used to make BTS ...  Negative"
      ]
     },
     "execution_count": 160,
     "metadata": {},
     "output_type": "execute_result"
    }
   ],
   "source": [
    "reviews = reviews[[\"review\", \"Sentiment\"]]\n",
    "reviews.head()"
   ]
  },
  {
   "cell_type": "code",
   "execution_count": 161,
   "metadata": {},
   "outputs": [
    {
     "data": {
      "text/plain": [
       "review       Unable to save my work. Nothing works :(\n",
       "Sentiment                                    Negative\n",
       "Name: 13, dtype: object"
      ]
     },
     "execution_count": 161,
     "metadata": {},
     "output_type": "execute_result"
    }
   ],
   "source": [
    "reviews.loc[13, [\"review\", \"Sentiment\"]]"
   ]
  },
  {
   "cell_type": "code",
   "execution_count": 162,
   "metadata": {},
   "outputs": [
    {
     "data": {
      "text/plain": [
       "(['Unable to save my work.', 'Nothing works :('],\n",
       " '\\n',\n",
       " ['Absolutely amazing and a lifesaver for teachers.'])"
      ]
     },
     "execution_count": 162,
     "metadata": {},
     "output_type": "execute_result"
    }
   ],
   "source": [
    "sent_tokenize(reviews.loc[13, \"review\"]), \"\\n\", sent_tokenize(reviews.loc[1495, \"review\"])"
   ]
  },
  {
   "cell_type": "code",
   "execution_count": 163,
   "metadata": {},
   "outputs": [
    {
     "data": {
      "text/plain": [
       "(['Unable', 'to', 'save', 'my', 'work', '.', 'Nothing', 'works', ':', '('],\n",
       " ['Absolutely', 'amazing', 'and', 'a', 'lifesaver', 'for', 'teachers', '.'])"
      ]
     },
     "execution_count": 163,
     "metadata": {},
     "output_type": "execute_result"
    }
   ],
   "source": [
    "word_tokenize(reviews.loc[13, \"review\"]), word_tokenize(reviews.loc[1495, \"review\"])"
   ]
  },
  {
   "cell_type": "code",
   "execution_count": 164,
   "metadata": {},
   "outputs": [],
   "source": [
    "reviews[\"review\"] = reviews[\"review\"].apply(str.lower)"
   ]
  },
  {
   "cell_type": "code",
   "execution_count": 165,
   "metadata": {},
   "outputs": [
    {
     "data": {
      "text/plain": [
       "review       unable to save my work. nothing works :(\n",
       "Sentiment                                    Negative\n",
       "Name: 13, dtype: object"
      ]
     },
     "execution_count": 165,
     "metadata": {},
     "output_type": "execute_result"
    }
   ],
   "source": [
    "reviews.loc[13, [\"review\", \"Sentiment\"]]"
   ]
  },
  {
   "cell_type": "code",
   "execution_count": 166,
   "metadata": {},
   "outputs": [],
   "source": [
    "sw = stopwords.words(\"english\")\n",
    "tokenizer = RegexpTokenizer(r'[A-z]+')"
   ]
  },
  {
   "cell_type": "code",
   "execution_count": 167,
   "metadata": {},
   "outputs": [],
   "source": [
    "import re"
   ]
  },
  {
   "cell_type": "code",
   "execution_count": 168,
   "metadata": {},
   "outputs": [],
   "source": [
    "def perform_tokenize(sentence):\n",
    "    \n",
    "    words = word_tokenize(sentence)\n",
    "\n",
    "    words_wo_punctuation = [\"\".join(tokenizer.tokenize(x)) for x in words if len(tokenizer.tokenize(x))>0]\n",
    "\n",
    "    words_wo_stopwords = [word for word in words_wo_punctuation if word not in sw]\n",
    "\n",
    "    return words_wo_stopwords"
   ]
  },
  {
   "cell_type": "code",
   "execution_count": 169,
   "metadata": {},
   "outputs": [
    {
     "data": {
      "text/plain": [
       "('absolutely amazing and a lifesaver for teachers.',)"
      ]
     },
     "execution_count": 169,
     "metadata": {},
     "output_type": "execute_result"
    }
   ],
   "source": [
    "i = 1495\n",
    "reviews.loc[i, \"review\"],"
   ]
  },
  {
   "cell_type": "code",
   "execution_count": 170,
   "metadata": {},
   "outputs": [
    {
     "name": "stdout",
     "output_type": "stream",
     "text": [
      "['absolutely', 'amazing', 'lifesaver', 'teachers']\n"
     ]
    }
   ],
   "source": [
    "print(perform_tokenize(reviews.loc[i, \"review\"]))"
   ]
  },
  {
   "cell_type": "code",
   "execution_count": 171,
   "metadata": {},
   "outputs": [],
   "source": [
    "reviews[\"review\"] = reviews[\"review\"].apply(perform_tokenize)"
   ]
  },
  {
   "cell_type": "code",
   "execution_count": 172,
   "metadata": {},
   "outputs": [
    {
     "data": {
      "text/plain": [
       "0       [overall, really, amazing, app, using, past, y...\n",
       "1       [hey, yes, gave, star, rating, coz, believe, d...\n",
       "2       [canva, used, good, app, recently, facing, iss...\n",
       "3       [brilliant, app, one, problem, editing, post, ...\n",
       "4       [great, app, used, make, bts, memes, recent, u...\n",
       "                              ...                        \n",
       "1495           [absolutely, amazing, lifesaver, teachers]\n",
       "1496    [nice, many, times, shows, error, opening, ppt...\n",
       "1497    [much, lag, always, stuck, starting, page, wor...\n",
       "1498    [nice, app, college, work, many, features, tem...\n",
       "1499                  [teacher, much, school, year, love]\n",
       "Name: review, Length: 1500, dtype: object"
      ]
     },
     "execution_count": 172,
     "metadata": {},
     "output_type": "execute_result"
    }
   ],
   "source": [
    "reviews[\"review\"]"
   ]
  },
  {
   "cell_type": "code",
   "execution_count": 173,
   "metadata": {},
   "outputs": [],
   "source": [
    "porter = PorterStemmer()\n",
    "lancaster = LancasterStemmer()\n",
    "snowball = SnowballStemmer(language=\"english\")"
   ]
  },
  {
   "cell_type": "code",
   "execution_count": 174,
   "metadata": {},
   "outputs": [
    {
     "data": {
      "text/plain": [
       "'goe'"
      ]
     },
     "execution_count": 174,
     "metadata": {},
     "output_type": "execute_result"
    }
   ],
   "source": [
    "porter.stem(\"goes\")"
   ]
  },
  {
   "cell_type": "code",
   "execution_count": 175,
   "metadata": {},
   "outputs": [
    {
     "data": {
      "text/plain": [
       "'goe'"
      ]
     },
     "execution_count": 175,
     "metadata": {},
     "output_type": "execute_result"
    }
   ],
   "source": [
    "lancaster.stem(\"goes\")"
   ]
  },
  {
   "cell_type": "code",
   "execution_count": 176,
   "metadata": {},
   "outputs": [
    {
     "data": {
      "text/plain": [
       "'goe'"
      ]
     },
     "execution_count": 176,
     "metadata": {},
     "output_type": "execute_result"
    }
   ],
   "source": [
    "snowball.stem(\"goes\")"
   ]
  },
  {
   "cell_type": "code",
   "execution_count": 177,
   "metadata": {},
   "outputs": [],
   "source": [
    "def perform_stemming(stem_type,input):\n",
    "\n",
    "    if stem_type not in [\"porter\", \"lancaster\", \"snowball\"] :\n",
    "        stem_type = \"porter\"\n",
    "\n",
    "    if stem_type == \"porter\":\n",
    "        words_stemmed = [porter.stem(word) for word in input]\n",
    "    elif stem_type == \"lancaster\":\n",
    "        words_stemmed = [lancaster.stem(word) for word in input]\n",
    "    elif stem_type == \"snowball\":\n",
    "        words_stemmed = [snowball.stem(word) for word in input]\n",
    "\n",
    "    return words_stemmed"
   ]
  },
  {
   "cell_type": "code",
   "execution_count": 178,
   "metadata": {},
   "outputs": [
    {
     "data": {
      "text/plain": [
       "(['absolut', 'amaz', 'lifesav', 'teacher'],\n",
       " ['absolv', 'amaz', 'lifesav', 'teach'],\n",
       " ['absolut', 'amaz', 'lifesav', 'teacher'])"
      ]
     },
     "execution_count": 178,
     "metadata": {},
     "output_type": "execute_result"
    }
   ],
   "source": [
    "perform_stemming(\"porter\",reviews.loc[i, \"review\"]), perform_stemming(\"lancaster\",reviews.loc[i, \"review\"]), perform_stemming(\"snowball\",reviews.loc[i, \"review\"])"
   ]
  },
  {
   "cell_type": "code",
   "execution_count": 179,
   "metadata": {},
   "outputs": [
    {
     "data": {
      "text/plain": [
       "0       [overal, realli, amaz, app, use, past, year, h...\n",
       "1       [hey, ye, gave, star, rate, coz, believ, deser...\n",
       "2       [canva, use, good, app, recent, face, issu, sa...\n",
       "3       [brilliant, app, one, problem, edit, post, dou...\n",
       "4       [great, app, use, make, bt, meme, recent, upda...\n",
       "                              ...                        \n",
       "1495                    [absolut, amaz, lifesav, teacher]\n",
       "1496    [nice, mani, time, show, error, open, ppt, sch...\n",
       "1497    [much, lag, alway, stuck, start, page, worst, ...\n",
       "1498    [nice, app, colleg, work, mani, featur, templa...\n",
       "1499                  [teacher, much, school, year, love]\n",
       "Name: review, Length: 1500, dtype: object"
      ]
     },
     "execution_count": 179,
     "metadata": {},
     "output_type": "execute_result"
    }
   ],
   "source": [
    "reviews[\"review\"].apply(lambda x: perform_stemming(\"porter\", x))"
   ]
  },
  {
   "cell_type": "code",
   "execution_count": 180,
   "metadata": {},
   "outputs": [],
   "source": [
    "reviews[\"review\"] = reviews[\"review\"].apply(lambda x: perform_stemming(\"porter\", x))"
   ]
  },
  {
   "cell_type": "code",
   "execution_count": 181,
   "metadata": {},
   "outputs": [],
   "source": [
    "counts = Counter(reviews.explode(column=\"review\")[\"review\"].to_list())"
   ]
  },
  {
   "cell_type": "code",
   "execution_count": 182,
   "metadata": {},
   "outputs": [
    {
     "data": {
      "text/plain": [
       "Counter({'app': 932,\n",
       "         'use': 474,\n",
       "         'design': 349,\n",
       "         'easi': 293,\n",
       "         'love': 220,\n",
       "         'good': 219,\n",
       "         'edit': 191,\n",
       "         'make': 190,\n",
       "         'great': 184,\n",
       "         'canva': 173,\n",
       "         'best': 165,\n",
       "         'nt': 159,\n",
       "         'work': 145,\n",
       "         'realli': 129,\n",
       "         'creat': 117,\n",
       "         'help': 113,\n",
       "         'amaz': 110,\n",
       "         'free': 110,\n",
       "         'like': 109,\n",
       "         'time': 104,\n",
       "         'download': 104,\n",
       "         'save': 103,\n",
       "         'templat': 103,\n",
       "         'nice': 102,\n",
       "         'mani': 91,\n",
       "         'thank': 84,\n",
       "         'logo': 82,\n",
       "         'lot': 80,\n",
       "         'much': 78,\n",
       "         'graphic': 73,\n",
       "         'one': 71,\n",
       "         'featur': 71,\n",
       "         'video': 71,\n",
       "         'option': 70,\n",
       "         'awesom': 68,\n",
       "         'pleas': 66,\n",
       "         'need': 65,\n",
       "         'even': 63,\n",
       "         'tri': 62,\n",
       "         'applic': 59,\n",
       "         'get': 57,\n",
       "         'problem': 55,\n",
       "         'photo': 55,\n",
       "         'take': 54,\n",
       "         'ca': 54,\n",
       "         'poster': 48,\n",
       "         'want': 47,\n",
       "         'thumbnail': 47,\n",
       "         'version': 45,\n",
       "         'user': 45,\n",
       "         'imag': 45,\n",
       "         'thing': 45,\n",
       "         'recommend': 44,\n",
       "         'star': 43,\n",
       "         'everyth': 43,\n",
       "         'ever': 43,\n",
       "         'updat': 42,\n",
       "         'busi': 42,\n",
       "         'also': 41,\n",
       "         'keep': 41,\n",
       "         'fix': 40,\n",
       "         'simpl': 40,\n",
       "         'super': 38,\n",
       "         'text': 36,\n",
       "         'first': 36,\n",
       "         'beginn': 36,\n",
       "         'issu': 35,\n",
       "         'could': 35,\n",
       "         'friendli': 35,\n",
       "         'excel': 35,\n",
       "         'tool': 34,\n",
       "         'pro': 34,\n",
       "         'still': 32,\n",
       "         'better': 32,\n",
       "         'project': 32,\n",
       "         'phone': 32,\n",
       "         'give': 31,\n",
       "         'new': 31,\n",
       "         'youtub': 31,\n",
       "         'cool': 31,\n",
       "         'qualiti': 31,\n",
       "         'far': 30,\n",
       "         'pictur': 30,\n",
       "         'perfect': 30,\n",
       "         'go': 29,\n",
       "         'profession': 29,\n",
       "         'slow': 28,\n",
       "         'well': 27,\n",
       "         'everi': 27,\n",
       "         'add': 27,\n",
       "         'would': 27,\n",
       "         'content': 27,\n",
       "         'someth': 26,\n",
       "         'mobil': 25,\n",
       "         'without': 25,\n",
       "         'post': 25,\n",
       "         'etc': 25,\n",
       "         'open': 25,\n",
       "         'present': 24,\n",
       "         'premium': 24,\n",
       "         'start': 24,\n",
       "         'ad': 24,\n",
       "         'load': 24,\n",
       "         'anyth': 24,\n",
       "         'creativ': 24,\n",
       "         'look': 23,\n",
       "         'fantast': 23,\n",
       "         'made': 23,\n",
       "         'beauti': 22,\n",
       "         'show': 22,\n",
       "         'say': 22,\n",
       "         'know': 22,\n",
       "         'way': 22,\n",
       "         'wonder': 21,\n",
       "         'fun': 21,\n",
       "         'experi': 20,\n",
       "         'alway': 20,\n",
       "         'absolut': 20,\n",
       "         'pay': 20,\n",
       "         'banner': 19,\n",
       "         'interfac': 19,\n",
       "         'social': 19,\n",
       "         'media': 19,\n",
       "         'connect': 19,\n",
       "         'platform': 19,\n",
       "         'find': 18,\n",
       "         'hope': 18,\n",
       "         'chang': 18,\n",
       "         'font': 18,\n",
       "         'superb': 18,\n",
       "         'card': 18,\n",
       "         'interest': 18,\n",
       "         'account': 18,\n",
       "         'think': 17,\n",
       "         'abl': 17,\n",
       "         'instal': 17,\n",
       "         'easier': 17,\n",
       "         'unabl': 17,\n",
       "         'lag': 17,\n",
       "         'u': 17,\n",
       "         'small': 16,\n",
       "         'day': 16,\n",
       "         'come': 16,\n",
       "         'long': 16,\n",
       "         'worst': 16,\n",
       "         'learn': 16,\n",
       "         'us': 15,\n",
       "         'crash': 15,\n",
       "         'sometim': 15,\n",
       "         'job': 15,\n",
       "         'never': 15,\n",
       "         'stuff': 15,\n",
       "         'conveni': 15,\n",
       "         'hate': 15,\n",
       "         'alot': 15,\n",
       "         'log': 15,\n",
       "         'easili': 15,\n",
       "         'internet': 15,\n",
       "         'recent': 14,\n",
       "         'happen': 14,\n",
       "         'subscript': 14,\n",
       "         'pretti': 14,\n",
       "         'wish': 14,\n",
       "         'money': 14,\n",
       "         'flyer': 14,\n",
       "         'enjoy': 14,\n",
       "         'highli': 14,\n",
       "         'year': 13,\n",
       "         'satisfi': 13,\n",
       "         'provid': 13,\n",
       "         'resum': 13,\n",
       "         'uninstal': 13,\n",
       "         'function': 13,\n",
       "         'page': 13,\n",
       "         'improv': 13,\n",
       "         'background': 13,\n",
       "         'bad': 13,\n",
       "         'choos': 13,\n",
       "         'person': 13,\n",
       "         'cover': 13,\n",
       "         'quick': 13,\n",
       "         'avail': 13,\n",
       "         'overal': 12,\n",
       "         'high': 12,\n",
       "         'rate': 12,\n",
       "         'full': 12,\n",
       "         'seen': 12,\n",
       "         'let': 12,\n",
       "         'creator': 12,\n",
       "         'properli': 12,\n",
       "         'pl': 12,\n",
       "         'softwar': 12,\n",
       "         'fast': 12,\n",
       "         'editor': 12,\n",
       "         'access': 12,\n",
       "         'wo': 12,\n",
       "         'desktop': 11,\n",
       "         'develop': 11,\n",
       "         'face': 11,\n",
       "         'file': 11,\n",
       "         'basic': 11,\n",
       "         'peopl': 11,\n",
       "         'team': 11,\n",
       "         'right': 11,\n",
       "         'share': 11,\n",
       "         'servic': 11,\n",
       "         'instagram': 11,\n",
       "         'must': 11,\n",
       "         'bit': 11,\n",
       "         'cant': 11,\n",
       "         'network': 11,\n",
       "         'effect': 11,\n",
       "         'guy': 11,\n",
       "         'past': 10,\n",
       "         'though': 10,\n",
       "         'definit': 10,\n",
       "         'gave': 10,\n",
       "         'android': 10,\n",
       "         'back': 10,\n",
       "         'review': 10,\n",
       "         'data': 10,\n",
       "         'feel': 10,\n",
       "         'everyon': 10,\n",
       "         'total': 10,\n",
       "         'play': 10,\n",
       "         'life': 10,\n",
       "         'write': 10,\n",
       "         'allow': 10,\n",
       "         'bug': 10,\n",
       "         'hard': 10,\n",
       "         'wow': 10,\n",
       "         'forev': 10,\n",
       "         'worth': 10,\n",
       "         'sinc': 9,\n",
       "         'stuck': 9,\n",
       "         'soon': 9,\n",
       "         'see': 9,\n",
       "         'watermark': 9,\n",
       "         'kind': 9,\n",
       "         'said': 9,\n",
       "         'check': 9,\n",
       "         'wast': 9,\n",
       "         'got': 9,\n",
       "         'done': 9,\n",
       "         'glitch': 9,\n",
       "         'differ': 9,\n",
       "         'plz': 9,\n",
       "         'incred': 9,\n",
       "         'other': 9,\n",
       "         'tell': 9,\n",
       "         'varieti': 9,\n",
       "         'im': 9,\n",
       "         'payment': 9,\n",
       "         'end': 9,\n",
       "         'result': 9,\n",
       "         'stori': 9,\n",
       "         'suck': 9,\n",
       "         'suggest': 9,\n",
       "         'type': 9,\n",
       "         'minut': 9,\n",
       "         'thought': 8,\n",
       "         'month': 8,\n",
       "         'attract': 8,\n",
       "         'paid': 8,\n",
       "         'solv': 8,\n",
       "         'especi': 8,\n",
       "         'noth': 8,\n",
       "         'frustrat': 8,\n",
       "         'may': 8,\n",
       "         'site': 8,\n",
       "         'remov': 8,\n",
       "         'auto': 8,\n",
       "         'low': 8,\n",
       "         'offer': 8,\n",
       "         'less': 8,\n",
       "         'anyon': 8,\n",
       "         'world': 8,\n",
       "         'charg': 8,\n",
       "         'seem': 8,\n",
       "         'school': 8,\n",
       "         'otherwis': 8,\n",
       "         'market': 8,\n",
       "         'photoshop': 8,\n",
       "         'navig': 8,\n",
       "         'understand': 8,\n",
       "         'collag': 8,\n",
       "         'found': 8,\n",
       "         'wifi': 8,\n",
       "         'run': 8,\n",
       "         'soo': 8,\n",
       "         'simpli': 8,\n",
       "         'upgrad': 8,\n",
       "         'alreadi': 8,\n",
       "         'laggi': 8,\n",
       "         'littl': 8,\n",
       "         'last': 7,\n",
       "         'websit': 7,\n",
       "         'style': 7,\n",
       "         'away': 7,\n",
       "         'price': 7,\n",
       "         'finish': 7,\n",
       "         'skill': 7,\n",
       "         'purchas': 7,\n",
       "         'wait': 7,\n",
       "         'disappoint': 7,\n",
       "         'slide': 7,\n",
       "         'complet': 7,\n",
       "         'enough': 7,\n",
       "         'happi': 7,\n",
       "         'annoy': 7,\n",
       "         'galleri': 7,\n",
       "         'advertis': 7,\n",
       "         'place': 7,\n",
       "         'intuit': 7,\n",
       "         'yet': 7,\n",
       "         'sure': 7,\n",
       "         'anim': 7,\n",
       "         'channel': 7,\n",
       "         'student': 7,\n",
       "         'onlin': 7,\n",
       "         'difficult': 7,\n",
       "         'googl': 7,\n",
       "         'aap': 7,\n",
       "         'email': 7,\n",
       "         'prepar': 7,\n",
       "         'pic': 7,\n",
       "         'dont': 7,\n",
       "         'web': 7,\n",
       "         'howev': 6,\n",
       "         'zoom': 6,\n",
       "         'liter': 6,\n",
       "         'magic': 6,\n",
       "         'restart': 6,\n",
       "         'put': 6,\n",
       "         'product': 6,\n",
       "         '``': 6,\n",
       "         'went': 6,\n",
       "         'close': 6,\n",
       "         'select': 6,\n",
       "         'automat': 6,\n",
       "         'mode': 6,\n",
       "         'impress': 6,\n",
       "         'afford': 6,\n",
       "         'wrong': 6,\n",
       "         'idea': 6,\n",
       "         'requir': 6,\n",
       "         'laptop': 6,\n",
       "         'error': 6,\n",
       "         'technic': 6,\n",
       "         'subscrib': 6,\n",
       "         'hang': 6,\n",
       "         'birthday': 6,\n",
       "         'smoothli': 6,\n",
       "         'cancel': 6,\n",
       "         'game': 6,\n",
       "         'offlin': 6,\n",
       "         'experienc': 6,\n",
       "         'print': 6,\n",
       "         'useless': 6,\n",
       "         'hour': 6,\n",
       "         'whatev': 6,\n",
       "         'quit': 6,\n",
       "         'ask': 6,\n",
       "         'daili': 6,\n",
       "         'limit': 6,\n",
       "         'everytim': 6,\n",
       "         'except': 6,\n",
       "         'mind': 6,\n",
       "         'kindli': 6,\n",
       "         'appreci': 6,\n",
       "         'sign': 6,\n",
       "         'wide': 6,\n",
       "         'poor': 6,\n",
       "         'export': 5,\n",
       "         'deserv': 5,\n",
       "         'almost': 5,\n",
       "         'format': 5,\n",
       "         'screen': 5,\n",
       "         'call': 5,\n",
       "         'brilliant': 5,\n",
       "         'miss': 5,\n",
       "         'compani': 5,\n",
       "         'set': 5,\n",
       "         'stress': 5,\n",
       "         'clean': 5,\n",
       "         'turn': 5,\n",
       "         'art': 5,\n",
       "         'readi': 5,\n",
       "         'anoth': 5,\n",
       "         'becom': 5,\n",
       "         'n': 5,\n",
       "         'custom': 5,\n",
       "         'perfectli': 5,\n",
       "         'facebook': 5,\n",
       "         'top': 5,\n",
       "         'click': 5,\n",
       "         'ton': 5,\n",
       "         'smooth': 5,\n",
       "         'friend': 5,\n",
       "         'fine': 5,\n",
       "         'special': 5,\n",
       "         'invit': 5,\n",
       "         'insta': 5,\n",
       "         'line': 5,\n",
       "         'due': 5,\n",
       "         'doubt': 5,\n",
       "         'word': 5,\n",
       "         'took': 5,\n",
       "         'actual': 5,\n",
       "         'stun': 5,\n",
       "         'futur': 5,\n",
       "         'buy': 5,\n",
       "         'upload': 5,\n",
       "         'oh': 5,\n",
       "         'devic': 5,\n",
       "         'fit': 5,\n",
       "         'maker': 5,\n",
       "         'possibl': 5,\n",
       "         'tablet': 5,\n",
       "         'mostli': 4,\n",
       "         'part': 4,\n",
       "         'although': 4,\n",
       "         'adob': 4,\n",
       "         'prefer': 4,\n",
       "         'trial': 4,\n",
       "         'sticker': 4,\n",
       "         'troubl': 4,\n",
       "         'reinstal': 4,\n",
       "         'icon': 4,\n",
       "         'freelanc': 4,\n",
       "         'colour': 4,\n",
       "         'button': 4,\n",
       "         'plu': 4,\n",
       "         'sooo': 4,\n",
       "         'program': 4,\n",
       "         'sever': 4,\n",
       "         'output': 4,\n",
       "         'variou': 4,\n",
       "         'level': 4,\n",
       "         'quickli': 4,\n",
       "         'task': 4,\n",
       "         'latest': 4,\n",
       "         'item': 4,\n",
       "         'ppt': 4,\n",
       "         'book': 4,\n",
       "         'what': 4,\n",
       "         'fabul': 4,\n",
       "         'refund': 4,\n",
       "         'kept': 4,\n",
       "         'order': 4,\n",
       "         'advanc': 4,\n",
       "         'layout': 4,\n",
       "         'na': 4,\n",
       "         'cuz': 4,\n",
       "         'continu': 4,\n",
       "         'effici': 4,\n",
       "         'respond': 4,\n",
       "         'second': 4,\n",
       "         'promot': 4,\n",
       "         'materi': 4,\n",
       "         'useful': 4,\n",
       "         'practic': 4,\n",
       "         'music': 4,\n",
       "         'request': 4,\n",
       "         'element': 4,\n",
       "         'figur': 4,\n",
       "         'expens': 4,\n",
       "         'side': 4,\n",
       "         'rang': 4,\n",
       "         'shape': 4,\n",
       "         'login': 4,\n",
       "         'view': 4,\n",
       "         'number': 4,\n",
       "         'exist': 4,\n",
       "         'truli': 4,\n",
       "         'ur': 4,\n",
       "         'difficulti': 4,\n",
       "         'today': 4,\n",
       "         'greedi': 4,\n",
       "         'slowli': 4,\n",
       "         'point': 4,\n",
       "         'mean': 4,\n",
       "         'explor': 4,\n",
       "         'artist': 4,\n",
       "         'god': 4,\n",
       "         'bless': 4,\n",
       "         'extrem': 4,\n",
       "         'choic': 4,\n",
       "         'ui': 4,\n",
       "         'colleg': 4,\n",
       "         'search': 4,\n",
       "         'copi': 4,\n",
       "         'consum': 4,\n",
       "         'blur': 3,\n",
       "         'ye': 3,\n",
       "         'coz': 3,\n",
       "         'believ': 3,\n",
       "         'facil': 3,\n",
       "         'png': 3,\n",
       "         'pc': 3,\n",
       "         'fact': 3,\n",
       "         'behind': 3,\n",
       "         'mock': 3,\n",
       "         'decid': 3,\n",
       "         'guess': 3,\n",
       "         'crop': 3,\n",
       "         'around': 3,\n",
       "         'consist': 3,\n",
       "         'main': 3,\n",
       "         'transpar': 3,\n",
       "         'size': 3,\n",
       "         'garbag': 3,\n",
       "         'screenshot': 3,\n",
       "         'anywher': 3,\n",
       "         'gradient': 3,\n",
       "         'final': 3,\n",
       "         'perform': 3,\n",
       "         'read': 3,\n",
       "         'eas': 3,\n",
       "         'resiz': 3,\n",
       "         'purpos': 3,\n",
       "         'appi': 3,\n",
       "         'reset': 3,\n",
       "         'languag': 3,\n",
       "         'reload': 3,\n",
       "         'hi': 3,\n",
       "         'mark': 3,\n",
       "         'cost': 3,\n",
       "         'despit': 3,\n",
       "         'disappear': 3,\n",
       "         'caus': 3,\n",
       "         'stay': 3,\n",
       "         'exit': 3,\n",
       "         'disturb': 3,\n",
       "         'els': 3,\n",
       "         'that': 3,\n",
       "         'creater': 3,\n",
       "         'badli': 3,\n",
       "         'delet': 3,\n",
       "         'consid': 3,\n",
       "         'system': 3,\n",
       "         'week': 3,\n",
       "         'reason': 3,\n",
       "         'either': 3,\n",
       "         'longer': 3,\n",
       "         'outstand': 3,\n",
       "         'complaint': 3,\n",
       "         'l': 3,\n",
       "         'entrepreneur': 3,\n",
       "         'repli': 3,\n",
       "         'next': 3,\n",
       "         'userfriendli': 3,\n",
       "         'cute': 3,\n",
       "         'hd': 3,\n",
       "         'send': 3,\n",
       "         'uniqu': 3,\n",
       "         'expert': 3,\n",
       "         'amount': 3,\n",
       "         'circl': 3,\n",
       "         'lil': 3,\n",
       "         'there': 3,\n",
       "         'twice': 3,\n",
       "         'aesthet': 3,\n",
       "         'doesnt': 3,\n",
       "         'versatil': 3,\n",
       "         'matter': 3,\n",
       "         'desir': 3,\n",
       "         'theme': 3,\n",
       "         'novic': 3,\n",
       "         'easiest': 3,\n",
       "         'dowload': 3,\n",
       "         'gon': 3,\n",
       "         'wed': 3,\n",
       "         'import': 3,\n",
       "         'shadow': 3,\n",
       "         'recomend': 3,\n",
       "         'ok': 3,\n",
       "         'didnt': 3,\n",
       "         'across': 3,\n",
       "         'tip': 3,\n",
       "         'filter': 3,\n",
       "         'freez': 3,\n",
       "         'neat': 3,\n",
       "         'short': 3,\n",
       "         'hack': 3,\n",
       "         'complic': 3,\n",
       "         'comfort': 3,\n",
       "         'relat': 3,\n",
       "         'trash': 3,\n",
       "         'digit': 3,\n",
       "         'valu': 3,\n",
       "         'teacher': 3,\n",
       "         'class': 3,\n",
       "         'late': 3,\n",
       "         'code': 3,\n",
       "         'address': 2,\n",
       "         'occur': 2,\n",
       "         'rememb': 2,\n",
       "         'hey': 2,\n",
       "         'moreov': 2,\n",
       "         'tap': 2,\n",
       "         'reposit': 2,\n",
       "         'g': 2,\n",
       "         'meme': 2,\n",
       "         'rare': 2,\n",
       "         'previou': 2,\n",
       "         'given': 2,\n",
       "         'flier': 2,\n",
       "         'oper': 2,\n",
       "         'newer': 2,\n",
       "         'rather': 2,\n",
       "         'someon': 2,\n",
       "         'singl': 2,\n",
       "         'hand': 2,\n",
       "         'label': 2,\n",
       "         'caption': 2,\n",
       "         'four': 2,\n",
       "         'ta': 2,\n",
       "         'alright': 2,\n",
       "         'might': 2,\n",
       "         'membership': 2,\n",
       "         'thousand': 2,\n",
       "         'bottom': 2,\n",
       "         'bze': 2,\n",
       "         'partial': 2,\n",
       "         'sent': 2,\n",
       "         'asap': 2,\n",
       "         'tbh': 2,\n",
       "         'spark': 2,\n",
       "         'prob': 2,\n",
       "         'attempt': 2,\n",
       "         'reach': 2,\n",
       "         'per': 2,\n",
       "         'owner': 2,\n",
       "         'benefit': 2,\n",
       "         'simplic': 2,\n",
       "         'until': 2,\n",
       "         'horribl': 2,\n",
       "         'later': 2,\n",
       "         'password': 2,\n",
       "         'whole': 2,\n",
       "         'besid': 2,\n",
       "         'deadlin': 2,\n",
       "         'competit': 2,\n",
       "         'major': 2,\n",
       "         'everyday': 2,\n",
       "         'lose': 2,\n",
       "         'autosav': 2,\n",
       "         'enabl': 2,\n",
       "         'extra': 2,\n",
       "         'letter': 2,\n",
       "         'peac': 2,\n",
       "         'monthli': 2,\n",
       "         'wallpap': 2,\n",
       "         'shut': 2,\n",
       "         'glitchi': 2,\n",
       "         'tone': 2,\n",
       "         'ship': 2,\n",
       "         'album': 2,\n",
       "         'press': 2,\n",
       "         'opinion': 2,\n",
       "         'therefor': 2,\n",
       "         'goe': 2,\n",
       "         'ruin': 2,\n",
       "         'budget': 2,\n",
       "         'gr': 2,\n",
       "         'changer': 2,\n",
       "         'portfolio': 2,\n",
       "         'dope': 2,\n",
       "         'known': 2,\n",
       "         'instantli': 2,\n",
       "         'inde': 2,\n",
       "         'prefect': 2,\n",
       "         'helpful': 2,\n",
       "         'old': 2,\n",
       "         'bold': 2,\n",
       "         'apk': 2,\n",
       "         'flexibl': 2,\n",
       "         'browser': 2,\n",
       "         'enter': 2,\n",
       "         'forget': 2,\n",
       "         'power': 2,\n",
       "         'starter': 2,\n",
       "         'quot': 2,\n",
       "         'gif': 2,\n",
       "         'iam': 2,\n",
       "         'gener': 2,\n",
       "         'via': 2,\n",
       "         'genuin': 2,\n",
       "         'offic': 2,\n",
       "         'motiv': 2,\n",
       "         'pack': 2,\n",
       "         'unlimit': 2,\n",
       "         'bcoz': 2,\n",
       "         'grate': 2,\n",
       "         'two': 2,\n",
       "         'marvel': 2,\n",
       "         'osm': 2,\n",
       "         'includ': 2,\n",
       "         'visual': 2,\n",
       "         'keyboard': 2,\n",
       "         'st': 2,\n",
       "         'stupid': 2,\n",
       "         'render': 2,\n",
       "         'merg': 2,\n",
       "         'certif': 2,\n",
       "         'blow': 2,\n",
       "         'eg': 2,\n",
       "         'squar': 2,\n",
       "         'event': 2,\n",
       "         'tooo': 2,\n",
       "         'control': 2,\n",
       "         'stop': 2,\n",
       "         'fill': 2,\n",
       "         'form': 2,\n",
       "         'submit': 2,\n",
       "         'tube': 2,\n",
       "         'contact': 2,\n",
       "         'fli': 2,\n",
       "         'welldon': 2,\n",
       "         'refer': 2,\n",
       "         'noob': 2,\n",
       "         'irrit': 2,\n",
       "         'resolv': 2,\n",
       "         'r': 2,\n",
       "         'industri': 2,\n",
       "         'resourc': 2,\n",
       "         'favorit': 2,\n",
       "         'paperwork': 2,\n",
       "         'articl': 2,\n",
       "         'accident': 2,\n",
       "         'till': 2,\n",
       "         'picsart': 2,\n",
       "         'effort': 2,\n",
       "         'hello': 2,\n",
       "         'handl': 2,\n",
       "         'camera': 2,\n",
       "         'speed': 2,\n",
       "         'tricki': 2,\n",
       "         'unbeliev': 2,\n",
       "         'artwork': 2,\n",
       "         'pick': 2,\n",
       "         'blank': 2,\n",
       "         'technolog': 2,\n",
       "         'excit': 2,\n",
       "         'entertain': 2,\n",
       "         'omg': 2,\n",
       "         'stylish': 2,\n",
       "         'cheap': 2,\n",
       "         'concern': 2,\n",
       "         'man': 2,\n",
       "         'care': 2,\n",
       "         'awsom': 2,\n",
       "         'seamless': 2,\n",
       "         'amz': 2,\n",
       "         'reali': 2,\n",
       "         'feedback': 2,\n",
       "         'sort': 2,\n",
       "         'onto': 2,\n",
       "         'whn': 2,\n",
       "         'shift': 2,\n",
       "         'resolut': 2,\n",
       "         'mainli': 2,\n",
       "         'pdf': 2,\n",
       "         'si': 2,\n",
       "         'reliabl': 2,\n",
       "         'tutori': 2,\n",
       "         'big': 2,\n",
       "         'finger': 2,\n",
       "         'teach': 2,\n",
       "         'everybodi': 2,\n",
       "         'hassl': 2,\n",
       "         'publish': 2,\n",
       "         'tous': 2,\n",
       "         'glad': 2,\n",
       "         'wattpad': 2,\n",
       "         'tho': 2,\n",
       "         'gone': 2,\n",
       "         'rectifi': 2,\n",
       "         'credit': 2,\n",
       "         'unavail': 2,\n",
       "         'announc': 2,\n",
       "         'ai': 2,\n",
       "         'ps': 2,\n",
       "         'report': 2,\n",
       "         'detail': 2,\n",
       "         'along': 2,\n",
       "         'solut': 2,\n",
       "         'trail': 2,\n",
       "         'reduc': 2,\n",
       "         'intro': 2,\n",
       "         'honestli': 2,\n",
       "         'expos': 2,\n",
       "         'info': 2,\n",
       "         'sorri': 2,\n",
       "         'saver': 2,\n",
       "         'anybodi': 2,\n",
       "         'brand': 2,\n",
       "         'crush': 2,\n",
       "         'support': 2,\n",
       "         'whenev': 2,\n",
       "         'logi': 2,\n",
       "         'smartphon': 2,\n",
       "         'explain': 2,\n",
       "         'black': 2,\n",
       "         'masterpiec': 2,\n",
       "         'spend': 2,\n",
       "         'sync': 2,\n",
       "         'capabl': 2,\n",
       "         'scratch': 2,\n",
       "         'section': 2,\n",
       "         'festiv': 2,\n",
       "         'constantli': 2,\n",
       "         'fail': 2,\n",
       "         'lost': 2,\n",
       "         'dream': 2,\n",
       "         'stabl': 2,\n",
       "         'x': 2,\n",
       "         'process': 2,\n",
       "         'templet': 2,\n",
       "         'filmora': 2,\n",
       "         'pamphlet': 2,\n",
       "         'switch': 2,\n",
       "         'light': 2,\n",
       "         'pixel': 1,\n",
       "         'serious': 1,\n",
       "         'came': 1,\n",
       "         'jpg': 1,\n",
       "         'doubl': 1,\n",
       "         'lg': 1,\n",
       "         'se': 1,\n",
       "         'bt': 1,\n",
       "         'appear': 1,\n",
       "         'wall': 1,\n",
       "         'mo': 1,\n",
       "         'steep': 1,\n",
       "         'bottl': 1,\n",
       "         'exampl': 1,\n",
       "         'screenshoot': 1,\n",
       "         'moneyyyi': 1,\n",
       "         'premad': 1,\n",
       "         'patienc': 1,\n",
       "         'cach': 1,\n",
       "         'window': 1,\n",
       "         'extend': 1,\n",
       "         'discontinu': 1,\n",
       "         'informat': 1,\n",
       "         'crashesanoth': 1,\n",
       "         'panel': 1,\n",
       "         'randomli': 1,\n",
       "         'distinguish': 1,\n",
       "         'particular': 1,\n",
       "         'anticip': 1,\n",
       "         'live': 1,\n",
       "         'canvameandroid': 1,\n",
       "         'client': 1,\n",
       "         'pend': 1,\n",
       "         'lebel': 1,\n",
       "         'strong': 1,\n",
       "         'hobbi': 1,\n",
       "         'aften': 1,\n",
       "         'net': 1,\n",
       "         'awhil': 1,\n",
       "         'manual': 1,\n",
       "         'posterlogo': 1,\n",
       "         'least': 1,\n",
       "         'mybloho': 1,\n",
       "         'forward': 1,\n",
       "         'yay': 1,\n",
       "         'goal': 1,\n",
       "         'desin': 1,\n",
       "         'weak': 1,\n",
       "         'dissapoont': 1,\n",
       "         'drag': 1,\n",
       "         'similarli': 1,\n",
       "         'decent': 1,\n",
       "         'knew': 1,\n",
       "         'indispens': 1,\n",
       "         'among': 1,\n",
       "         'depend': 1,\n",
       "         'crapp': 1,\n",
       "         'faboulu': 1,\n",
       "         'local': 1,\n",
       "         'ofcours': 1,\n",
       "         'intrest': 1,\n",
       "         'suit': 1,\n",
       "         'havrm': 1,\n",
       "         'frustat': 1,\n",
       "         'dev': 1,\n",
       "         'assist': 1,\n",
       "         'thk': 1,\n",
       "         'fanci': 1,\n",
       "         'minim': 1,\n",
       "         'advic': 1,\n",
       "         'kushagra': 1,\n",
       "         'thier': 1,\n",
       "         'nearli': 1,\n",
       "         'writer': 1,\n",
       "         'deal': 1,\n",
       "         'reli': 1,\n",
       "         'categori': 1,\n",
       "         'tragic': 1,\n",
       "         'million': 1,\n",
       "         'dig': 1,\n",
       "         'up': 1,\n",
       "         'regist': 1,\n",
       "         'state': 1,\n",
       "         'numer': 1,\n",
       "         'vari': 1,\n",
       "         'confus': 1,\n",
       "         'mayb': 1,\n",
       "         'lah': 1,\n",
       "         'chill': 1,\n",
       "         'spoil': 1,\n",
       "         'funcouldnt': 1,\n",
       "         'prblmsam': 1,\n",
       "         'profression': 1,\n",
       "         'amzingli': 1,\n",
       "         'quickest': 1,\n",
       "         'applicationveri': 1,\n",
       "         'water': 1,\n",
       "         'markthank': 1,\n",
       "         'eid': 1,\n",
       "         'mubarak': 1,\n",
       "         'advis': 1,\n",
       "         'gamer': 1,\n",
       "         'shark': 1,\n",
       "         'unus': 1,\n",
       "         'junk': 1,\n",
       "         'defenetley': 1,\n",
       "         'reccomend': 1,\n",
       "         nan: 1,\n",
       "         'buffer': 1,\n",
       "         'tier': 1,\n",
       "         'instead': 1,\n",
       "         'grey': 1,\n",
       "         'countri': 1,\n",
       "         'stressful': 1,\n",
       "         'vain': 1,\n",
       "         'ss': 1,\n",
       "         'introduc': 1,\n",
       "         'colleagu': 1,\n",
       "         'ez': 1,\n",
       "         'wan': 1,\n",
       "         'ilov': 1,\n",
       "         'ive': 1,\n",
       "         'loooooveee': 1,\n",
       "         'fals': 1,\n",
       "         'notic': 1,\n",
       "         'situat': 1,\n",
       "         'neither': 1,\n",
       "         'creatur': 1,\n",
       "         'challeng': 1,\n",
       "         'promo': 1,\n",
       "         'autntico': 1,\n",
       "         'e': 1,\n",
       "         'indito': 1,\n",
       "         'amo': 1,\n",
       "         'demai': 1,\n",
       "         'ess': 1,\n",
       "         'courier': 1,\n",
       "         'immens': 1,\n",
       "         'deciph': 1,\n",
       "         'complimentari': 1,\n",
       "         'anymor': 1,\n",
       "         'asort': 1,\n",
       "         'terbaik': 1,\n",
       "         'muahhh': 1,\n",
       "         'encount': 1,\n",
       "         'kid': 1,\n",
       "         'parti': 1,\n",
       "         'customiz': 1,\n",
       "         'bekar': 1,\n",
       "         'hai': 1,\n",
       "         'meant': 1,\n",
       "         'underlin': 1,\n",
       "         'boost': 1,\n",
       "         'outsid': 1,\n",
       "         '^_^': 1,\n",
       "         'shyt': 1,\n",
       "         'non': 1,\n",
       "         'tech': 1,\n",
       "         'waaa': 1,\n",
       "         'touch': 1,\n",
       "         'sampl': 1,\n",
       "         'appli': 1,\n",
       "         '[': 1,\n",
       "         'idk': 1,\n",
       "         ']': 1,\n",
       "         'bugsth': 1,\n",
       "         'key': 1,\n",
       "         'postspleas': 1,\n",
       "         'minor': 1,\n",
       "         'toll': 1,\n",
       "         'hust': 1,\n",
       "         'front': 1,\n",
       "         'semma': 1,\n",
       "         'ba': 1,\n",
       "         'atleast': 1,\n",
       "         'eleg': 1,\n",
       "         ...})"
      ]
     },
     "execution_count": 182,
     "metadata": {},
     "output_type": "execute_result"
    }
   ],
   "source": [
    "counts"
   ]
  },
  {
   "cell_type": "code",
   "execution_count": 183,
   "metadata": {},
   "outputs": [
    {
     "data": {
      "text/plain": [
       "1656"
      ]
     },
     "execution_count": 183,
     "metadata": {},
     "output_type": "execute_result"
    }
   ],
   "source": [
    "len(counts)"
   ]
  },
  {
   "cell_type": "code",
   "execution_count": 184,
   "metadata": {},
   "outputs": [
    {
     "data": {
      "text/plain": [
       "[('app', 932),\n",
       " ('use', 474),\n",
       " ('design', 349),\n",
       " ('easi', 293),\n",
       " ('love', 220),\n",
       " ('good', 219),\n",
       " ('edit', 191),\n",
       " ('make', 190),\n",
       " ('great', 184),\n",
       " ('canva', 173)]"
      ]
     },
     "execution_count": 184,
     "metadata": {},
     "output_type": "execute_result"
    }
   ],
   "source": [
    "counts.most_common(10)"
   ]
  },
  {
   "cell_type": "code",
   "execution_count": 187,
   "metadata": {},
   "outputs": [],
   "source": [
    "word_list = reviews.explode(column=\"review\")[\"review\"].to_list()"
   ]
  },
  {
   "cell_type": "code",
   "execution_count": 189,
   "metadata": {},
   "outputs": [
    {
     "name": "stdout",
     "output_type": "stream",
     "text": [
      "['overal', 'realli', 'amaz', 'app', 'use', 'past', 'year', 'howev', 'one', 'issu', 'though', 'want', 'get', 'address', 'sinc', 'think', 'issu', 'last', 'mani', 'year', 'text', 'blur', 'zoom', 'pixel', 'thought', 'issu', 'occur', 'mobil', 'app', 'howev', 'also', 'present', 'websit', 'pleas', 'fix', 'still', 'rememb', 'time', 'export', 'high', 'definit', 'text', 'love', 'experi', 'thank', 'hey', 'ye', 'gave', 'star', 'rate', 'coz', 'believ', 'deserv', 'mostli', 'use', 'desktop', 'version', 'serious', 'satisfi', 'app', 'android', 'desktop', 'version', 'came', 'thank', 'develop', 'beauti', 'app', 'facil', 'liter', 'find', 'almost', 'everyth', 'need', 'best', 'part', 'even', 'without', 'premium', 'featur', 'provid', 'us', 'lot', 'mani', 'facil', 'love', 'thank', 'canva', 'use', 'good', 'app', 'recent', 'face', 'issu', 'save', 'file', 'want', 'file', 'save', 'png', 'format', 'get', 'save', 'jpg', 'format', 'moreov', 'want', 'file', 'save', 'get', 'stuck', 'download', 'screen', 'call', 'magic', 'happen', 'get', 'star', 'hope', 'fix', 'app', 'soon', 'thank', 'brilliant', 'app', 'one', 'problem', 'edit', 'post', 'doubl', 'tap', 'photo', 'reposit', 'start', 'zoom', 'photo', 'time', 'app', 'crash', 'restart', 'lg', 'g', 'se', 'sometim', 'go', 'desktop', 'version', 'pc', 'reposit', 'zoom', 'photo', 'want', 'resum', 'edit', 'back', 'mobil', 'great', 'app', 'use', 'make', 'bt', 'meme', 'recent', 'updat', 'abl', 'chang', 'font', 'style', 'edit', 'option', 'font', 'miss', 'tri', 'uninstal', 'instal', 'app', 'still', 'nt', 'work', 'edit', 'option', 'font', 'appear', 'rare', 'previou', 'version', 'far', 'better', 'canva', 'could', 'pleas', 'work', 'app', 'realli', 'great', 'given', 'fact', 'first', 'time', 'give', 'review', 'app', 'great', 'creat', 'logo', 'flier', 'small', 'compani', 'busi', 'although', 'gave', 'star', 'need', 'data', 'oper', 'love', 'see', 'newer', 'version', 'nt', 'use', 'data', 'use', 'app', 'great', 'job', 'canva', 'great', 'app', 'basic', 'design', 'job', 'well', 'rate', 'star', 'keep', 'take', 'featur', 'away', 'free', 'version', 'put', 'behind', 'subscript', 'wall', 'rather', 'creat', 'new', 'featur', 'ad', 'new', 'font', 'graphic', 'premium', 'also', 'feel', 'subscript', 'price', 'mo', 'pretti', 'steep', 'someon', 'nt', 'use', 'busi', 'everi', 'singl', 'day', 'want', 'hand', 'font', 'use', 'app', 'last', 'month', 'use', 'make', 'thumbnail', 'banner', 'video', 'watermark', 'thumbnail', 'look', 'much', 'attract', 'app', 'mani', 'peopl', 'attract', 'come', 'video', 'give', 'star', 'mani', 'ad', 'still', 'love', 'app', 'thank', 'make', 'wonder', 'app', 'thank', 'superb', 'user', 'interfac', 'finish', 'edit', 'first', 'video', 'wonder', 'awesom', 'paid', 'version', 'hope', 'app', 'make', 'product', 'label', 'put', 'label', 'mock', 'bottl', 'exampl', 'like', 'full', 'function', 'adob', 'kind', 'need', 'skill', 'set', 'prefer', 'easi', 'edit', 'like', 'app', 'thank', 'canva', 'start', 'trial', 'everyth', 'work', 'pretti', 'well', 'decid', 'purchas', 'everi', 'month', 'guess', 'everi', 'video', 'edit', 'save', 'never', 'save', 'even', 'mani', 'time', 'tri', 'said', 'save', 'check', 'file', 'never', 'seen', 'pictur', 'caption', 'blur', 'need', 'screenshoot', 'crop', 'use', 'edit', 'design', 'happen', 'canva', 'wast', 'moneyyyi', 'hope', 'solv', 'problem', 'pleas', 'realli', 'great', 'edit', 'app', 'around', 'make', 'great', 'everyth', 'need', 'basic', 'edit', 'make', 'edit', 'easier', 'premad', 'tool', 'sticker', 'design', 'etc', 'gave', 'four', 'star', 'slow', 'load', 'especi', 'start', 'app', 'pretti', 'stress', 'realli', 'got', 'ta', 'patienc', 'wait', 'stuff', 'load', 'troubl', 'download', 'file', 'recent', 'even', 'clean', 'cach', 'stuck', 'download', 'page', '``', 'call', 'make', 'magic', 'happen', 'window', 'even', 'went', 'extend', 'uninstal', 'reinstal', 'app', 'still', 'recent', 'problem', 'occur', 'alright', 'premium', 'user', 'problem', 'still', 'nt', 'improv', 'disappoint', 'might', 'well', 'discontinu', 'membership', 'great', 'app', 'although', 'prefer', 'desktop', 'version', 'wish', 'canva', 'option', 'close', 'caption', 'video', 'unabl', 'save', 'work', 'noth', 'work', 'app', 'realli', 'help', 'edit', 'kind', 'graphic', 'turn', 'art', 'informat', 'develop', 'realli', 'brilliant', 'abl', 'save', 'money', 'app', 'consist', 'thousand', 'readi', 'use', 'templat', 'user', 'friendli', 'design', 'resum', 'poster', 'conveni', 'easi', 'use', 'time', 'app', 'crashesanoth', 'main', 'issu', 'slide', 'bottom', 'panel', 'edit', 'interfac', 'randomli', 'select', 'icon', 'frustrat', 'bze', 'go', 'transpar', 'tool', 'font', 'size', 'tool', 'automat', 'select', 'anoth', 'issu', 'thumbnail', 'problem', 'ca', 'nt', 'distinguish', 'particular', 'templat', 'bze', 'thumbnail', 'may', 'show', 'imag', 'previou', 'work', 'done', 'templat', 'hate', 'nt', 'desktop', 'version', 'easier', 'anticip', 'thank', 'complet', 'garbag', 'partial', 'garbag', 'live', 'canva', 'much', 'first', 'time', 'app', 'far', 'good', 'could', 'nt', 'find', 'option', 'transpar', 'background', 'nt', 'work', 'bad', 'great', 'featur', 'desktop', 'version', 'nt', 'open', 'design', 'even', 'let', 'make', 'new', 'one', 'sent', 'video', 'screenshot', 'canvameandroid', 'pleas', 'look', 'asap', 'lot', 'project', 'social', 'media', 'site', 'client', 'project', 'freelanc', 'site', 'pend', 'realli', 'good', 'app', 'ever', 'use', 'anyth', 'want', 'creat', 'anywher', 'without', 'glitch', 'love', 'nice', 'app', 'add', 'gradient', 'colour', 'option', 'need', 'much', 'lebel', 'design', 'anoth', 'thing', 'remov', 'zoom', 'option', 'help', 'thank', 'pleas', 'app', 'great', 'tbh', 'recent', 'take', 'long', 'save', 'imag', 'even', 'though', 'connect', 'strong', 'app', 'go', 'worst', 'worst', 'everi', 'updat', 'lag', 'crash', 'becom', 'hobbi', 'app', 'aften', 'automat', 'close', 'work', 'sometim', 'auto', 'restart', 'also', 'take', 'much', 'time', 'open', 'final', 'team', 'decid', 'uninstal', 'app', 'use', 'adob', 'spark', 'howev', 'adob', 'spark', 'nt', 'enough', 'featur', 'perform', 'app', 'better', 'canva', 'good', 'app', 'keep', 'say', 'get', 'pro', 'version', 'take', 'lot', 'time', 'load', 'asap', 'also', 'glitch', 'alot', 'say', 'net', 'low', 'pleas', 'fix', 'fantast', 'applic', 'photo', 'edit', 'much', 'happi', 'instal', 'realli', 'realli', 'realli', 'good', 'app', 'logo', 'thing', 'like', 'much', 'want', 'youtub', 'logo', 'thumbnail', 'anyth', 'pleas', 'instal', 'app', 'app', 'good', 'app', 'good', 'ca', 'nt', 'believ', 'ever', 'find', 'someth', 'good', 'like', 'app', 'perfect', 'beginn', 'well', 'beginn', 'say', 'realli', 'perfect', 'one', 'read', 'instal', 'app', 'right', 'away', 'realli', 'easi', 'realli', 'good', 'realli', 'cool', 'use', 'app', 'awhil', 'paid', 'pro', 'recent', 'updat', 'annoy', 'issu', 'share', 'mode', 'share', 'file', 'use', 'app', 'save', 'work', 'first', 'go', 'galleri', 'n', 'manual', 'share', 'share', 'button', 'work', 'could', 'u', 'fix', 'prob', 'month', 'tri', 'log', 'n', 'plu', 'uninstal', 'instal', 'still', 'problem', 'awesom', 'app', 'make', 'posterlogo', 'make', 'sooo', 'easi', 'thank', 'develop', 'design', 'alway', 'close', 'tri', 'log', 'attempt', 'open', 'first', 'nt', 'abl', 'save', 'photo', 'creat', 'instal', 'uninstal', 'problem', 'could', 'nt', 'abl', 'least', 'log', 'crash', 'right', 'away', 'thank', 'app', 'abl', 'design', 'mybloho', 'busi', 'card', 'eas', 'look', 'forward', 'use', 'advertis', 'social', 'media', 'yay', 'canva', 'help', 'reach', 'goal', 'thank', 'like', 'app', 'interest', 'help', 'make', 'differ', 'graphic', 'one', 'best', 'photo', 'creator', 'android', 'easi', 'use', 'get', 'mani', 'design', 'templat', 'free', 'nice', 'app', 'per', 'satisfi', 'recommend', 'everyon', 'better', 'use', 'use', 'websit', 'desin', 'page', 'design', 'could', 'nt', 'save', 'share', 'happen', 'time', 'program', 'sever', 'weak', 'output', 'work', 'save', 'time', 'take', 'lot', 'time', 'great', 'app', 'total', 'recommend', 'small', 'busi', 'owner', 'etc', 'would', 'get', 'like', 'templat', 'resiz', 'option', 'free', 'version', 'plz', 'wonder', 'place', 'creativ', 'mani', 'templat', 'play', 'help', 'small', 'busi', 'fantast', 'app', 'love', 'day', 'day', 'life', 'realli', 'cool', 'use', 'profession', 'benefit', 'properli', 'use', 'app', 'canva', 'best', 'app', 'servic', 'creat', 'beauti', 'high', 'qualiti', 'design', 'use', 'year', 'variou', 'purpos', 'canva', 'never', 'dissapoont', 'tool', 'offer', 'level', 'qualiti', 'simplic', 'love', 'good', 'until', 'ca', 'nt', 'use', 'app', 'drag', 'imag', 'screen', 'glitch', 'want', 'help', 'canva', 'custom', 'servic', 'horribl', 'got', 'kind', 'new', 'glitch', 'app', 'use', 'find', 'mobil', 'ca', 'nt', 'chang', 'font', 'project', 'incred', 'frustrat', 'canva', 'work', 'phone', 'nice', 'appi', 'prefer', 'download', 'high', 'qualiti', 'imag', 'far', 'mobil', 'design', 'app', 'impress', 'similarli', 'edit', 'desktop', 'app', 'version', 'easili', 'make', 'small', 'chang', 'quickli', 'creat', 'someth', 'new', 'need', 'pretti', 'intuit', 'interfac', 'realli', 'like', 'one', 'free', 'option', 'decent', 'still', 'play', 'around', 'updat', 'later', 'easi', 'use', 'mani', 'free', 'option', 'best', 'edit', 'creat', 'logo', 'imag', 'video', 'love', 'never', 'knew', 'could', 'design', 'banner', 'phone', 'easi', 'use', 'perfect', 'app', 'easi', 'use', 'get', 'use', 'lot', 'free', 'option', 'afford', 'subscript', 'absolut', 'love', 'canva', 'help', 'make', 'design', 'indispens', 'thank', 'awesom', 'app', 'peopl', 'ca', 'nt', 'afford', 'premium', 'without', 'premium', 'peopl', 'reset', 'phone', 'download', 'canva', 'log', 'problem', 'option', 'reset', 'password', 'bad', 'easi', 'use', 'mani', 'free', 'option', 'choos', 'far', 'like', 'canva', 'nt', 'done', 'much', 'person', 'yet', 'made', 'thing', 'easi', 'know', 'other', 'use', 'canva', 'make', 'someth', 'turn', 'great', 'also', 'like', 'said', 'easi', 'right', 'pro', 'use', 'free', 'option', 'howev', 'may', 'look', '``', 'pro', 'offer', 'one', 'among', 'best', 'photo', 'edit', 'graphic', 'design', 'poster', 'make', 'app', 'whole', 'work', 'depend', 'canva', 'realli', 'good', 'app', 'edit', 'ca', 'nt', 'write', 'photo', 'want', 'write', 'use', 'canva', 'year', 'log', 'new', 'phone', 'abl', 'add', 'text', 'realli', 'annoy', 'pleas', 'tell', 'wrong', 'crapp', 'ever', 'anyth', 'besid', 'crash', 'everi', 'time', 'open', 'great', 'present', 'faboulu', 'task', 'less', 'time', 'want', 'get', 'interest', 'featur', 'get', 'idea', 'work', 'wonder', 'app', 'easi', 'use', 'local', 'languag', 'option', 'font', 'wonder', 'app', 'recent', 'updat', 'canva', 'app', 'latest', 'updat', 'keep', 'reload', 'keep', 'close', 'app', 'fix', 'pleas', 'thank', 'great', 'app', 'love', 'easi', 'use', 'varieti', 'thing', 'amaz', 'app', 'ofcours', 'im', 'face', 'crash', 'app', 'pleas', 'fix', 'soon', 'deadlin', 'reach', 'soon', 'good', 'video', 'photo', 'edit', 'app', 'function', 'much', 'design', 'great', 'app', 'easi', 'use', 'intrest', 'templat', 'love', 'perfect', 'suit', 'love', 'much', 'nt', 'lag', 'worst', 'ever', 'attract', 'first', 'everyth', 'turn', 'pro', 'item', 'requir', 'payment', 'download', 'design', 'havrm', 'tri', 'everyth', 'go', 'happen', 'great', 'app', 'lot', 'free', 'templat', 'good', 'simpl', 'app', 'lot', 'featur', 'good', 'stuff', 'go', 'intuit', 'best', 'use', 'laptop', 'version', 'awesom', 'app', 'good', 'busi', 'lot', 'fun', 'use', 'app', 'job', 'also', 'done', 'well', 'great', 'app', 'crash', 'keep', 'restart', 'frustat', 'unabl', 'use', 'app', 'far', 'good', 'lot', 'free', 'design', 'simpl', 'beginn', 'like', 'use', 'hi', 'canva', 'dev', 'team', 'love', 'app', 'latest', 'updat', 'save', 'design', 'use', 'android', 'phone', 'use', 'work', 'perfectli', 'pl', 'assist', 'thk', 'mark', 'love', 'easi', 'style', 'fanci', 'love', 'app', 'payment', 'minim', 'platform', 'easier', 'use', 'app', 'laptop', 'year', 'love', 'app', 'use', 'app', 'everi', 'ppt', 'poster', 'other', 'mani', 'competit', 'make', 'video', 'ppt', 'canva', 'realli', 'advic', 'everyon', 'use', 'app', 'kushagra', 'one', 'best', 'app', 'ever', 'use', 'major', 'templat', 'free', 'cost', 'thier', 'qualiti', 'awesom', 'use', 'app', 'nearli', 'month', 'nt', 'face', 'problem', 'make', 'work', 'way', 'easi', 'super', 'amaz', 'app', 'easi', 'use', 'recommend', 'everyday', 'app', 'cool', 'provid', 'free', 'templat', 'edit', 'make', 'us', 'writer', 'easier', 'find', 'interest', 'book', 'cover', 'other', 'thank', 'provid', 'cool', 'app', 'canva', 'great', 'deal', 'job', 'edit', 'photo', 'love', 'templat', 'offer', 'might', 'lose', 'work', 'reli', 'much', 'autosav', 'featur', 'like', 'despit', 'use', 'app', 'tool', 'need', 'free', 'version', 'paid', 'version', 'categori', 'option', 'enabl', 'great', 'app', 'easi', 'use', 'fantast', 'end', 'result', 'work', 'disappear', 'sure', 'what', 'happen', 'app', 'tragic', 'experi', 'anyon', 'use', 'app', 'design', 'thing', 'one', 'best', 'app', 'make', 'present', 'need', 'go', 'anywher', 'download', 'extra', 'photo', 'add', 'find', 'million', 'option', 'nice', 'app', 'never', 'new', 'could', 'creat', 'design', 'free', 'look', 'app', 'design', 'definit', 'tri', 'canva', 'app', 'realli', 'amaz', 'love', 'coz', 'give', 'best', 'templat', 'tool', 'content', 'easi', 'use', 'lot', 'great', 'design', 'nice', 'app', 'provid', 'templat', 'easi', 'custom', 'ad', 'pictur', 'galleri', 'anim', 'letter', 'dig', 'help', 'make', 'mock', 'up', 'easili', 'problem', 'far', 'abl', 'regist', 'time', 'get', 'error', 'state', 'technic', 'issu', 'make', 'easi', 'post', 'graphic', 'simpl', 'anim', 'instagram', 'canva', 'amaz', 'easi', 'use', 'absolut', 'love', 'app', 'go', 'media', 'need', 'canva', 'easi', 'use', 'free', 'templat', 'numer', 'vari', 'thank', 'good', 'softwar', 'logo', 'youtub', 'thumbnail', 'poster', 'easi', 'creat', 'poster', 'love', 'app', 'good', 'app', 'get', 'confus', 'sometim', 'mayb', 'caus', 'first', 'time', 'use', 'overal', 'good', 'amaz', 'help', 'lot', 'make', 'differ', 'design', 'pro', 'subscrib', 'still', 'love', 'canva', 'great', 'app', 'would', 'recommend', 'auto', 'save', 'someth', 'happen', 'edit', 'know', 'lah', 'photo', 'video', 'stay', 'place', 'peac', 'chill', 'love', 'first', 'until', 'updat', 'version', 'spoil', 'funcouldnt', 'open', 'fast', 'app', 'exit', 'whole', 'lot', 'disturb', 'internet', 'prblmsam', 'disappoint', 'pay', 'pro', 'subscript', 'monthli', 'allow', 'use', 'pro', 'featur', 'without', 'watermark', 'help', 'best', 'design', 'platform', 'mani', 'awesom', 'free', 'option', 'high', 'qualiti', 'even', 'free', 'version', 'make', 'feel', 'like', 'editor', 'best', 'app', 'edit', 'thumbnail', 'present', 'stori', 'poster', 'mani', 'u', 'must', 'tri', 'best', 'app', 'world', 'make', 'ppt', 'wallpap', 'everi', 'thing', 'els', 'sure', 'tri', 'well', 'app', 'poster', 'edit', 'best', 'thing', 'canva', 'ad', 'free', 'nice', 'use', 'use', 'long', 'time', 'hang', 'phone', 'that', 'give', 'realli', 'fabul', 'app', 'app', 'could', 'make', 'realli', 'nice', 'profression', 'thumbnail', 'could', 'edit', 'anyth', 'amzingli', 'video', 'canva', 'far', 'best', 'quickest', 'way', 'creat', 'thumbnail', 'channel', 'realli', 'help', 'lot', 'super', 'applicationveri', 'easi', 'use', 'without', 'water', 'markthank', 'creater', 'one', 'best', 'mobil', 'design', 'app', 'easi', 'use', 'plu', 'design', 'fun', 'great', 'applic', 'help', 'make', 'birthday', 'eid', 'mubarak', 'facebook', 'cover', 'amaz', 'want', 'becom', 'design', 'best', 'best', 'app', 'ever', 'use', 'creat', 'poster', 'flyer', 'great', 'simpl', 'beginn', 'well', 'app', 'suck', 'badli', 'open', 'app', 'time', 'time', 'shut', 'phone', 'time', 'delet', 'advis', 'anyon', 'use', 'horribl', 'app', 'good', 'video', 'edit', 'set', 'text', 'anim', 'set', 'app', 'pleas', 'improv', 'option', 'option', 'want', 'free', 'version', 'great', 'app', 'need', 'logo', 'like', 'gamer', 'logo', 'want', 'shark', 'someth', 'like', 'nt', 'someth', 'like', 'annoy', 'use', 'use', 'mobil', 'version', 'good', 'updat', 'glitchi', 'almost', 'unus', 'pleas', 'fix', 'junk', 'app', 'charg', 'automat', 'offer', 'refund', 'never', 'consid', 'use', 'defenetley', 'reccomend', 'good', 'app', 'student', 'edit', 'project', 'eas', 'choos', 'variou', 'design', 'easi', 'simpl', 'use', 'good', 'app', 'graphic', 'design', 'logo', 'still', 'learn', 'use', 'seem', 'simpl', 'nice', 'design', nan, 'easi', 'use', 'love', 'templat', 'canva', 'awesom', 'app', 'creat', 'tone', 'school', 'project', 'problem', 'lag', 'bit', 'otherwis', 'love', 'excel', 'stuff', 'improv', 'save', 'system', 'nt', 'work', 'smoothli', 'thank', 'canva', 'profession', 'graphic', 'design', 'softwar', 'wonder', 'job', 'everyth', 'great', 'kept', 'buffer', 'download', 'video', 'project', 'pleas', 'fix', 'issu', 'love', 'app', 'order', 'first', 'poster', 'got', 'week', 'use', 'free', 'ship', 'qualiti', 'top', 'tier', 'could', 'make', 'featur', 'delet', 'everyth', 'instead', 'click', 'one', 'time', 'thank', 'advanc', 'pleas', 'solv', 'bug', 'export', 'download', 'anyth', 'download', 'full', 'album', 'overal', 'good', 'experi', 'troubl', 'download', 'project', 'button', 'grey', 'cant', 'press', 'also', 'tri', 'save', 'project', 'save', 'button', 'nt', 'even', 'show', 'simpl', 'use', 'lot', 'option', 'user', 'friendli', 'good', 'app', 'great', 'ca', 'nt', 'access', 'pro', 'featur', 'countri', 'nt', 'onlin', 'payment', 'great', 'tool', 'thank', 'much', 'app', 'find', 'use', 'get', 'thing', 'quick', 'profession', 'hate', 'new', 'layout', 'stressful', 'also', 'find', 'difficult', 'save', 'work', 'good', 'app', 'design', 'logo', 'ton', 'option', 'custom', 'absolut', 'love', 'app', 'easi', 'use', 'great', 'featur', 'opinion', 'app', 'smooth', 'good', 'work', 'edit', 'reason', 'rate', 'star', 'tri', 'save', 'design', 'either', 'problem', 'get', 'stuck', 'last', 'therefor', 'work', 'goe', 'vain', 'know', 'take', 'ss', 'qualiti', 'ruin', 'hope', 'develop', 'fix', 'instal', 'app', 'good', 'app', 'video', 'imag', 'everyth', 'make', 'sure', 'look', 'like', 'profession', 'made', 'beauti', 'experi', 'sinc', 'start', 'use', 'app', 'love', 'sinc', 'introduc', 'friend', 'colleagu', 'super', 'ez', 'use', 'wan', 'na', 'creat', 'great', 'social', 'media', 'market', 'content', 'budget', 'fantast', 'option', 'easi', 'use', 'gr', 'design', 'free', 'templat', 'ilov', 'app', 'best', 'logo', 'design', 'nice', 'app', 'creat', 'mani', 'design', 'make', 'easi', 'design', 'easi', 'app', 'bug', 'im', 'unabl', 'edit', 'content', 'sinc', 'ive', 'updat', 'what', 'happen', 'loooooveee', 'app', 'easi', 'use', 'profession', 'output', 'download', 'applic', 'give', 'fals', 'notic', 'connect', 'mobil', 'network', 'connect', 'internet', 'abl', 'download', 'design', 'video', 'subscrib', 'pro', 'version', 'think', 'need', 'cancel', 'situat', 'stay', 'app', 'longer', 'work', 'abl', 'use', 'day', 'neither', 'save', 'download', 'finish', 'work', 'suck', 'nice', 'app', 'good', 'creat', 'banner', 'option', 'avail', 'make', 'banner', 'beauti', 'help', 'app', 'creat', 'beauti', 'creatur', 'outstand', 'love', 'canva', 'game', 'changer', 'us', 'challeng', 'design', 'mostli', 'use', 'portfolio', 'resum', 'also', 'social', 'media', 'promo', 'super', 'easi', 'use', 'design', 'super', 'autntico', 'e', 'indito', 'amo', 'demai', 'ess', 'app', 'dope', 'good', 'beginn', 'cuz', 'alot', 'free', 'stuff', 'canva', 'best', 'graphic', 'design', 'app', 'known', 'long', 'time', 'alway', 'like', 'great', 'app', 'complaint', 'ca', 'nt', 'use', 'offlin', 'everyth', 'fine', 'recent', 'l', 'ca', 'nt', 'download', 'design', 'l', 'updat', 'app', 'still', 'experienc', 'problem', 'help', 'good', 'app', 'youtub', 'courier', 'good', 'make', 'thumbnail', 'graphic', 'design', 'basic', 'photoshop', 'amaz', 'quick', 'help', 'immens', 'social', 'media', 'content', 'market', 'content', 'great', 'interfac', 'easi', 'deciph', 'complimentari', 'premium', 'app', 'wo', 'nt', 'open', 'anymor', 'keep', 'use', 'googl', 'account', 'continu', 'say', 'error', 'end', 'super', 'love', 'special', 'fact', 'offer', 'free', 'templat', 'stuff', 'awesom', 'asort', 'templat', 'mani', 'differ', 'thing', 'logo', 'add', 'resum', 'love', 'realli', 'amaz', 'app', 'help', 'effici', 'realli', 'like', 'app', 'edit', 'anyth', 'want', 'save', 'instantli', 'use', 'app', 'inde', 'everyon', 'make', 'design', 'need', 'love', 'terbaik', 'love', 'sooo', 'much', 'muahhh', 'simpl', 'edit', 'lot', 'templat', 'alway', 'love', 'canva', 'easi', 'use', 'realli', 'prefect', 'simpl', 'lot', 'templat', 'helpful', 'edit', 'app', 'impress', 'aap', 'issu', 'download', 'print', 'work', 'cant', 'download', 'present', 'made', 'suck', 'kept', 'say', 'canva', 'encount', 'small', 'problem', 'tri', 'download', 'pleas', 'tri', 'edit', 'page', 'text', 'chang', 'difficult', 'edit', 'text', 'good', 'give', 'option', 'edit', 'imag', 'best', 'app', 'long', 'one', 'star', 'first', 'need', 'learn', 'go', 'easi', 'navig', 'much', 'fun', 'creat', 'invit', 'kid', 'parti', 'product', 'help', 'incred', 'customiz', 'varieti', 'good', 'simpl', 'mobil', 'content', 'edit', 'best', 'app', 'would', 'recommend', 'app', 'everyon', 'want', 'edit', 'busi', 'stuff', 'easi', 'use', 'lot', 'good', 'featur', 'fantast', 'awesom', 'applic', 'realli', 'enjoy', 'best', 'simpl', 'mani', 'templat', 'use', 'old', 'version', 'fast', 'better', 'new', 'low', 'respond', 'updat', 'new', 'version', 'work', 'great', 'great', 'option', 'easi', 'use', 'help', 'project', 'one', 'suggest', 'make', 'thing', 'free', 'would', 'great', 'realli', 'love', 'app', 'easi', 'use', 'help', 'much', 'lot', 'fun', 'option', 'everi', 'project', 'skill', 'level', 'like', 'work', 'canva', 'simpl', 'understand', 'use', 'updat', 'canva', 'ca', 'nt', 'save', 'video', 'photo', 'edit', 'game', 'logo', 'bekar', 'hai', 'meant', 'game', 'logo', 'templat', 'useless', 'applic', 'amaz', 'slow', 'pleas', 'fix', 'cant', 'save', 'work', 'mani', 'time', 'good', 'featur', 'would', 'useless', 'cant', 'save', 'world', 'best', 'bad', 'video', 'creat', 'app', 'take', 'mani', 'time', 'export', 'second', 'video', 'ca', 'nt', 'bold', 'underlin', 'text', 'photo', 'click', '``', 'edit', 'noth', 'happen', 'design', 'download', 'mani', 'time', 'use', 'canva', 'boost', 'busi', 'promot', 'amaz', 'use', 'apk', 'busi', 'entrepreneur', 'im', 'design', 'app', 'save', 'time', 'creat', 'design', 'time', 'outsid', 'great', 'flyer', 'promot', 'materi', 'small', 'busi', 'nice', 'app', 'edit', 'logo', 'insta', 'post', 'etc', 'super', 'easi', 'super', 'fun', 'super', 'creativ', 'subscrib', 'great', 'app', 'love', 'use', 'album', 'cover', 'lag', 'issu', 'realli', 'impress', 'team', 'quick', 'repli', 'thank', '^_^', 'fantast', 'app', 'first', 'good', 'hope', 'enjoy', 'continu', 'worst', 'shyt', 'ever', 'slow', 'everi', 'way', 'take', 'hour', 'download', 'project', 'easi', 'frustrat', 'non', 'tech', 'person', 'waaa', 'interest', 'pictur', 'thank', 'canva', 'help', 'edit', 'pictur', 'thank', 'give', 'star', 'easi', 'use', 'love', 'templat', 'would', 'better', 'flexibl', 'touch', 'click', 'sampl', 'use', 'desktop', 'browser', 'appli', 'applic', 'give', 'star', 'thing', '[', 'idk', 'call', ']', 'premium', 'need', 'money', 'overal', 'app', 'good', 'mani', 'bugsth', 'enter', 'key', 'nt', 'even', 'take', 'next', 'line', 'ruin', 'postspleas', 'fix', 'bug', 'minor', 'thing', 'platform', 'use', 'edit', 'youtub', 'thumbnail', 'love', 'like', 'best', 'graphic', 'edit', 'app', 'ever', 'best', 'app', 'social', 'media', 'type', 'toll', 'hust', 'tri', 'forget', 'everyth', 'useful', 'everyth', 'like', 'front', 'page', 'instagram', 'stori', 'realli', 'like', 'app', 'nice', 'app', 'download', 'tri', 'design', 'someth', 'give', 'want', 'nice', 'userfriendli', 'app', 'use', 'semma', 'super', 'ba', 'nice', 'edit', 'invit', 'atleast', 'make', 'version', 'due', 'attract', 'best', 'simpl', 'eleg', 'design', 'sticker', 'cute', 'varieti', 'better', 'easi', 'use', 'interfac', 'great', 'app', 'awesom', 'creat', 'whatev', 'want', 'would', 'love', 'chef', 'cook', 'commer', 'day', 'canva', 'best', 'app', 'far', 'easi', 'use', 'awesom', 'app', 'easi', 'use', 'handi', 'softwar', 'noviceit', 'easi', 'creat', 'poster', 'video', 'erc', 'great', 'power', 'design', 'tool', 'amaz', 'app', 'seen', 'starter', 'still', 'get', 'wt', 'app', 'guiden', 'soon', 'learn', 'use', 'hope', 'fun', 'easi', 'use', 'highli', 'recommend', 'user', 'friendli', 'easi', 'edit', 'super', 'app', 'hd', 'quot', 'pictur', 'gif', 'text', 'awesom', 'canva', 'app', 'good', 'app', 'make', 'present', 'collag', 'etc', 'iam', 'unabl', 'edit', 'text', 'second', 'page', 'editsr', 'frustrat', 'plz', 'solv', 'issu', 'soon', 'good', 'creat', 'channel', 'icon', 'art', 'good', 'app', 'gener', 'issu', 'found', 'help', 'full', 'doubt', 'total', 'usefulltri', 'good', 'app', 'use', 'full', 'help', 'lot', 'good', 'card', 'templat', 'mani', 'design', 'edit', 'great', 'app', 'purpos', 'keep', 'updat', 'effect', 'servic', 'use', 'app', 'last', 'year', 'never', 'disappoint', 'free', 'stuff', 'like', 'one', 'pro', 'user', 'love', 'amaz', 'aap', 'mani', 'option', 'creat', 'idea', 'great', 'help', 'design', 'photo', 'etc', 'thank', 'u', 'much', 'easi', 'use', 'perfect', 'practic', 'good', 'applic', 'use', 'make', 'thumbnail', 'good', 'applic', 'edit', 'creat', 'post', 'recommend', 'pictur', 'download', 'blurri', 'pleas', 'fix', 'problem', 'canva', 'best', 'app', 'illustr', 'wo', 'nt', 'download', 'send', 'other', 'via', 'text', 'email', 'etc', 'app', 'superb', 'get', 'design', 'way', 'great', 'app', 'help', 'heap', 'school', 'work', 'easi', 'rich', 'content', 'avail', 'everyon', 'easi', 'use', 'best', 'edit', 'applic', 'ever', 'amaz', 'app', 'creat', 'personalis', 'ad', 'good', 'app', 'use', 'youtub', 'mani', 'graphic', 'design', 'awesom', 'beginn', 'expertslov', 'tbh', 'tri', 'project', 'app', 'work', 'quit', 'well', 'love', 'amaz', 'app', 'help', 'make', 'youtub', 'channel', 'logo', 'thumbnail', 'experi', 'use', 'app', 'hard', 'start', 'realli', 'enjoy', 'end', 'great', 'editor', 'easi', 'use', 'app', 'excel', 'applic', 'social', 'media', 'market', 'design', 'post', 'give', 'high', 'qualiti', 'imag', 'free', 'advanc', 'photo', 'editor', 'appcreat', 'everi', 'photo', 'genuin', 'wow', 'app', 'amazingfun', 'use', 'play', 'around', 'graphic', 'design', 'great', 'app', 'happili', 'satisfi', 'new', 'updat', 'wo', 'nt', 'allow', 'save', 'glitchi', 'amaz', 'app', 'beginn', 'experienc', 'design', 'common', 'peopl', 'also', 'great', 'app', 'love', 'best', 'design', 'app', 'ever', 'use', 'good', 'applic', 'offic', 'document', 'well', 'organis', 'file', 'thank', 'excel', 'graphic', 'design', 'love', 'applic', 'muchit', 'motiv', 'edit', 'stuff', 'could', 'great', 'app', 'everi', 'biggner', 'skill', 'app', 'provid', 'skill', 'base', 'knowledg', 'thank', 'frustrat', 'take', 'much', 'time', 'save', 'sometim', 'app', 'nt', 'open', 'even', 'wifi', 'connect', 'help', 'nice', 'present', 'poster', 'etc', 'great', 'app', 'mani', 'templat', 'choos', 'app', 'nt', 'open', 'keep', 'ask', 'check', 'network', 'set', 'network', 'fine', 'problem', 'use', 'first', 'friend', 'recommend', 'app', 'said', 'one', 'best', 'app', 'android', 'amaz', 'app', 'ca', 'nt', 'wait', 'play', 'lot', 'featur', 'nice', 'app', 'may', 'kind', 'design', 'canva', 'good', 'app', 'think', 'allow', 'templat', 'make', 'better', 'app', 'best', 'app', 'pictur', 'edit', 'poster', 'make', 'nice', 'app', 'lot', 'thing', 'want', 'use', 'ca', 'nt', 'use', 'premium', 'pack', 'help', 'daili', 'post', 'edit', 'design', 'task', 'run', 'smoothli', 'love', 'canva', 'make', 'life', 'easier', 'need', 'unlimit', 'free', 'user', 'cours', 'limit', 'data', 'use', 'work', 'slow', 'lot', 'bug', 'ca', 'nt', 'guy', 'keep', 'basic', 'edit', 'featur', 'offlin', 'help', 'app', 'small', 'design', 'creator', 'mobil', 'recommend', 'good', 'make', 'edit', 'easier', 'thank', 'amaz', 'design', 'easi', 'use', 'bravo', 'guy', 'aa', 'realli', 'great', 'app', 'type', 'edit', 'app', 'first', 'suggest', 'edit', 'wonder', 'product', 'uniqu', 'design', 'option', 'use', 'app', 'hard', 'give', 'star', 'realli', 'good', 'work', 'guy', 'soo', 'cool', 'easi', 'use', 'alway', 'look', 'someth', 'like', 'one', 'app', 'tone', 'featur', 'realli', 'amaz', 'bcoz', 'templat', 'featur', 'grate', 'app', 'amaz', 'websit', 'creativ', 'fun', 'easi', 'use', 'mani', 'templat', 'choos', 'easi', 'use', 'fun', 'wish', 'music', 'option', 'app', 'keep', 'take', 'money', 'account', 'cancel', 'everytim', 'tri', 'request', 'money', 'back', 'app', 'say', 'wo', 'nt', 'pay', 'back', 'nt', 'seem', 'legitim', 'new', 'updat', 'bad', 'app', 'take', 'forev', 'save', 'design', 'ca', 'nt', 'find', 'element', 'like', 'smoke', 'logo', 'best', 'applic', 'make', 'logo', 'anyth', 'creat', 'logo', 'app', 'amaz', 'fell', 'love', 'first', 'app', 'featur', 'requir', 'two', 'edit', 'get', 'hang', 'therefor', 'give', 'star', 'app', 'super', 'cool', 'user', 'friendli', 'simpli', 'best', 'app', 'go', 'awesom', 'appi', 'nt', 'word', 'explainnic', 'marvel', 'app', 'cool', 'great', 'app', 'learn', 'design', 'guy', 'great', 'job', 'graphic', 'aspect', 'wow', 'easi', 'use', 'great', 'design', 'perfect', 'want', 'superb', 'edit', 'app', 'good', 'qualiti', 'osm', 'perfect', 'easi', 'use', 'easi', 'use', 'design', 'awesom', 'love', 'easi', 'help', 'especi', 'new', 'one', 'best', 'app', 'edit', 'give', 'superb', 'option', 'edit', 'free', 'also', 'new', 'updat', 'make', 'app', 'glitch', 'tri', 'work', 'pleas', 'fix', 'still', 'project', 'easi', 'use', 'much', 'enough', 'readi', 'templat', 'great', 'realli', 'help', 'gave', 'lot', 'option', 'easi', 'use', 'figur', 'effici', 'app', 'help', 'design', 'lot', 'brochur', 'project', 'work', 'thank', 'u', 'canva', 'cool', 'interfac', 'love', 'templat', 'user', 'friendli', 'app', 'help', 'make', 'stuff', 'includ', 'poster', 'post', 'easier', 'id', 'definetli', 'recommend', 'great', 'tool', 'design', 'anyth', 'visual', 'super', 'app', 'youtub', 'thumbnail', 'download', 'gain', 'subscrib', 'excel', 'make', 'design', 'easi', 'definit', 'worth', 'face', 'problem', 'save', 'photo', 'everyth', 'good', 'pro', 'version', 'expens', 'easi', 'useveri', 'use', 'app', 'androidshould', 'better', 'next', 'day', 'provid', 'use', 'featur', 'app', 'cool', 'plzzzzz', 'fix', 'lag', 'problem', 'took', 'much', 'time', 'load', 'imag', 'app', 'bigger', 'odinari', 'emoji', 'keyboard', 'diffrenc', 'absolut', 'clearer', 'wonder', 'app', 'love', 'anyth', 'u', 'wish', 'better', 'picsartgood', 'experi', 'st', 'export', 'nt', 'even', 'finish', 'said', 'prepar', 'minut', 'screenshot', 'work', 'keep', 'lose', 'easi', 'use', 'star', 'moon', 'plu', 'sun', 'app', 'realli', 'love', 'easi', 'use', 'except', 'high', 'qualiti', 'realli', 'good', 'app', 'thumbnail', 'make', 'easi', 'love', 'templat', 'easi', 'edit', 'use', 'find', 'type', 'app', 'found', 'miss', 'bestfreind', 'that', 'need', 'edit', 'app', 'got', 'thank', 'app', 'user', 'friendli', 'profession', 'templat', 'loveee', 'thisss', 'appp', 'want', 'find', 'thank', 'made', 'app', 'whatev', 'like', 'app', 'soo', 'much', 'amaz', 'edit', 'app', 'everyth', 'love', 'canva', 'pro', 'member', 'love', 'yo', 'use', 'make', 'easi', 'design', 'nt', 'like', 'new', 'updat', 'layout', 'good', 'pleas', 'make', 'use', 'awesom', 'edit', 'smoothli', 'easi', 'way', 'awesom', 'thank', 'canva', 'easi', 'simpl', 'use', 'good', 'overal', 'hope', 'outlin', 'colour', 'text', 'ad', 'uninstal', 'right', 'away', 'hang', 'stupidli', 'stupid', 'bug', 'app', 'cant', 'even', 'get', 'one', 'design', 'super', 'use', 'data', 'throughout', 'graphic', 'design', 'one', 'amaz', 'one', 'perfect', 'beginn', 'even', 'expert', 'love', 'nice', 'easi', 'design', 'great', 'app', 'easi', 'edit', 'photo', 'good', 'job', 'wonder', 'easi', 'use', 'design', 'tool', 'edit', 'work', 'properli', 'edit', 'app', 'save', 'thumbnail', 'pleas', 'fix', 'great', 'write', 'back', 'side', 'busi', 'card', 'paid', 'design', 'money', 'deduct', 'account', 'actual', 'amount', 'yet', 'nt', 'design', 'peopl', 'collect', 'money', 'without', 'render', 'servic', 'also', 'take', 'price', 'product', 'canva', 'app', 'wo', 'nt', 'open', 'keep', 'ask', 'check', 'network', 'connect', 'pleas', 'someth', 'help', 'app', 'great', 'mani', 'task', 'solv', 'one', 'favourit', 'app', 'user', 'friendli', 'use', 'kind', 'project', 'great', 'app', 'use', 'advertis', 'photographi', 'busi', 'amaz', 'app', 'easi', 'use', 'templat', 'would', 'love', 'suggest', 'merg', 'option', 'edit', 'merg', 'one', 'text', 'one', 'box', 'easi', 'use', 'great', 'rang', 'templat', 'nice', 'app', 'use', 'canva', 'certif', 'first', 'time', 'blow', 'mind', 'nice', 'app', 'make', 'flyer', 'banner', 'etc', 'good', 'social', 'media', 'limit', 'text', 'featur', 'photo', 'shape', 'awesom', 'app', 'canva', 'start', 'freelanc', 'nice', 'app', 'good', 'app', 'logo', 'design', 'realli', 'use', 'easi', 'use', 'flyer', 'design', 'app', 'easi', 'intuit', 'awesom', 'templat', 'worst', 'lot', 'time', 'automat', 'zoom', 'best', 'app', 'design', 'everi', 'thing', 'facebook', 'instagram', 'post', 'stori', 'incred', 'app', 'wish', 'option', 'reshap', 'pictur', 'eg', 'squar', 'circl', 'etc', 'app', 'bad', 'account', 'use', 'premium', 'account', 'nt', 'use', 'also', 'log', 'feel', 'bad', 'hate', 'best', 'app', 'ever', 'use', 'design', 'need', 'need', 'lil', 'work', 'upgrad', 'video', 'easi', 'use', 'easier', 'navig', 'download', 'one', 'tell', 'pleas', 'free', 'cost', 'use', 'type', 'logo', 'version', 'help', 'make', 'design', 'like', 'pro', 'easi', 'use', 'pc', 'phone', 'nt', 'issu', 'enjoy', 'use', 'canva', 'busi', 'person', 'event', 'pleas', 'make', 'sure', 'imag', 'download', 'fast', 'tooo', 'slow', 'worser', 'otherwis', 'app', 'sooo', 'cute', 'think', 'amaz', 'applic', 'fact', 'welcom', 'come', 'offic', 'get', 'know', 'other', 'much', 'realli', 'super', 'edit', 'app', 'download', 'first', 'nt', 'know', 'use', 'someday', 'app', 'marvel', 'pretti', 'good', 'crop', 'tool', 'pretti', 'hard', 'control', 'servic', 'great', 'great', 'templat', 'love', 'app', 'great', 'busi', 'fun', 'wait', 'long', 'save', 'result', 'edit', 'pleas', 'fix', 'realli', 'help', 'creator', 'give', 'templat', 'super', 'creater', 'forev', 'like', 'friend', 'recommend', 'applic', 'perfect', 'edit', 'mani', 'free', 'templat', 'would', 'great', 'nt', 'keep', 'forget', 'use', 'pro', 'take', 'away', 'certain', 'option', 'resiz', 'stop', 'steal', 'moneyy', 'charg', 'even', 'cancel', 'subscript', 'trial', 'end', 'there', 'request', 'refund', 'fill', 'form', 'submit', 'bottom', 'valid', 'give', 'back', 'moneyim', 'even', 'satisfi', 'app', 'delet', 'love', 'app', 'good', 'edit', 'photo', 'free', 'nt', 'download', 'without', 'login', 'like', 'googl', 'face', 'book', 'work', 'photo', 'editor', 'app', 'ask', 'person', 'inform', 'amaz', 'app', 'use', 'tube', 'video', 'get', 'manni', 'view', 'like', 'app', 'add', 'perfect', 'edit', 'lot', 'free', 'style', 'easi', 'use', 'pleas', 'tell', 'contact', 'email', 'charg', 'twice', 'unabl', 'submit', 'issu', 'kindli', 'help', 'best', 'fastest', 'tool', 'edit', 'photo', 'fli', 'app', 'realli', 'help', 'lot', 'creat', 'graphic', 'make', 'minut', 'good', 'line', 'come', 'present', 'slide', 'show', 'slide', 'number', 'disturb', 'view', 'present', 'thank', 'amaz', 'app', 'without', 'youtub', 'channel', 'would', 'nt', 'exist', 'realli', 'stun', 'app', 'new', 'initi', 'compani', 'realli', 'love', 'conveni', 'easi', 'use', 'app', 'realli', 'amaz', 'problem', 'take', 'time', 'pic', 'download', 'love', 'canva', 'best', 'quick', 'design', 'softwar', 'know', 'definit', 'awesom', 'app', 'graphic', 'design', 'best', 'app', 'ever', 'fan', 'aesthet', 'edit', 'perfect', 'one', 'love', 'app', 'enjoy', 'app', 'edit', 'video', 'pictur', 'app', 'use', 'beginn', 'design', 'wow', 'nice', 'app', 'good', 'futur', 'need', 'fast', 'ca', 'nt', 'insert', 'imag', 'galleri', 'properli', 'everyth', 'want', 'absolut', 'stun', 'app', 'welldon', 'canva', 'team', 'nice', 'app', 'easi', 'use', 'special', 'beginn', 'worst', 'ever', 'experienc', 'free', 'tool', 'nt', 'work', 'like', 'line', 'absolut', 'love', 'canva', 'chang', 'busi', 'love', 'app', 'recent', 'download', 'work', 'take', 'slow', 'doesnt', 'work', 'excel', 'app', 'wish', 'thought', 'idea', 'implement', 'accord', 'wish', 'simpli', 'superb', 'love', 'app', 'mani', 'templat', 'choosw', 'great', 'app', 'though', 'lag', 'sometim', 'great', 'one', 'best', 'photo', 'type', 'social', 'media', 'logo', 'thumbnail', 'font', 'etc', 'edit', 'number', 'one', 'applic', 'easi', 'use', 'full', 'interest', 'edit', 'futur', 'love', 'use', 'app', 'learn', 'photo', 'video', 'edit', 'futur', 'refer', 'app', 'defenatli', 'use', 'easi', 'use', 'understand', 'homepag', 'realli', 'good', 'versatil', 'noob', 'friendli', 'look', 'conveni', 'cool', 'fantast', 'app', 'creat', 'fun', 'pictur', 'logo', 'etc', 'good', 'except', 'app', 'run', 'slow', 'except', 'amaz', 'abl', 'download', 'design', 'irrit', 'pleas', 'resolv', 'issu', 'program', 'great', 'never', 'thought', 'could', 'easili', 'build', 'youtub', 'newer', 'version', 'harder', 'save', 'imag', 'design', 'good', 'app', 'graphic', 'design', 'satisfi', 'final', 'found', 'someth', 'user', 'friendli', 'easi', 'use', 'truli', 'appreci', 'thank', 'one', 'best', 'logo', 'design', 'app', 'u', 'r', 'make', 'ur', 'differ', 'type', 'designit', 'amaz', 'super', 'app', 'graphic', 'design', 'go', 'stay', 'feed', 'advertis', 'advertis', 'wrong', 'place', 'market', 'pertain', 'industri', 'whatsoev', 'great', 'resourc', 'innov', 'favorit', 'app', 'self', 'employ', 'entrepreneur', 'nice', 'abl', 'design', 'ebook', 'without', 'difficulti', 'hi', 'would', 'like', 'file', 'compliant', 'use', 'canva', 'app', 'quit', 'time', 'small', 'project', 'realli', 'appreci', 'applic', 'free', 'featur', 'today', 'design', 'logo', 'suppos', 'make', 'payment', 'small', 'design', 'make', 'payment', 'indian', 'rupe', 'payment', 'success', 'bank', 'applic', 'deni', 'kindli', 'look', 'matter', 'regard', 'cool', 'effici', 'platform', 'easi', 'use', 'even', 'mobil', 'tri', 'mani', 'edit', 'app', 'best', 'app', 'convini', 'use', 'made', 'elect', 'manifesto', 'beauri', 'made', 'osm', 'app', 'easi', 'make', 'logo', 'design', 'difficult', 'find', 'desir', 'design', 'fed', 'daili', 'updat', 'month', 'best', 'app', 'beginn', 'easi', 'use', 'without', 'difficulti', 'open', 'page', 'let', 'sign', 'sinc', 'alreadi', 'account', 'tell', 'log', 'there', 'way', 'canva', 'best', 'like', 'much', 'lot', 'featur', 'thank', 'canva', 'nice', 'app', 'hope', 'add', 'free', 'theme', 'use', 'ooooh', 'love', 'simpli', 'love', 'easi', 'use', 'also', 'save', 'nice', 'easi', 'make', 'good', 'minamilist', 'templat', 'love', 'app', 'good', 'app', 'take', 'lot', 'time', 'download', 'imag', 'excel', 'bit', 'customis', 'would', 'better', 'mani', 'option', 'thing', 'make', 'amaz', 'font', 'auto', 'work', 'without', 'permiss', 'auto', 'tap', 'button', 'ca', 'nt', 'use', 'properli', 'fix', 'good', 'app', 'make', 'banner', 'paperwork', 'ur', 'articl', 'far', 'go', 'app', 'websit', 'design', 'thumbnail', 'great', 'job', 'good', 'subscrib', 'templat', 'avail', 'work', 'accident', 'press', 'enter', 'work', 'disappear', 'super', 'cool', 'easi', 'profession', 'look', 'good', 'graphic', 'design', 'pleas', 'instal', 'free', 'use', 'make', 'photo', 'video', 'wish', 'occas', 'like', 'easi', 'everi', 'thing', 'perfect', 'good', 'graphic', 'design', 'easi', 'usethank', 'apprecommend', 'edit', 'photo', 'video', 'ca', 'nt', 'log', 'pleas', 'even', 'wifi', 'connect', 'excel', 'said', 'low', 'internet', 'connect', 'duh', 'love', 'applic', 'first', 'time', 'use', 'realli', 'good', 'time', 'till', 'still', 'enjoy', 'use', 'app', 'nice', 'easi', 'use', 'great', 'app', 'novic', 'trade', 'entir', 'canva', 'packag', 'make', 'feel', 'like', 'alreadi', 'pro', 'use', 'app', 'year', 'issu', 'download', 'video', 'like', 'easi', 'design', 'platform', 'app', 'versatil', 'user', 'friendli', 'app', 'design', 'need', 'canva', 'one', 'best', 'graphic', 'design', 'ever', 'use', 'best', 'app', 'video', 'edit', 'thank', 'canva', 'best', 'app', 'use', 'app', 'feal', 'best', 'like', 'simplic', 'yet', 'impact', 'give', 'much', 'thank', 'use', 'app', 'without', 'creat', 'account', 'edit', 'allow', 'user', 'access', 'platform', 'without', 'account', 'nt', 'want', 'one', 'nt', 'want', 'sych', 'work', 'awesom', 'app', 'easiest', 'best', 'use', 'thank', 'canva', 'design', 'unabl', 'download', 'also', 'updat', 'app', 'nt', 'work', 'great', 'app', 'make', 'menu', 'suck', 'dowload', 'app', 'instal', 'allreadi', 'becous', 'laggi', 'qualliti', 'suck', 'guess', 'ill', 'gon', 'na', 'dowload', 'picsart', 'great', 'app', 'easi', 'use', 'content', 'qualiti', 'good', 'cool', 'app', 'beginn', 'design', 'think', 'canva', 'inde', 'good', 'go', 'amaz', 'canva', 'app', 'goodi', 'make', 'differ', 'poster', 'great', 'app', 'nt', 'pay', 'pay', 'premium', 'version', 'screen', 'pop', 'repeatedli', 'reason', 'templat', 'end', 'screen', 'nt', 'chosen', 'go', 'rout', 'harass', 'buy', 'uninstal', 'let', 'know', 'greedi', 'greedi', 'greedi', 'alway', 'great', 'experi', 'use', 'satisfactori', 'excel', 'app', 'download', 'mani', 'app', 'best', 'nice', 'applic', 'graphic', 'design', 'amaz', 'app', 'work', 'quot', 'write', 'page', 'cover', 'simpli', 'work', 'ca', 'nt', 'download', 'video', 'creat', 'download', 'use', 'canva', 'long', 'use', 'tool', 'nice', 'plz', 'improv', 'better', 'design', 'font', 'size', 'help', 'applic', 'featur', 'nice', 'quit', 'interest', 'enjoy', 'thrill', 'offer', 'think', 'best', 'far', 'easi', 'use', 'make', 'life', 'easier', 'still', 'learn', 'platform', 'far', 'good', 'great', 'templat', 'user', 'friendli', 'easi', 'use', 'work', 'properlyveri', 'much', 'satisfi', 'good', 'access', 'mani', 'error', 'ca', 'nt', 'type', 'text', 'phone', 'good', 'easi', 'creat', 'poster', 'appi', 'like', 'nice', 'app', 'channel', 'logo', 'stuff', 'like', 'thank', 'softwar', 'awesom', 'great', 'tool', 'make', 'work', 'easier', 'app', 'fantast', 'one', 'interest', 'watermark', 'free', 'use', 'app', 'past', 'day', 'realli', 'appreci', 'effort', 'canva', 'team', 'realli', 'made', 'great', 'app', 'design', 'us', 'excel', 'applic', 'advert', 'couldnt', 'better', 'hello', 'canva', 'ca', 'nt', 'save', 'project', 'canva', 'slowli', 'realli', 'help', 'easi', 'learn', 'make', 'wed', 'invataion', 'wed', 'blog', 'fun', 'educ', 'like', 'alot', 'much', 'fun', 'free', 'easi', 'handl', 'import', 'imag', 'besid', 'app', 'camera', 'galley', 'option', 'love', 'app', 'easi', 'creat', 'canva', 'good', 'design', 'even', 'avail', 'templat', 'love', 'app', 'help', 'keep', 'ur', 'busi', 'updat', 'amaz', 'helpful', 'app', 'work', 'kind', 'project', 'great', 'app', 'easi', 'use', 'love', 'help', 'learn', 'design', 'everyday', 'nice', 'beginn', 'graphic', 'design', 'think', 'best', 'one', 'graphic', 'design', 'app', 'use', 'make', 'video', 'youtub', 'mani', 'thing', 'easi', 'use', 'best', 'applic', 'edit', 'logo', 'lovin', 'excel', 'easi', 'use', 'great', 'platform', 'make', 'poster', 'simpli', 'love', 'app', 'easi', 'use', 'love', 'app', 'hope', 'free', 'design', 'made', 'avail', 'total', 'paid', 'servic', 'ca', 'nt', 'edit', 'video', 'pack', 'nice', 'app', 'must', 'tri', 'one', 'excel', 'edit', 'instagram', 'thank', 'link', 'ad', 'pictur', 'text', 'work', 'share', 'social', 'platform', 'what', 'point', 'ad', 'great', 'appso', 'far', 'best', 'design', 'app', 'nice', 'app', 'hate', 'speed', 'slow', 'get', 'frustrat', 'take', 'forev', 'download', 'app', 'miss', 'pixellab', 'like', 'shadow', 'except', 'servic', 'instantli', 'realli', 'amaz', 'use', 'problem', 'work', 'well', 'thank', 'nice', 'still', 'learn', 'tri', 'design', 'cellphon', 'lil', 'tricki', 'show', 'error', 'dowlad', 'design', 'video', 'loooov', 'app', 'great', 'everyth', 'instagrampostrel', 'unbeliev', 'app', 'need', 'extra', 'thing', 'need', 'arab', 'font', 'pleas', 'never', 'seen', 'better', 'free', 'softwar', 'make', 'superb', 'artwork', 'think', 'mani', 'good', 'cantain', 'come', 'prime', 'mamber', 'ship', 'money', 'make', 'effect', 'attract', 'thumbnail', 'amaz', 'app', 'tri', 'amaz', 'edit', 'logo', 'would', 'rate', 'app', 'star', 'purchas', 'item', 'lmao', 'best', 'app', 'ever', 'seen', 'make', 'video', 'collag', 'mani', 'app', 'luv', 'great', 'app', 'easi', 'access', 'good', 'templatesand', 'overal', 'seem', 'good', 'app', 'time', 'get', 'slow', 'otherwis', 'good', 'app', 'realli', 'enjoy', 'conveni', 'pick', 'construct', 'app', 'much', 'better', 'like', 'app', 'youtub', 'video', 'free', 'use', 'download', 'app', 'face', 'problem', 'ad', 'line', 'word', 'fantast', 'design', 'video', 'imag', 'perfectli', 'like', 'expert', 'realli', 'good', 'app', 'make', 'thumbnail', 'banner', 'love', 'easi', 'quick', 'ca', 'nt', 'save', 'anyth', 'talk', 'long', 'time', 'upload', 'best', 'blank', 'page', 'youtub', 'banner', 'mean', 'cover', 'nice', 'channel', 'love', 'easi', 'use', 'amaz', 'app', 'easi', 'creat', 'everyth', 'ini', 'mind', 'well', 'good', 'app', 'everyth', 'alot', 'great', 'app', 'take', 'forev', 'load', 'user', 'year', 'see', 'featur', 'templat', 'slowli', 'avail', 'free', 'user', 'hope', 'applic', 'nt', 'turn', 'picsart', 'futur', 'iykwim', 'nice', 'easi', 'use', 'app', 'user', 'friendli', 'even', 'novic', 'technolog', 'love', 'canva', 'ad', 'ng', 'text', 'useless', 'recomend', 'download', 'take', 'time', 'load', 'bit', 'slow', 'laggi', 'someth', 'recent', 'chang', 'less', 'userfriendli', 'deceit', 'app', 'never', 'connect', 'gcash', 'pay', 'account', 'charg', 'dont', 'give', 'damn', 'refund', 'lastli', 'worth', 'app', 'awesom', 'love', 'easi', 'beauti', 'use', 'super', 'easi', 'creat', 'superb', 'content', 'one', 'best', 'edit', 'done', 'edit', 'app', 'use', 'easi', 'use', 'explor', 'app', 'excit', 'learn', 'app', 'art', 'design', 'absolut', 'stun', 'templat', 'design', 'best', 'experi', 'new', 'imag', 'entertain', 'busi', 'need', 'best', 'worst', 'either', 'get', 'alot', 'done', 'app', 'appreci', 'okay', 'qualiti', 'updat', 'everi', 'day', 'everi', 'day', 'new', 'updat', 'make', 'app', 'work', 'buggi', 'love', 'app', 'dont', 'like', 'need', 'internet', 'edit', 'repli', 'oh', 'ok', 'didnt', 'know', 'yall', 'need', 'us', 'wifi', 'order', 'save', 'art', 'work', 'thank', 'respond', 'let', 'know', 'everi', 'game', 'use', 'didnt', 'respond', 'problem', 'omg', 'canva', 'best', 'photo', 'feel', 'stylish', 'realli', 'great', 'app', 'charg', 'popular', 'logo', 'good', 'app', 'easi', 'design', 'best', 'app', 'ever', 'even', 'though', 'artist', 'tri', 'creat', 'someth', 'small', 'best', 'cheap', 'app', 'far', 'graphic', 'concern', 'creativ', 'result', 'dexter', 'person', 'give', 'pauciti', 'conceptu', 'thought', 'loyal', 'servic', 'human', 'could', 'becom', 'nobl', 'man', 'ca', 'nt', 'seem', 'ad', 'text', 'poster', 'sure', 'love', 'app', 'allow', 'show', 'artist', 'skill', 'app', 'absolut', 'amaz', 'wide', 'rang', 'varieti', 'love', 'mani', 'option', 'free', 'great', 'app', 'love', 'much', 'use', 'work', 'insta', 'account', 'boss', 'happi', 'easi', 'simpl', 'design', 'aap', 'legit', 'best', 'friend', 'great', 'stress', 'buster', 'help', 'creat', 'mani', 'awesom', 'bday', 'video', 'mani', 'great', 'beauti', 'project', 'ye', 'app', 'purchas', 'care', 'free', 'content', 'good', 'thank', 'creator', 'canva', 'creat', 'soulmat', 'app', 'fantast', 'good', 'servic', 'awsom', 'help', 'lot', 'standard', 'edit', 'best', 'app', 'multitask', 'easi', 'fast', 'way', 'best', 'far', 'free', 'trial', 'wish', 'could', 'get', 'pro', 'dont', 'enough', 'budget', 'awesom', 'app', 'logo', 'banner', 'edit', 'good', 'app', 'lot', 'toolkit', 'love', 'first', 'attempt', 'design', 'busi', 'flyer', 'seamless', 'love', 'canva', 'improv', 'qualiti', 'life', 'person', 'profession', 'good', 'limit', 'option', 'use', 'free', 'amaz', 'design', 'simpl', 'way', 'good', 'option', 'take', 'forev', 'download', 'resum', 'simpl', 'pdfit', 'alreadi', 'minut', 'stil', 'waitingdo', 'even', 'download', 'filepleas', 'help', 'realli', 'need', 'nice', 'templat', 'easi', 'use', 'good', 'app', 'like', 'everyth', 'tri', 'see', 'magic', 'awesom', 'far', 'mani', 'templat', 'choos', 'help', 'design', 'best', 'everyth', 'app', 'realli', 'amaz', 'wait', 'better', 'updat', 'good', 'app', 'graphic', 'design', 'excel', 'app', 'alway', 'love', 'use', 'amz', 'app', 'lot', 'featur', 'enjoy', 'use', 'canva', 'wish', 'could', 'littl', 'bit', 'cheaper', 'love', 'none', 'less', 'reali', 'great', 'app', 'grafic', 'design', 'photo', 'edit', 'much', 'best', 'app', 'industri', 'ever', 'seen', 'websit', 'graphic', 'site', 'creat', 'canva', 'realli', 'matchless', 'app', 'highli', 'recommend', 'apprecit', 'canva', 'invalu', 'work', 'highest', 'qualiti', 'profession', 'good', 'app', 'design', 'logo', 'creat', 'best', 'app', 'save', 'time', 'money', 'excel', 'app', 'work', 'like', 'web', 'app', 'want', 'cancel', 'subscript', 'googl', 'play', 'keep', 'send', 'circl', 'absolut', 'amaz', 'best', 'app', 'ever', 'seen', 'rate', 'app', 'star', 'nice', 'make', 'logo', 'give', 'star', 'help', 'app', 'edit', 'make', 'everi', 'thing', 'take', 'lot', 'time', 'save', 'design', 'good', 'help', 'creat', 'design', 'nice', 'pleas', 'add', 'languag', 'font', 'happi', 'use', 'wonder', 'applicationit', 'easi', 'use', 'make', 'happi', 'first', 'present', 'thank', 'cooper', 'feedback', 'god', 'bless', 'alway', 'get', 'star', 'save', 'devic', 'without', 'pro', 'mean', 'u', 'nt', 'take', 'pro', 'u', 'save', 'hard', 'work', 'like', 'take', 'lot', 'time', 'start', 'sort', 'imag', 'fit', 'onto', 'instagram', 'post', 'like', 'minut', 'awesom', 'one', 'best', 'app', 'young', 'profession', 'entrepreneur', 'nice', 'app', 'make', 'flyer', 'poster', 'one', 'best', 'app', 'design', 'shape', 'creativ', 'best', 'app', 'design', 'like', 'much', 'easi', 'use', 'effect', 'realli', 'nice', 'great', 'design', 'even', 'novic', 'nice', 'app', 'help', 'make', 'stuff', 'easili', 'without', 'stress', 'fabul', 'app', 'problem', 'sometim', 'nt', 'load', 'glitch', 'internet', 'connect', 'even', 'whn', 'internet', 'work', 'quiet', 'fast', 'secondli', 'shift', 'network', 'open', 'app', 'shift', 'back', 'network', 'templat', 'load', 'super', 'fast', 'whn', 'trt', 'open', 'isssu', 'kindli', 'fix', 'problem', 'simpl', 'yet', 'look', 'good', 'design', 'download', 'pl', 'fix', 'good', 'app', 'tri', 'variou', 'app', 'app', 'awesom', 'love', 'mobil', 'download', 'qualiti', 'pant', 'bring', 'back', 'full', 'resolut', 'great', 'app', 'easi', 'learn', 'curv', 'includ', 'stuff', 'design', 'need', 'great', 'easi', 'use', 'ao', 'helpfull', 'use', 'mainli', 'istagram', 'got', 'good', 'design', 'templat', 'one', 'amaz', 'app', 'realli', 'like', 'app', 'one', 'app', 'featur', 'easi', 'design', 'beginn', 'onlin', 'design', 'app', 'use', 'desktop', 'app', 'conveni', 'nice', 'applic', 'look', 'similar', 'applic', 'best', 'design', 'app', 'come', 'across', 'canva', 'best', 'app', 'creat', 'awesom', 'design', 'love', 'app', 'easi', 'use', 'navig', 'great', 'doubt', 'feel', 'much', 'laggi', 'phone', 'unabl', 'download', 'resum', 'pdf', 'need', 'payment', 'hd', 'logo', 'maker', 'nice', 'fix', 'perfect', 'tool', 'graphic', 'design', 'si', 'recommend', 'app', 'like', 'love', 'first', 'sight', 'user', 'friendli', 'cute', 'reliabl', 'app', 'mani', 'option', 'great', 'function', 'easi', 'use', 'nice', 'app', 'pay', 'rate', 'star', 'wish', 'easier', 'edit', 'phone', 'guess', 'need', 'tutori', 'intuit', 'user', 'friendli', 'love', 'improv', 'app', 'thank', 'make', 'better', 'better', 'best', 'place', 'creat', 'content', 'beginn', 'add', 'theme', 'easi', 'work', 'good', 'awesom', 'edit', 'app', 'realli', 'good', 'edit', 'excel', 'tool', 'creat', 'design', 'platform', 'poor', 'bad', 'applic', 'per', 'experi', 'slow', 'take', 'big', 'time', 'use', 'app', 'im', 'use', 'canva', 'pro', 'time', 'save', 'project', 'imag', 'blur', 'easi', 'use', 'ton', 'cool', 'option', 'super', 'edit', 'design', 'app', 'love', 'easi', 'use', 'navig', 'amaz', 'super', 'simpl', 'use', 'help', 'new', 'version', 'extrem', 'slow', 'bit', 'laggi', 'otherwis', 'realli', 'good', 'dont', 'anyth', 'run', 'background', 'game', 'changer', 'heard', 'call', '``', 'cheat', 'graphic', 'design', 'good', 'concept', 'app', 'total', 'garbag', 'cant', 'save', 'poster', 'creat', 'great', 'eco', 'friendli', 'app', 'good', 'unabl', 'chang', 'pictur', 'background', 'everyth', 'gr', 'except', 'take', 'q', 'long', 'time', 'make', 'magic', 'best', 'app', 'everyth', 'want', 'finger', 'tip', 'issu', 'upload', 'video', 'use', 'photo', 'effect', 'import', 'use', 'beginn', 'also', 'peopl', 'easi', 'use', 'maximum', 'result', 'easi', 'design', 'even', 'without', 'profession', 'applic', 'realli', 'help', 'develop', 'one', 'subject', 'teach', 'amaz', 'easi', 'creat', 'video', 'app', 'awesom', 'easi', 'use', 'love', 'love', 'great', 'easi', 'way', 'design', 'busi', 'tip', 'finger', 'nice', 'easi', 'make', 'logo', 'best', 'edit', 'app', 'help', 'lot', 'make', 'flyer', 'small', 'busi', 'love', 'app', 'much', 'use', 'love', 'design', 'perfect', 'love', 'must', 'instal', 'realli', 'want', 'pro', 'version', 'parent', 'said', 'birthday', 'super', 'excit', 'fun', 'app', 'love', 'hope', 'canva', 'repli', 'love', 'app', 'love', 'everi', 'singl', 'templat', 'need', 'ad', 'great', 'creativ', 'outlet', 'perfect', 'diy', 'easi', 'use', 'also', 'lot', 'option', 'play', 'love', 'everyth', 'app', 'make', 'job', 'much', 'easier', 'actual', 'highli', 'recommend', 'type', 'youtub', 'use', 'app', 'bcuz', 'much', 'better', 'overal', 'rate', 'like', 'star', 'ye', 'thought', 'comment', 'goo', 'want', 'everybodi', 'spot', 'use', 'get', 'slo', 'rate', 'ok', 'star', 'keep', 'canva', 'put', 'updat', 'best', 'graphic', 'design', 'app', 'use', 'far', 'good', 'app', 'give', 'star', 'bcoz', 'design', 'free', 'mode', 'superb', 'poster', 'design', 'app', 'good', 'app', 'logo', 'flyer', 'design', 'use', 'app', 'easi', 'use', 'help', 'use', 'valuabl', 'tool', 'connect', 'mani', 'app', 'one', 'best', 'app', 'insta', 'beginn', 'realli', 'good', 'app', 'beginn', 'superb', 'app', 'unbeliev', 'one', 'app', 'mani', 'applic', 'truli', 'love', 'realli', 'fun', 'use', 'even', 'without', 'get', 'premium', 'version', 'help', 'app', 'like', 'everyth', 'app', 'great', 'app', 'hope', 'ad', 'element', 'shap', 'creativ', 'thank', 'canva', 'good', 'format', 'hassl', 'free', 'highli', 'recommend', 'need', 'design', 'canva', 'longer', 'save', 'publish', 'design', 'known', 'issu', 'first', 'open', 'app', 'kinda', 'difficult', 'use', 'thank', 'gracemariyageorg', 'made', 'easi', 'nice', 'app', 'great', 'design', 'templat', 'love', 'app', 'quick', 'easi', 'intuit', 'made', 'right', 'choic', 'download', 'canva', 'plu', 'soooooo', 'easi', 'oper', 'great', 'app', 'design', 'anyth', 'unabl', 'schedul', 'pin', 'past', 'day', 'one', 'best', 'app', 'edit', 'highli', 'prefer', 'alot', 'bug', 'updat', 'pl', 'fix', 'brilliant', 'app', 'thumbnail', 'youtub', 'app', 'like', 'app', 'best', 'design', 'app', 'like', 'app', 'creat', 'profession', 'like', 'thumbnail', 'attract', 'best', 'mani', 'design', 'good', 'app', 'other', 'download', 'ad', 'amaz', 'highli', 'recommend', 'afford', 'profession', 'app', 'love', 'app', 'user', 'interfac', 'access', 'nice', 'easi', 'tous', 'great', 'option', 'fresh', 'style', 'excel', 'app', 'student', 'best', 'app', 'creat', 'flyer', 'logo', 'best', 'graphic', 'maker', 'app', 'forev', 'ever', 'deserv', 'star', 'easi', 'edit', 'thing', 'properli', 'im', 'glad', 'use', 'app', 'great', 'littl', 'tricki', 'phone', 'use', 'get', 'use', 'love', 'design', 'may', 'free', 'thank', 'canva', 'team', 'great', 'app', 'make', 'everyyyyyyth', 'app', 'love', 'help', 'especi', 'wattpad', 'interest', 'app', 'ask', 'use', 'creat', 'day', 'alright', 'nt', 'tri', 'premium', 'version', 'tho', 'insight', 'scope', 'come', 'soon', 'best', 'app', 'design', 'lot', 'design', 'suggest', 'everi', 'platform', 'love', 'app', 'like', 'app', 'make', 'design', 'send', 'anywher', 'u', 'must', 'download', 'canva', 'easi', 'use', 'creat', 'design', 'instal', 'great', 'love', 'help', 'alot', 'thank', 'keep', 'make', 'video', 'resolut', 'realli', 'bad', 'best', 'creativ', 'app', 'ever', 'seen', 'need', 'think', 'instal', 'use', 'app', 'great', 'easi', 'use', 'great', 'app', 'would', 'great', 'us', 'add', 'urdu', 'font', 'also', 'pleas', 'fantast', 'photo', 'edit', 'applic', 'use', 'youtub', 'thumbnail', 'best', 'app', 'ever', 'alway', 'problem', 'save', 'design', 'easi', 'use', 'result', 'look', 'like', 'pro', 'wow', 'work', 'properli', 'mobil', 'app', 'pleas', 'remov', 'bug', 'great', 'app', 'logo', 'buiness', 'nice', 'make', 'compat', 'low', 'end', 'devic', 'excel', 'option', 'mani', 'free', 'servic', 'think', 'app', 'great', 'still', 'tri', 'figur', 'put', 'photo', 'anoth', 'photo', 'hard', 'control', 'need', 'user', 'friendli', 'u', 'time', 'u', 'get', 'thing', 'u', 'need', 'great', 'app', 'lot', 'featur', 'realli', 'love', 'app', 'look', 'someth', 'like', 'whileit', 'realli', 'amaz', 'best', 'onlin', 'design', 'everyth', 'help', 'user', 'friendli', 'love', 'app', 'filter', 'pro', 'free', 'elemen', 'gone', 'pliss', 'fix', 'canva', 'photo', 'low', 'qualiti', 'download', 'app', 'great', 'sometim', 'freez', 'work', 'load', 'option', 'easi', 'use', 'love', 'freedom', 'design', 'good', 'qualiti', 'meme', 'free', 'app', 'great', 'help', 'edit', 'thing', 'app', 'lack', 'basic', 'help', 'love', 'app', 'first', 'app', 'consid', 'pay', 'money', 'unlock', 'version', 'thank', 'canva', 'great', 'peopl', 'nt', 'know', 'graphic', 'design', 'excel', 'app', 'app', 'graphic', 'profession', 'great', 'app', 'feel', 'like', 'profession', 'design', 'easi', 'use', 'mani', 'option', 'well', 'st', 'time', 'issu', 'payment', 'mode', 'ketp', 'zoom', 'poor', 'strain', 'eye', 'could', 'nt', 'see', 'text', 'imag', 'good', 'sticker', 'egg', 'n', 'bacon', 'tho', 'oldest', 'version', 'good', 'new', 'updat', 'aw', 'best', 'app', 'ever', 'experienc', 'watermark', 'applic', 'wow', 'good', 'app', 'design', 'poster', 'great', 'app', 'though', 'take', 'long', 'load', 'verri', 'nice', 'app', 'lage', 'issu', 'improv', 'thank', 'hope', 'like', 'review', 'creat', 'account', 'verifi', 'email', 'lol', 'thank', 'immedi', 'uninstal', 'rate', 'app', 'star', 'found', 'app', 'realli', 'easi', 'amaz', 'use', 'impress', 'first', 'use', 'first', 'logo', 'youtub', 'amaz', 'happend', 'thank', 'canva', 'realli', 'help', 'time', 'nice', 'simpl', 'neat', 'clean', 'amaz', 'graphic', 'design', 'free', 'easi', 'use', 'face', 'difficulti', 'purchas', 'canva', 'propleas', 'rectifi', 'asapon', 'debit', 'credit', 'card', 'show', 'unavail', 'purchas', 'love', 'app', 'conveni', 'design', 'easi', 'great', 'app', 'easi', 'use', 'unabl', 'save', 'design', 'disappoint', 'free', 'account', 'offer', 'terribl', 'option', 'download', 'project', 'awesom', 'app', 'resourc', 'materi', 'outstand', 'app', 'freelanc', 'graphic', 'design', 'easi', 'use', 'great', 'superb', 'app', 'make', 'desir', 'one', 'especi', 'poster', 'softwar', 'wonder', 'work', 'perfect', 'need', 'fun', 'entertain', 'app', 'use', 'good', 'amount', 'thing', 'definit', 'worth', 'check', 'amaz', 'like', 'app', 'much', 'user', 'friendli', 'great', 'app', 'help', 'done', 'work', 'easili', 'easi', 'edit', 'design', 'awesom', 'app', 'edit', 'photo', 'nt', 'miss', 'slow', 'good', 'servic', 'avail', 'nice', 'app', 'make', 'thumbnail', 'youtub', 'banner', 'logo', 'thank', 'creat', 'wonder', 'app', 'design', 'photo', 'beginn', 'good', 'app', 'need', 'lot', 'internet', 'good', 'give', 'strar', 'awsom', 'much', 'userfriendli', 'appeasi', 'edit', 'love', 'use', 'make', 'announc', 'come', 'event', 'club', 'good', 'like', 'far', 'need', 'design', 'recommend', 'amaz', 'design', 'easi', 'use', 'app', 'interest', 'easili', 'audit', 'app', 'amaz', 'content', 'impress', 'interfac', 'best', 'app', 'ever', 'creat', 'rate', 'star', 'ai', 'nt', 'total', 'free', 'realli', 'easi', 'use', 'help', 'amaz', 'ui', 'design', 'materi', 'low', 'qualiti', 'pictur', 'super', 'lag', 'great', 'bit', 'limit', 'abil', 'select', 'good', 'app', 'ps', 'also', 'without', 'watermark', 'love', 'app', 'cuz', 'make', 'mother', 'day', 'card', 'use', 'canva', 'make', 'mani', 'templ', 'great', 'app', 'make', 'market', 'program', 'howev', 'pay', 'use', 'app', 'monthli', 'want', 'print', 'alreadi', 'pay', 'abl', 'use', 'whatev', 'print', 'platform', 'like', 'great', 'amaz', 'app', 'hope', 'could', 'make', 'lot', 'project', 'sinc', 'im', 'colleg', 'right', 'easi', 'access', 'nice', 'function', 'good', 'applic', 'youtub', 'short', 'report', 'problem', 'detail', 'descript', 'twice', 'along', 'attach', 'solut', 'gave', 'trail', 'app', 'amaz', 'may', 'first', 'time', 'use', 'kind', 'app', 'make', 'easi', 'use', 'good', 'would', 'better', 'could', 'resiz', 'text', 'etc', 'fabul', 'app', 'neat', 'sharp', 'tool', 'profession', 'edit', 'use', 'phone', 'fingertip', 'prolli', 'best', 'edit', 'softwar', 'beginn', 'use', 'nice', 'app', 'excel', 'good', 'featur', 'easi', 'use', 'veeeeeerrryyi', 'use', 'full', 'app', 'edit', 'pictur', 'like', 'much', 'gave', '\\\\', 'star', 'easi', 'use', 'beauti', 'experi', 'wonder', 'canva', 'best', 'app', 'make', 'logo', 'youtub', 'thumbnail', 'easili', 'get', 'premium', 'app', 'reduc', 'qualiti', 'logo', 'realli', 'good', 'place', 'templat', 'photo', 'edit', 'post', 'love', 'design', 'everyth', 'like', 'logo', 'edit', 'pictur', 'everyth', 'app', 'use', 'full', 'youtub', 'thumbnail', 'intro', 'etc', 'app', 'great', 'need', 'drop', 'shadow', 'outer', 'glow', 'duoton', 'effect', 'nice', 'beginn', 'edit', 'lot', 'featur', 'readi', 'explor', 'use', 'wonder', 'interest', 'app', 'easi', 'use', 'go', 'app', 'use', 'love', 'even', 'use', 'without', 'pay', 'thank', 'canva', 'team', 'make', 'life', 'easi', 'honestli', 'think', 'upgrad', 'account', 'premium', 'awesom', 'finest', 'amaz', 'applic', 'use', 'last', 'year', 'l', 'love', 'take', 'much', 'time', 'creat', 'imag', 'design', 'nt', 'even', 'start', 'say', 'upgrad', 'android', 'point', 'upgrad', 'wo', 'nt', 'run', 'devic', 'auto', 'save', 'mobil', 'go', 'galleri', 'come', 'back', 'design', 'gone', 'great', 'app', 'love', 'cool', 'templat', 'pictur', 'add', 'background', 'omg', 'thank', 'much', 'provid', 'brilliant', 'smooth', 'app', 'free', 'mostli', 'featur', 'free', 'satisfi', 'request', 'download', 'instal', 'keep', 'use', 'app', 'forev', 'ultim', 'realli', 'easi', 'use', 'make', 'endless', 'number', 'person', 'design', 'definit', 'recommend', 'app', 'app', 'everyon', 'great', 'ux', 'sever', 'option', 'need', 'free', 'truli', 'incred', 'app', 'highli', 'recommend', 'good', 'thing', 'would', 'chang', 'overal', 'work', 'well', 'would', 'highli', 'recomend', 'easi', 'use', 'interest', 'featur', 'freei', 'like', 'aap', 'much', 'total', 'satisfi', 'app', 'without', 'premium', 'membership', 'also', 'work', 'awesom', 'extrem', 'satisfi', 'realli', 'love', 'app', 'help', 'lot', 'given', 'peac', 'mimf', 'happi', 'time', 'canva', 'time', 'aunt', 'love', 'app', 'make', 'explor', 'design', 'alreadi', 'made', 'templat', 'great', 'rgf', 'bad', 'app', 'also', 'dont', 'recomend', 'other', 'doesnt', 'seem', 'function', 'properli', 'also', 'doesnt', 'good', 'backround', 'great', 'find', 'way', 'make', 'total', 'free', 'without', 'ad', 'superb', 'app', 'everyth', 'want', 'design', 'easytous', 'resum', 'templat', 'classi', 'cool', 'featur', 'simpl', 'user', 'interfac', 'great', 'awesom', 'app', 'nice', 'edit', 'option', 'simpl', 'use', 'hey', 'canva', 'face', 'problem', 'save', 'imag', 'show', 'plz', 'tri', 'happen', 'mani', 'time', 'plz', 'fix', 'bug', 'hack', 'expos', 'person', 'info', 'data', 'breach', 'name', 'proof', 'need', 'chang', 'phone', 'address', 'email', 'along', 'refer', 'phone', 'could', 'care', 'less', 'websit', 'app', 'hack', 'opinion', 'canva', 'canva', 'period', 'site', 'could', 'nt', 'kept', 'lockdown', 'app', 'unsecur', 'site', 'thought', 'mani', 'other', 'phenomen', 'site', 'everi', 'need', 'till', 'info', 'expos', 'help', 'nt', 'use', 'good', 'app', 'use', 'nice', 'edit', 'coolest', 'thing', 'chang', 'background', 'fantast', 'app', 'app', 'awesom', 'creat', 'logo', 'take', 'much', 'time', 'save', 'logo', 'great', 'app', 'love', 'enough', 'make', 'work', 'easier', 'stressfre', 'everyth', 'super', 'perfect', 'complic', 'apppppp', 'love', 'canva', 'feel', 'comfort', 'use', 'special', 'use', 'desktop', 'new', 'updat', 'ca', 'nt', 'access', 'app', 'literali', 'need', 'rn', 'cuz', 'project', 'deadlin', 'im', 'sorri', 'fix', 'fast', 'could', 'im', 'pay', 'cuz', 'love', 'use', 'need', 'design', 'back', 'thank', 'youuuu', 'effect', 'easi', 'use', 'wide', 'rang', 'free', 'templat', 'love', 'wide', 'varieti', 'design', 'high', 'qualiti', 'easi', 'share', 'nice', 'app', 'take', 'time', 'export', 'rather', 'prepar', 'design', 'pl', 'look', 'allow', 'say', 'best', 'app', 'world', 'life', 'saver', 'liter', 'save', 'time', 'money', 'user', 'experi', 'made', 'champanh', 'awesom', 'readi', 'use', 'templat', 'great', 'job', 'amaz', 'absolut', 'love', 'app', 'use', 'mani', 'edit', 'regret', 'star', 'one', 'best', 'app', 'ever', 'use', 'great', 'part', 'theme', 'function', 'free', 'love', 'app', 'honestli', 'amaz', 'app', 'make', 'beauti', 'post', 'social', 'media', 'much', 'app', 'amaz', 'much', 'make', 'book', 'cover', 'make', 'poster', 'make', 'notebook', 'cover', 'much', 'amaz', 'love', 'app', 'much', 'recommend', 'ca', 'nt', 'express', 'thought', 'use', 'anybodi', 'use', 'easili', 'pleas', 'download', 'give', 'star', 'hard', 'work', 'good', 'app', 'make', 'whatsapp', 'stori', 'poster', 'logo', 'mani', 'thing', 'realli', 'love', 'app', 'much', 'lot', 'thing', 'free', 'enjoy', 'awesom', 'app', 'connect', 'issu', 'there', 'lot', 'stuff', 'pay', 'free', 'interact', 'easi', 'use', 'love', 'app', 'app', 'help', 'creat', 'resum', 'graphic', 'amaz', 'love', 'app', 'design', 'youtub', 'video', 'make', 'collag', 'best', 'doubt', 'littl', 'prob', 'save', 'someth', 'design', 'mobil', 'phone', 'renam', 'read', 'first', 'go', 'make', 'banner', 'went', 'easi', 'could', 'hope', 'updat', 'journey', 'app', 'continu', 'brand', 'bella', 'use', 'canva', 'last', 'month', 'amaz', 'relat', 'app', 'good', 'canva', 'best', 'good', 'better', 'suggest', 'add', 'option', 'download', 'file', 'pdf', 'format', 'love', 'canva', 'easi', 'use', 'creat', 'mani', 'profession', 'look', 'design', 'use', 'especi', 'pay', 'pro', 'price', 'problem', 'full', 'featur', 'access', 'easiest', 'edit', 'softwar', 'ever', 'use', 'incred', 'conveni', 'grate', 'incred', 'app', 'love', 'itther', 'better', 'edit', 'app', 'outstand', 'easi', 'use', 'app', 'crush', 'everytim', 'problem', 'share', 'also', 'behind', 'perfect', 'templat', 'good', 'edit', 'option', 'amaz', 'prepar', 'one', 'resum', 'far', 'love', 'output', 'far', 'good', 'glad', 'templat', 'free', 'use', 'good', 'app', 'new', 'style', 'imag', 'make', 'design', 'ca', 'nt', 'download', 'even', 'free', 'templat', 'someth', 'annoy', 'great', 'well', 'design', 'app', 'quick', 'even', 'advanc', 'edit', 'almost', 'creativ', 'need', 'great', 'far', 'promot', 'poster', 'quit', 'easi', 'use', 'nt', 'realli', 'use', 'much', 'would', 'like', 'due', 'unexpect', 'issu', 'take', 'canva', 'app', 'good', 'app', 'student', 'edit', 'present', 'help', 'simpl', 'clean', 'minimalist', 'ui', 'also', 'clean', 'easi', 'understand', 'cool', 'ap', 'lumayan', 'utk', 'mempermudah', 'kebutuhan', 'design', 'content', 'well', 'good', 'job', 'problem', 'edit', 'app', 'crash', 'like', 'go', 'edit', 'kick', 'app', 'hour', 'normal', 'ferl', 'bad', 'fix', 'pl', 'best', 'thing', 'happen', 'pay', 'tutor', 'teach', 'free', 'tutori', 'best', 'app', 'u', 'ever', 'find', 'graphic', 'design', 'best', 'featur', 'ton', 'templat', 'uniqu', 'design', 'would', 'say', 'canva', 'best', 'offlin', 'version', 'much', 'use', 'user', 'think', 'good', 'work', 'anyway', 'great', 'easi', 'use', 'awesom', 'special', 'autosav', 'applaus', 'although', 'first', 'time', 'use', 'infograph', 'found', 'interest', 'use', 'found', 'new', 'way', 'text', 'edit', 'must', 'font', 'support', 'hindi', 'languag', 'make', 'design', 'easi', 'save', 'time', 'total', 'would', 'recommend', 'app', 'whenev', 'wherev', 'canva', 'wonder', 'applic', 'everi', 'graphic', 'design', 'make', 'use', '``', 'vision', 'creativ', 'canva', 'got', 'tool', 'moreov', 'easi', 'work', 'good', 'app', 'logo', 'cover', 'pictur', 'hope', 'new', 'featur', 'like', 'text', 'perspect', 'text', 'eras', 'app', 'run', 'realli', 'slow', 'everytim', 'open', 'made', 'phone', 'laptop', 'freez', 'never', 'happen', 'soo', 'nice', 'easi', 'app', 'logo', 'make', 'amaz', 'platform', 'creat', 'imag', 'logi', 'anyth', 'thank', 'canva', 'abl', 'add', 'music', 'sec', 'repeat', 'automat', 'pleas', 'make', 'free', 'run', 'ad', 'earn', 'pleas', 'make', 'free', 'student', 'like', 'give', 'star', 'less', 'fee', 'content', 'beginn', 'love', 'app', 'easi', 'access', 'beneficiari', 'beginn', 'like', 'write', 'page', 'write', 'bad', 'app', 'nt', 'even', 'know', 'use', 'app', 'tride', 'mani', 'time', 'write', 'page', 'nt', 'think', 'app', 'help', 'come', 'mani', 'choic', 'design', 'navig', 'mobil', 'bit', 'cumbersom', 'sometim', 'thank', 'mobil', 'option', 'wow', 'first', 'time', 'user', 'awesom', 'easi', 'use', 'gon', 'na', 'upgrad', 'premium', 'awesom', 'app', 'use', 'first', 'time', 'start', 'busi', 'soo', 'happi', 'make', 'logo', 'use', 'canva', 'thank', 'soo', 'much', 'one', 'best', 'best', 'graphic', 'design', 'app', 'smartphon', 'hand', 'absolut', 'amaz', 'app', 'busi', 'fantast', 'logo', 'read', 'u', 'better', 'check', 'incred', 'hot', 'trash', 'abl', 'creat', 'canva', 'size', 'larg', 'enough', 'stitch', 'togeth', 'multipl', 'photo', 'far', 'best', 'app', 'use', 'creat', 'birthday', 'wish', 'etc', 'love', 'free', 'easi', 'design', 'logo', 'thank', 'although', 'pro', 'look', 'much', 'better', 'lazi', 'explain', 'app', 'suck', 'energi', 'alreadi', 'tri', 'call', 'want', 'know', 'issu', 'face', 'wooow', 'great', 'realli', 'work', 'awesom', 'busi', 'simpl', 'use', 'littl', 'technic', 'hiii', 'login', 'canva', 'tough', 'network', 'absolut', 'fine', 'plz', 'help', 'problem', 'solv', 'soon', 'possibl', 'best', 'app', 'make', 'present', 'mani', 'thing', 'gave', 'star', 'great', 'app', 'past', 'coupl', 'week', 'troubl', 'download', 'thing', 'make', 'easi', 'creat', 'design', 'app', 'work', 'smoothli', 'first', 'recent', 'hangig', 'lot', 'pleas', 'see', 'creat', 'amaz', 'video', 'wish', 'video', 'librari', 'bit', 'still', 'love', 'easi', 'use', 'fungreat', 'choic', 'design', 'templat', 'easi', 'use', 'full', 'imag', 'background', 'supah', 'love', 'app', 'creat', 'beauti', 'templat', 'friendli', 'use', 'great', 'app', 'use', 'recommend', 'download', 'mani', 'featur', 'help', 'mani', 'way', 'thankyou', 'ca', 'nt', 'save', 'work', 'keep', 'save', 'blank', 'black', 'canva', 'use', 'expens', 'phone', 'lot', 'space', 'left', 'im', 'also', 'premium', 'star', 'app', 'nt', 'contain', 'add', 'main', 'featur', 'free', 'pleas', 'nt', 'chang', 'time', 'masterpiec', 'app', 'easi', 'use', 'lot', 'stun', 'tamplat', 'best', 'app', 'appreci', 'free', 'content', 'multitud', 'idea', 'gener', 'easi', 'design', 'app', 'perfecto', 'ca', 'nt', 'save', 'project', 'tri', 'troubleshoot', 'still', 'wo', 'nt', 'even', 'work', 'pl', 'fix', 'wo', 'nt', 'even', 'allow', 'sign', 'facebook', 'googl', 'via', 'email', 'render', 'app', 'useless', 'awesom', 'app', 'unleash', 'inner', 'artist', 'side', 'super', 'love', 'best', 'app', 'beginn', 'tri', 'photo', 'design', 'mani', 'nt', 'understand', 'keep', 'tell', 'check', 'internet', 'connect', 'consid', 'network', 'good', 'app', 'perfect', 'present', 'everi', 'digit', 'poster', 'logo', 'work', 'excel', 'app', 'love', 'everi', 'detail', 'best', 'ever', 'seen', 'greedi', 'ad', 'cover', 'requir', 'style', 'ii', 'user', 'friendli', 'mani', 'amaz', 'use', 'tool', 'like', 'group', 'text', 'imag', 'love', 'canva', 'work', 'reali', 'well', 'littl', 'slow', 'work', 'fine', 'nice', 'choic', 'free', 'user', 'love', 'amez', 'design', 'aap', 'easi', 'way', 'creat', 'post', 'social', 'media', 'free', 'cost', 'excel', 'app', 'design', 'enjoy', 'creat', 'post', 'instagram', 'social', 'media', 'platform', 'love', 'app', 'awesom', 'excel', 'nt', 'know', 'rotat', 'text', 'featur', 'could', 'ad', 'excel', 'make', 'design', 'chang', 'save', 'click', 'keyboard', 'tablet', 'design', 'disappear', 'app', 'work', 'made', 'lot', 'thumbnail', 'app', 'swear', 'even', 'one', 'thumbnail', 'gettimg', 'download', 'shitte', 'app', 'app', 'design', 'rememb', 'idea', 'beginn', 'professionalsi', 'recommend', 'learn', 'basic', 'edit', 'skill', 'app', 'well', 'make', 'public', 'post', 'liter', 'hack', 'beauti', 'beast', 'know', 'tame', 'would', 'definit', 'recommend', 'good', 'safe', 'work', 'slow', 'ca', 'nt', 'text', 'slide', 'good', 'app', 'shall', 'work', 'fast', 'great', 'easi', 'tool', 'creat', 'mani', 'pic', 'great', 'beginn', 'also', 'alway', 'work', 'purchas', 'app', 'cheap', 'ca', 'nt', 'function', 'properli', 'function', 'app', 'easi', 'interfac', 'well', 'profession', 'interfac', 'must', 'use', 'good', 'app', 'howev', 'cant', 'open', 'app', 'keep', 'say', 'offlin', 'ca', 'nt', 'connect', 'despit', 'wifi', 'taken', 'canva', 'premium', 'best', 'thing', 'make', 'poster', 'logo', 'work', 'easi', 'easi', 'use', 'thank', 'canva', 'free', 'featur', 'love', 'app', 'occasion', 'freez', 'exit', 'restart', 'great', 'app', 'amaz', 'editor', 'creator', 'app', 'satisfi', 'recommend', 'mani', 'time', 'thank', 'log', 'get', 'messag', 'technic', 'issu', 'logi', 'g', 'tri', 'canva', 'team', 'realli', 'amaz', 'app', 'work', 'method', 'easier', 'anybodi', 'make', 'someth', 'qualiti', 'imag', 'come', 'degrad', 'tri', 'download', 'png', 'imag', 'pleas', 'fix', 'amaz', 'app', 'make', 'poster', 'busi', 'card', 'anyth', 'free', 'app', 'crash', 'nt', 'respond', 'sometim', 'show', 'internet', 'sometim', 'satisfi', 'design', 'great', 'overal', 'think', 'miss', 'featur', 'ad', 'gradient', 'text', 'imageshop', 'add', 'soon', 'super', 'fun', 'app', 'great', 'featur', 'lil', 'bit', 'time', 'u', 'need', 'know', 'work', 'otherwis', 'fun', 'app', 'use', 'daili', 'basi', 'easi', 'use', 'stun', 'result', 'realli', 'comfort', 'cool', 'featur', 'anyon', 'like', 'someth', 'creativ', 'look', 'say', 'free', 'amaz', 'function', 'featur', 'z', 'mean', 'good', 'design', 'applic', 'lot', 'free', 'readi', 'made', 'design', 'use', 'app', 'restart', 'even', 'lag', 'littl', 'slow', 'wrong', 'app', 'also', 'site', 'nt', 'download', 'open', 'work', 'pleas', 'fix', 'great', 'use', 'busi', 'content', 'help', 'right', 'keep', 'tri', 'set', 'alreadi', 'account', 'wo', 'nt', 'let', 'log', 'option', 'log', 'pay', 'littl', 'frustrat', 'fantast', 'app', 'love', 'tri', 'make', 'app', 'less', 'expens', 'give', 'star', 'realli', 'good', 'app', 'make', 'youtub', 'thumbnail', 'youtub', 'intro', 'video', 'point', 'view', 'give', 'star', 'doubt', 'best', 'logo', 'make', 'app', 'world', 'problem', 'nt', 'cash', 'grab', 'app', 'one', 'best', 'help', 'full', 'design', 'app', 'world', 'love', 'creat', 'design', 'high', 'low', 'specif', 'smartphon', 'run', 'smoothli', 'simpli', 'awesom', 'best', 'edit', 'app', 'forev', 'applic', 'good', 'youtub', 'thumbnail', 'make', 'upload', 'hd', 'collett', 'thumbnail', 'beauti', 'app', 'sleek', 'design', 'innumer', 'design', 'option', 'love', 'love', 'app', 'help', 'design', 'advertis', 'way', 'want', 'app', 'look', 'featur', 'got', 'ta', 'pay', 'even', 'basic', 'realli', 'help', '``', 'pleas', 'add', 'split', 'screen', 'support', 'pleas', 'add', 'shadow', 'text', 'realli', 'help', 'absolut', 'awesomey', 'liter', 'get', 'cool', 'stuff', 'free', 'also', 'realli', 'user', 'friendli', 'good', 'app', 'creativ', 'person', 'love', 'font', 'design', 'nice', 'app', 'design', 'fresher', 'experienc', 'pl', 'instal', 'good', 'present', 'poster', 'thumbnail', 'highli', 'recommend', 'sever', 'compani', 'go', 'app', 'design', 'logo', 'excel', 'featur', 'highli', 'recommend', 'new', 'creator', 'mobil', 'impress', 'improv', 'made', 'get', 'pro', 'version', 'valu', 'money', 'awesom', 'app', 'uncomfort', 'templat', 'amaz', 'amaz', 'app', 'desktop', 'version', 'easier', 'one', 'best', 'app', 'best', 'way', 'beauti', 'edit', 'great', 'option', 'creativ', 'creat', 'wide', 'varieti', 'logo', 'banner', 'thumbnail', 'pretti', 'use', 'enough', 'tool', 'creat', 'fli', 'phone', 'like', 'tri', 'premium', 'sometim', 'first', 'time', 'use', 'go', 'well', 'easi', 'use', 'problem', 'ca', 'nt', 'save', 'phone', 'tri', 'save', 'differ', 'form', 'still', 'ca', 'nt', 'save', 'phone', 'nt', 'think', 'problem', 'phone', 'hope', 'fix', 'soon', 'thank', 'word', 'appreci', 'app', 'made', 'preciou', 'appgood', 'job', 'pleas', 'give', 'pro', 'imag', 'free', 'one', 'best', 'design', 'app', 'ever', 'use', 'super', 'use', 'easi', 'use', 'problem', 'realli', 'good', 'app', 'provid', 'edit', 'effect', 'filter', 'canva', 'amaz', 'graphic', 'design', 'applic', 'fantast', 'edit', 'app', 'interfac', 'profession', 'chang', 'requir', 'good', 'differ', 'imag', 'video', 'user', 'friendli', 'interfac', 'much', 'better', 'facil', 'free', 'use', 'app', 'allow', 'creat', 'sever', 'design', 'compani', 'great', 'love', 'spend', 'much', 'time', 'work', 'poster', 'app', 'allow', 'download', 'simpli', 'wast', 'hard', 'work', 'great', 'app', 'easi', 'use', 'good', 'valu', 'amount', 'design', 'collabor', 'tool', 'excel', 'onlin', 'graphic', 'design', 'tool', 'alway', 'use', 'design', 'mani', 'tool', 'busi', 'world', 'best', 'app', 'easi', 'high', 'qualiti', 'photo', 'video', 'edit', 'skill', 'peopl', 'easili', 'use', 'thank', 'canva', 'made', 'nice', 'app', 'make', 'thumbnail', 'youtub', 'logo', 'etc', 'check', 'thumbnail', 'search', 'geinu', 'ff', 'yt', 'come', 'like', 'content', 'suscrib', 'app', 'good', 'design', 'background', 'like', 'power', 'point', 'app', 'good', 'beauti', 'graphic', 'anim', 'lot', 'option', 'choos', 'definit', 'worth', 'download', 'easi', 'intuit', 'fun', 'one', 'best', 'afford', 'market', 'onlin', 'worst', 'experi', 'ever', 'could', 'nt', 'creat', 'anyth', 'keep', 'show', 'lot', 'error', 'realli', 'love', 'app', 'updat', 'today', 'ca', 'nt', 'even', 'save', 'edit', 'pleas', 'fix', 'everythng', 'good', 'app', 'unabl', 'download', 'design', 'use', 'download', 'video', 'need', 'pay', 'qualiti', 'quit', 'good', 'complaint', 'love', 'applic', 'face', 'slow', 'design', 'pleas', 'fix', 'someth', 'teacher', 'day', 'prepar', 'digit', 'greet', 'card', 'app', 'suggest', 'friend', 'thank', 'amaz', 'creat', 'away', 'creat', 'new', 'herbal', 'busi', 'logo', 'problem', 'yet', 'seen', 'never', 'felt', 'could', 'creat', 'graphic', 'nt', 'feel', 'like', 'complet', 'failur', 'realli', 'user', 'friendli', 'great', 'went', 'tri', 'free', 'day', 'trial', 'start', 'lag', 'complet', 'great', 'much', 'say', 'oh', 'wow', 'wonder', 'creat', 'card', 'get', 'busi', 'even', 'let', 'us', 'place', 'order', 'elijah', 'sutherland', 'excel', 'addit', 'workstat', 'sync', 'quickli', 'smoothli', 'like', 'impos', 'price', 'even', 'free', 'articl', 'print', 'watermark', 'hell', 'lot', 'irrit', 'mainli', 'use', 'instagram', 'post', 'overal', 'work', 'well', 'whatev', 'photo', 'camera', 'well', 'canva', 'total', 'perfect', 'app', 'use', 'edit', 'lot', 'especi', 'poster', 'design', 'come', 'high', 'qualiti', 'canva', 'deserv', 'star', 'excel', 'super', 'easi', 'use', 'recommend', 'canva', 'superior', 'ps', 'ai', 'mani', 'graphic', 'design', 'tool', 'learn', 'tip', 'trick', 'dsign', 'anyth', 'ca', 'nt', 'slide', 'edit', 'banner', 'suck', 'awesom', 'site', 'graphic', 'design', 'simpl', 'easi', 'use', 'interfac', 'excel', 'valu', 'design', 'capabl', 'compar', 'thing', 'tri', 'like', 'vistaprint', 'good', 'tool', 'frustrat', 'navig', 'system', 'sensit', 'select', 'small', 'good', 'app', 'tri', 'mani', 'time', 'either', 'download', 'share', 'design', 'avail', 'app', 'help', 'easi', 'use', 'realli', 'love', 'much', 'download', 'logo', 'design', 'app', 'best', 'one', 'easi', 'use', 'best', 'select', 'templat', 'actual', 'use', 'easi', 'use', 'nice', 'templat', 'great', 'make', 'new', 'design', 'get', 'free', 'templat', 'design', 'dont', 'start', 'scratch', 'love', 'mani', 'tool', 'make', 'everyth', 'pretti', 'consist', 'brand', 'app', 'amaz', 'mani', 'templat', 'design', 'choos', 'give', 'star', 'far', 'good', 'nice', 'take', 'time', 'start', 'load', 'love', 'app', 'graphic', 'design', 'design', 'go', 'app', 'becom', 'heavi', 'design', 'auto', 'save', 'imag', 'get', 'save', 'galleri', 'transpar', 'background', 'nt', 'work', 'android', 'mobil', 'fix', 'pl', 'great', 'app', 'help', 'graphic', 'design', 'easi', 'use', 'beauti', 'interfac', 'seamless', 'user', 'experi', 'could', 'nt', 'write', 'text', 'onto', 'pictur', 'amaz', 'experi', 'keep', 'good', 'work', 'app', 'perform', 'good', 'take', 'much', 'time', 'download', 'imag', 'creat', 'collag', 'etc', 'hate', 'accident', 'pick', 'templat', 'scroll', 'also', 'design', 'thumbnail', 'updat', 'exit', 'app', 'best', 'app', 'ever', 'use', 'design', 'sticker', 'use', 'product', 'good', 'app', 'newli', 'updat', 'canva', 'keep', 'crash', 'jul', 'still', 'lag', 'crash', 'wast', 'time', 'edit', 'artwork', 'got', 'problem', 'download', 'design', 'alway', 'say', 'canva', 'experienc', 'technic', 'issu', 'pleas', 'help', 'urgent', 'poor', 'qualiti', 'app', 'mani', 'time', 'wait', 'edit', 'project', 'app', 'run', 'slow', 'super', 'love', 'app', 'help', 'creat', 'wonder', 'present', 'class', 'view', 'issu', 'fix', 'cant', 'seem', 'copi', 'past', 'imag', 'tablet', 'canva', 'amaz', 'applic', 'help', 'make', 'lot', 'logo', 'thumbnail', 'without', 'difficulti', 'edit', 'section', 'amaz', 'differ', 'varieti', 'easili', 'make', 'festiv', 'card', 'birthday', 'card', 'etc', 'find', 'free', 'content', 'easili', 'wonder', 'app', 'creat', 'nice', 'profession', 'flyerspost', 'worst', 'app', 'time', 'wast', 'dowload', 'will', 'go', 'paid', 'risk', 'coz', 'consum', 'much', 'data', 'aap', 'us', 'want', 'edit', 'design', 'photo', 'catalogu', 'etc', 'us', 'simpl', 'great', 'app', 'easi', 'use', 'function', 'web', 'app', 'good', 'app', 'problem', 'abl', 'share', 'creat', 'peopl', 'contact', 'number', 'help', 'provid', 'better', 'design', 'app', 'easi', 'use', 'nt', 'know', 'complet', 'design', 'could', 'nt', 'save', 'keep', 'show', 'save', 'wo', 'nt', 'save', 'gave', 'star', 'nice', 'easi', 'use', 'graphic', 'amazingov', 'al', 'love', 'iti', 'love', 'app', 'nice', 'applic', 'use', 'still', 'pleas', 'ad', 'featur', 'applic', 'like', 'colour', 'even', 'free', 'version', 'enough', 'get', 'start', 'feel', 'like', 'need', 'pro', 'upgrad', 'trail', 'perfect', 'app', 'even', 'beginn', 'need', 'put', 'thought', 'action', 'share', 'past', 'text', 'templat', 'total', 'disappoint', 'great', 'app', 'alway', 'better', 'adob', 'far', 'concern', 'term', 'eas', 'canva', 'liter', 'save', 'life', 'constantli', 'improv', 'digit', 'busi', 'grown', 'everyth', 'enabl', 'creat', 'canva', 'realli', 'realli', 'great', 'app', 'help', 'make', 'lot', 'wallpap', 'icon', 'much', 'recommend', 'app', 'start', 'work', 'work', 'nice', 'work', 'kept', 'need', 'chang', 'allow', 'wish', 'could', 'crop', 'angl', 'app', 'fantast', 'back', 'ground', 'remov', 'capabl', 'lot', 'cool', 'featur', 'super', 'easi', 'use', 'perfect', 'everyth', 'need', 'help', 'app', 'recommend', 'anyon', 'absolut', 'love', 'app', 'conveni', 'look', 'like', 'work', 'glitch', 'use', 'app', 'present', 'product', 'late', 'start', 'fail', 'edit', 'someth', 'happi', 'app', 'updat', 'iam', 'face', 'lot', 'issu', 'design', 'nt', 'get', 'download', 'caus', 'much', 'mess', 'pl', 'need', 'desir', 'design', 'app', 'ever', 'come', 'across', 'alot', 'featur', 'choos', 'charg', 'made', 'video', 'paid', 'three', 'credit', 'still', 'could', 'nt', 'download', 'video', 'due', 'technic', 'issu', 'pleas', 'solv', 'refund', 'one', 'best', 'graphic', 'design', 'app', 'android', 'phone', 'app', 'suck', 'experi', 'chrome', 'browser', 'amaz', 'easi', 'app', 'use', 'edit', 'slide', 'love', 'featur', 'auto', 'save', 'nt', 'show', 'subscript', 'took', 'month', 'subscript', 'account', 'nt', 'show', 'subscript', 'pleas', 'rectifi', 'problem', 'love', 'app', 'kindli', 'make', 'avail', 'us', 'kindli', 'add', 'background', 'remov', 'featur', 'free', 'thingthank', 'canva', 'incred', 'artist', 'abl', 'design', 'compani', 'logo', 'easili', 'quickli', 'good', 'applic', 'work', 'real', 'easi', 'extrem', 'function', 'easi', 'templat', 'imag', 'save', 'galleri', 'what', 'problem', 'use', 'alway', 'updat', 'version', 'creativ', 'origin', 'mani', 'free', 'design', 'realli', 'awesom', 'experi', 'canvait', 'easi', 'make', 'thumbnail', 'photo', 'edit', 'everyth', 'relat', 'edit', 'best', 'app', 'bit', 'slow', 'everi', 'pic', 'premium', 'gave', 'star', 'use', 'love', 'partial', 'woke', 'use', 'awesom', 'everi', 'updat', 'make', 'anoth', 'function', 'pay', 'use', 'edit', 'section', 'good', 'save', 'galleri', 'uninstal', 'excel', 'app', 'design', 'edit', 'use', 'app', 'practic', 'daili', 'everyth', 'busi', 'market', 'merchandis', 'administr', 'paperwork', 'love', 'thank', 'canva', 'want', 'pay', 'background', 'remov', 'app', 'complic', 'use', 'simpl', 'qualiti', 'best', 'easi', 'use', 'best', 'templat', 'tri', 'loge', 'googl', 'said', 'fail', 'login', 'whe', 'tri', 'email', 'said', 'someth', 'went', 'wrong', 'annoy', 'disgust', 'difficult', 'use', 'want', 'use', 'photoshop', 'figur', 'photoshop', 'creator', 'understand', 'much', 'canva', 'place', 'role', 'design', 'take', 'lot', 'time', 'open', 'app', 'even', 'good', 'connect', 'stupid', 'app', 'save', 'work', 'tri', 'mani', 'time', 'still', 'save', 'wast', 'time', 'work', 'love', 'app', 'help', 'canva', 'design', 'mani', 'websit', 'social', 'media', 'post', 'love', 'canva', 'one', 'month', 'far', 'help', 'creat', 'beauti', 'work', 'basic', 'custom', 'photoshop', 'want', 'easi', 'interfac', 'one', 'best', 'video', 'edit', 'app', 'could', 'even', 'tell', 'best', 'app', 'love', 'soo', 'easi', 'make', 'especi', 'beginn', 'like', 'awesom', 'app', 'ever', 'use', 'featur', 'modern', 'app', 'editor', 'need', 'awesom', 'say', 'well', 'done', 'develop', 'also', 'recommend', 'tri', 'also', 'like', 'amaz', 'app', 'lot', 'free', 'featur', 'easi', 'navig', 'absolut', 'worth', 'good', 'app', 'actual', 'best', 'take', 'long', 'load', 'stress', 'use', 'easi', 'start', 'simpl', 'creat', 'difficult', 'tear', 'oneself', 'away', 'great', 'explor', 'upgrad', 'may', 'worth', 'great', 'app', 'use', 'lot', 'design', 'pattern', 'suggest', 'download', 'app', 'limit', 'text', 'use', 'show', 'text', 'search', 'app', 'good', 'app', 'good', 'recent', 'bug', 'like', 'review', 'said', 'pl', 'work', 'nice', 'app', 'awesom', 'content', 'main', 'problem', 'app', 'close', 'automat', 'superb', 'app', 'lost', 'featur', 'one', 'problem', 'bit', 'expens', 'student', 'like', 'us', 'use', 'app', 'creat', 'awesom', 'slide', 'present', 'poster', 'book', 'cover', 'etc', 'got', 'good', 'grade', 'due', 'app', 'big', 'thank', 'canva', 'start', 'use', 'canva', 'android', 'tri', 'desk', 'top', 'far', 'good', 'let', 'know', 'futur', 'post', 'experi', 'issu', 'make', 'work', 'easi', 'fast', 'lot', 'design', 'templat', 'choos', 'worth', 'price', 'best', 'app', 'much', 'better', 'faster', 'appl', 'photoshop', 'instagram', 'account', 'canva', 'appit', 'help', 'alot', 'media', 'multimedia', 'problem', 'cool', 'fantast', 'may', 'take', 'time', 'download', 'everyth', 'correct', 'add', 'noth', 'neg', 'app', 'superb', 'must', 'download', 'certainli', 'beginn', 'friendli', 'recommend', 'nt', 'access', 'photoshop', 'gimp', 'realli', 'love', 'app', 'get', 'want', 'kind', 'logo', 'etc', 'save', 'took', 'long', 'pleas', 'fix', 'part', 'lag', 'lag', 'lag', 'save', 'templat', 'ca', 'nt', 'chang', 'photo', 'nd', 'text', 'disappoint', 'best', 'graphic', 'design', 'thank', 'much', 'app', 'help', 'daili', 'life', 'amaz', 'ca', 'nt', 'believ', 'free', 'go', 'app', 'project', 'print', 'etx', 'must', 'check', 'easi', 'use', 'mani', 'option', 'choos', 'best', 'app', 'creat', 'uniqu', 'design', 'go', 'ahead', 'download', 'creat', 'masterpiec', 'easili', 'pretti', 'good', 'onlin', 'nt', 'data', 'cant', 'anyth', 'love', 'app', 'easi', 'quick', 'use', 'make', 'beauti', 'design', 'canva', 'one', 'best', 'graphic', 'app', 'kudo', 'nice', 'easi', 'design', 'pro', 'system', 'good', 'app', 'best', 'platform', 'creat', 'dream', 'see', 'happen', 'realli', 'love', 'app', 'tri', 'perfect', 'busi', 'owner', 'learn', 'graphic', 'advertis', 'save', 'alot', 'money', 'tamil', 'word', 'ca', 'nt', 'bold', 'preview', 'video', 'ca', 'nt', 'play', 'properli', 'perticularli', 'text', 'anim', 'best', 'graphic', 'design', 'app', 'ever', 'need', 'app', 'like', 'school', 'work', 'great', 'realli', 'love', 'easi', 'creat', 'canva', 'fantast', 'app', 'quick', 'easi', 'use', 'amaz', 'applic', 'edit', 'creat', 'stabl', 'internet', 'connect', 'still', 'app', 'open', 'reinstal', 'still', 'work', 'want', 'graphic', 'design', 'beginn', 'app', 'help', 'alot', 'newbi', 'make', 'profesion', 'project', 'app', 'download', 'look', 'pretti', 'fullfeatur', 'way', 'make', 'x', 'instagram', 'post', 'app', 'pretti', 'useless', 'platform', 'unless', 'design', 'squar', 'best', 'app', 'come', 'across', 'far', 'love', 'templat', 'easi', 'use', 'love', 'app', 'easi', 'use', 'import', 'free', 'mani', 'varieti', 'option', 'app', 'open', 'updat', 'everytim', 'show', 'slow', 'connect', 'even', 'reinstal', 'also', 'problem', 'resolv', 'pretti', 'nice', 'app', 'like', 'edit', 'make', 'school', 'colleg', 'work', 'overal', 'great', 'app', 'realli', 'like', 'app', 'easi', 'use', 'creat', 'profession', 'qualiti', 'content', 'ok', 'applic', 'problem', 'exist', 'featur', 'use', 'older', 'version', 'android', 'phone', 'best', 'graphic', 'design', 'app', 'seem', 'best', 'templat', 'creat', 'youtub', 'video', 'canva', 'select', 'video', 'play', 'video', 'show', 'video', 'start', 'photo', 'app', 'nt', 'good', 'wast', 'minut', 'time', 'design', 'save', 'sometim', 'respons', 'slow', 'realli', 'cool', 'fantast', 'app', 'work', 'best', 'app', 'starter', 'creativ', 'thing', 'new', 'tool', 'tactic', 'better', 'design', 'amaz', 'easi', 'use', 'creat', 'love', 'option', 'featur', 'realli', 'love', 'app', 'late', 'file', 'ca', 'nt', 'save', 'phone', 'pleas', 'fix', 'realli', 'help', 'peopl', 'especi', 'student', 'like', 'profession', 'need', 'present', 'keep', 'good', 'work', 'stuck', 'hang', 'lot', 'urghhh', 'itti', 'download', 'phone', 'perform', 'suck', 'tri', 'laptop', 'yet', 'time', 'background', 'remov', 'nt', 'work', 'properli', 'otherwis', 'excel', 'app', 'pleas', 'fire', 'person', 'design', 'login', 'ui', 'ask', 'creat', 'account', 'sign', 'option', 'useful', 'type', 'work', 'like', 'edit', 'pictur', 'make', 'resum', 'maintan', 'ur', 'insta', 'statu', 'excel', 'best', 'app', 'edit', 'like', 'profession', 'buy', 'subscript', 'option', 'edit', 'mani', 'thing', 'ex', 'logo', 'stori', 'youtub', 'work', 'card', 'thumbnail', 'invit', 'card', 'tshirt', 'print', 'suggest', 'everi', 'android', 'editor', 'app', 'edit', 'tri', 'take', 'subscript', 'edit', 'like', 'profession', 'thank', 'app', 'magic', 'awesom', 'design', 'make', 'post', 'great', 'tri', 'take', 'much', 'time', 'save', 'download', 'video', 'half', 'n', 'hour', 'easi', 'use', 'simpl', 'variou', 'style', 'easi', 'creat', 'want', 'nice', 'app', 'play', 'imag', 'easi', 'use', 'beginn', 'good', 'applic', 'excel', 'app', 'take', 'stress', 'design', 'love', 'app', 'less', 'ad', 'use', 'year', 'pl', 'reduc', 'price', 'haha', 'conveni', 'qiuck', 'profession', 'easi', 'edit', 'anyth', 'wast', 'app', 'never', 'seen', 'app', 'life', 'problem', 'mention', 'take', 'time', 'reload', 'open', 'app', 'internet', 'first', 'time', 'use', 'amaz', 'simpl', 'use', 'thank', 'keep', 'crash', 'liter', 'hate', 'tri', 'uninstal', 'reinstal', 'nt', 'even', 'open', 'unabl', 'figur', 'make', 'simpl', 'layout', 'one', 'pictur', 'top', 'everyth', 'good', 'pleas', 'help', 'us', 'add', 'custom', 'font', 'free', 'pleas', 'easi', 'understand', 'use', 'would', 'highli', 'recommend', 'use', 'app', 'recommend', 'everyon', 'use', 'app', 'use', 'creativ', 'top', 'level', 'oh', 'god', 'realli', 'realli', 'love', 'app', 'pictur', 'qualiti', 'good', 'use', 'lot', 'app', 'one', 'favorit', 'app', 'go', 'give', 'app', 'keep', 'rock', 'canva', 'worst', 'app', 'crash', 'everytim', 'tri', 'chang', 'edit', 'pic', 'experi', 'graphic', 'design', 'year', 'app', 'seem', 'good', 'app', 'design', 'cool', 'app', 'simpl', 'powerfulland', 'user', 'friendli', 'far', 'one', 'promis', 'app', 'use', 'edit', 'design', 'need', 'simpl', 'effect', 'app', 'great', 'small', 'enterpris', 'easi', 'use', 'versatil', 'use', 'lot', 'nice', 'better', 'wattpad', 'cover', 'creator', 'creat', 'edit', 'almost', 'everyth', 'love', 'softwar', 'keep', 'shut', 'say', 'cant', 'save', 'design', 'reload', 'scratch', 'nice', 'thumbnail', 'poster', 'use', 'use', 'thumbnail', 'poster', 'nice', 'app', 'great', 'app', 'great', 'design', 'recommend', 'anyon', 'everyon', 'canva', 'interest', 'app', 'content', 'creator', 'influenc', 'etc', 'smooth', 'use', 'satisfi', 'help', 'app', 'conveni', 'user', 'friendli', 'interfac', 'make', 'simpl', 'easi', 'edit', 'work', 'web', 'develop', 'design', 'best', 'class', 'profession', 'graphic', 'design', 'best', 'logo', 'design', 'nice', 'app', 'easi', 'make', 'edit', 'design', 'fit', 'need', 'easi', 'use', 'perfect', 'creat', 'social', 'content', 'go', 'easi', 'use', 'mani', 'design', 'choos', 'laggi', 'download', 'app', 'one', 'web', 'one', 'laggi', 'still', 'good', 'easi', 'use', 'wow', 'alway', 'show', 'imag', 'load', 'final', 'alway', 'close', 'applic', 'nice', 'app', 'design', 'fantast', 'profession', 'help', 'busi', 'thank', 'canva', 'nice', 'app', 'design', 'logo', 'poster', 'edit', 'video', 'love', 'canva', 'perfect', 'small', 'busi', 'make', 'templat', 'social', 'media', 'post', 'need', 'long', 'time', 'load', 'element', 'wast', 'time', 'superb', 'app', 'ca', 'nt', 'explain', 'amaz', 'app', 'use', 'canva', 'daili', 'late', 'mobil', 'glitch', 'edit', 'pleas', 'help', 'realli', 'amaz', 'work', 'laptop', 'mobil', 'devic', 'slower', 'take', 'much', 'time', 'save', 'one', 'imag', 'nt', 'make', 'magic', 'happen', 'help', 'beginn', 'want', 'creat', 'design', 'layout', 'beauti', 'design', 'applic', 'make', 'gaphic', 'desing', 'easi', 'love', 'featur', 'avail', 'due', 'premium', 'price', 'slow', 'load', 'lot', 'data', 'consum', 'laggi', 'app', 'use', 'app', 'unhealthi', 'app', 'user', 'friendli', 'laggi', 'app', 'amaz', 'app', 'realli', 'easi', 'use', 'hassl', 'best', 'app', 'love', 'app', 'use', 'free', 'without', 'limit', 'time', 'also', 'purchas', 'unlimit', 'effect', 'mani', 'bug', 'love', 'result', 'produc', 'show', 'free', 'nt', 'use', 'freeli', 'watermark', 'forc', 'buy', 'nice', 'great', 'experi', 'start', 'someth', 'decid', 'make', 'download', 'thing', 'went', 'beauti', 'invit', 'nice', 'help', 'make', 'logo', 'thing', 'great', 'awesom', 'editor', 'super', 'easi', 'sometim', 'probabl', 'low', 'internet', 'speed', 'post', 'get', 'download', 'app', 'still', 'show', 'prepar', 'design', 'took', 'forev', 'save', 'design', 'end', 'ca', 'nt', 'save', 'second', 'edit', 'unabl', 'save', 'pictur', 'worst', 'applic', 'ever', 'way', 'much', 'work', 'add', 'text', 'simpl', 'pic', 'love', 'app', 'help', 'busi', 'photoshop', 'crash', 'poor', 'unabl', 'download', 'creat', 'graphic', 'slow', 'af', 'almost', 'finish', 'design', 'spend', 'much', 'time', 'crush', 'didnt', 'save', 'rubbish', 'app', 'fabul', 'app', 'easi', 'use', 'get', 'result', 'make', 'logo', 'use', 'templat', 'app', 'useful', 'awesom', 'app', 'must', 'download', 'great', 'app', 'creat', 'whatev', 'want', 'also', 'mani', 'photo', 'soo', 'amaz', 'mani', 'thing', 'motiv', 'edit', 'youtub', 'channel', 'make', 'collag', 'templat', 'festiv', 'nt', 'star', 'els', 'gave', 'guy', 'say', 'free', 'thing', 'ask', 'payment', 'pleas', 'dont', 'wast', 'time', 'guy', 'easi', 'use', 'realli', 'enjoy', 'make', 'aesthet', 'pictur', 'edit', 'app', 'thank', 'canva', 'nice', 'templat', 'design', 'option', 'fun', 'easi', 'use', 'lot', 'great', 'design', 'effect', 'use', 'app', 'flier', 'natur', 'cool', 'lot', 'featur', 'app', 'good', 'time', 'work', 'slowli', 'edit', 'slow', 'work', 'problem', 'saught', 'help', 'app', 'take', 'tooo', 'long', 'download', 'design', 'devic', 'new', 'updat', 'app', 'keep', 'lag', 'awesom', 'app', 'rel', 'easi', 'understand', 'use', 'rate', 'star', 'nice', 'app', 'love', 'want', 'add', 'cut', 'past', 'option', 'app', 'star', 'way', 'wonder', 'creativ', 'peak', 'sorri', 'poor', 'review', 'review', 'updat', 'fantast', 'easi', 'use', 'realli', 'mobil', 'friendli', 'app', 'thank', 'canva', 'element', 'templat', 'text', 'goooooodi', 'love', 'app', 'much', 'amz', 'beginn', 'also', 'pro', 'graphic', 'design', 'lag', 'much', 'even', 'though', 'ghz', 'phone', 'good', 'lag', 'nice', 'app', 'edit', 'video', 'make', 'present', 'realli', 'great', 'app', 'make', 'design', 'easi', 'use', 'app', 'basic', 'tool', 'creativ', 'tri', 'buy', 'canva', 'pro', 'constantli', 'show', 'card', 'unavail', 'actual', 'use', 'pleas', 'tell', 'fix', 'great', 'templat', 'avail', 'easi', 'use', 'conveni', 'updat', 'latest', 'featur', 'love', 'video', 'made', 'good', 'video', 'sound', 'output', 'clearfix', 'easi', 'use', 'user', 'friendli', 'time', 'save', 'awesom', 'app', 'everyth', 'need', 'designinhg', 'whatev', 'need', 'nice', 'user', 'interfac', 'easi', 'use', 'fun', 'great', 'app', 'like', 'app', 'make', 'mani', 'assign', 'school', 'everybodi', 'tell', 'super', 'photo', 'nice', 'use', 'need', 'interest', 'logo', 'templat', 'game', 'extraordinari', 'simplest', 'graphic', 'design', 'app', 'ever', 'app', 'make', 'graphic', 'design', 'magnific', 'softwar', 'graphic', 'design', 'best', 'ever', 'see', 'far', 'except', 'user', 'friendli', 'complic', 'app', 'realli', 'great', 'usei', 'edit', 'design', 'want', 'review', 'tri', 'sign', 'ca', 'nt', 'get', 'code', 'tri', 'finish', 'process', 'code', 'accept', 'start', 'aga', 'help', 'pleas', 'best', 'graphic', 'design', 'ever', 'simpli', 'love', 'app', 'good', 'app', 'app', 'thumnail', 'get', 'mark', 'app', 'canva', 'get', 'mark', 'perfect', 'app', 'mind', 'blow', 'use', 'app', 'poster', 'banner', 'stori', 'mani', 'thing', 'love', 'app', 'everyth', 'look', 'app', 'edit', 'phone', 'creat', 'thumbnail', 'right', 'app', 'good', 'app', 'mani', 'filter', 'video', 'time', 'short', 'love', 'app', 'prefect', 'get', 'upgrad', 'app', 'mani', 'featur', 'amaz', 'super', 'easi', 'use', 'mani', 'possibl', 'app', 'cool', 'use', 'app', 'editor', 'youtub', 'love', 'app', 'internet', 'consum', 'rate', 'high', 'everi', 'time', 'load', 'tamplet', 'load', 'templet', 'awesom', 'app', 'creater', 'even', 'youtub', 'ig', 'other', 'social', 'media', 'platform', 'fantast', 'creat', 'someth', 'new', 'longer', 'publish', 'insta', 'sinc', 'week', 'despit', 'uninstal', 'tri', 'good', 'creat', 'present', 'also', 'good', 'take', 'subscript', 'also', 'app', 'quit', 'dope', 'network', 'stabl', 'realli', 'love', 'canva', 'friendlyus', 'anyon', 'resum', 'cv', 'etc', 'hasslefre', 'good', 'data', 'wifi', 'kindli', 'configur', 'offlin', 'mode', 'best', 'app', 'edit', 'pic', 'make', 'poster', 'card', 'thank', 'alot', 'app', 'keep', 'hang', 'restart', 'everytim', 'tri', 'edit', 'someth', 'realli', 'good', 'app', 'made', 'design', 'matter', 'minut', 'love', 'app', 'possibl', 'limitless', 'pretti', 'good', 'easi', 'use', 'made', 'good', 'design', 'easi', 'use', 'alway', 'great', 'result', 'love', 'app', 'realli', 'get', 'lost', 'world', 'creativ', 'mind', 'amaz', 'tri', 'littl', 'hard', 'use', 'uh', 'get', 'easi', 'great', 'app', 'design', 'logo', 'make', 'collag', 'amaz', 'graphic', 'activ', 'love', 'app', 'best', 'app', 'use', 'free', 'version', 'use', 'without', 'pay', 'money', 'love', 'like', 'app', 'find', 'difficult', 'save', 'design', 'unabl', 'save', 'design', 'great', 'app', 'emerg', 'use', 'case', 'nt', 'access', 'canva', 'web', 'conveni', 'make', 'poster', 'interest', 'realli', 'help', 'offici', 'purpos', 'recent', 'ca', 'nt', 'download', 'anyth', 'even', 'updat', 'app', 'take', 'forev', 'save', 'present', 'get', 'solut', 'love', 'app', 'best', 'buck', 'spent', 'design', 'everyth', 'watch', 'world', 'amaz', 'anyon', 'make', 'content', 'vedio', 'anim', 'graphic', 'wide', 'rang', 'edit', 'may', 'function', 'find', 'worth', 'buy', 'premium', 'canva', 'easi', 'use', 'provid', 'ton', 'beauti', 'templat', 'day', 'enjoy', 'app', 'noob', 'also', 'edit', 'simpl', 'clean', 'nice', 'work', 'applic', 'help', 'logo', 'design', 'etc', 'ca', 'nt', 'download', 'app', 'one', 'apart', 'download', 'glitch', 'uninstal', 'app', 'order', 'see', 'whether', 'would', 'help', 'ca', 'nt', 'download', 'realli', 'like', 'app', 'reason', 'behind', 'star', 'problem', 'becom', 'pro', 'quick', 'easi', 'use', 'love', 'app', 'easi', 'design', 'nice', 'app', 'edit', 'poster', 'flyer', 'cardsetc', 'absolut', 'love', 'app', 'version', 'featur', 'web', 'version', 'take', 'much', 'time', 'save', 'imag', 'bad', 'experi', 'app', 'realli', 'good', 'content', 'creat', 'person', 'like', 'edit', 'someth', 'great', 'end', 'useful', 'app', 'pictur', 'busi', 'card', 'logo', 'good', 'app', 'awesom', 'app', 'found', 'edit', 'poster', 'video', 'onthank', 'canava', 'team', 'pleas', 'provid', 'youtub', 'logo', 'subscrib', 'featur', 'help', 'add', 'thumbnail', 'otherwis', 'good', 'highli', 'recommend', 'app', 'easi', 'work', 'fast', 'pleas', 'download', 'see', 'realli', 'deserv', 'star', 'even', 'goodbut', 'improv', 'sketch', 'qualiti', 'hard', 'navig', 'tablet', 'ca', 'nt', 'use', 'copi', 'past', 'right', 'click', 'like', 'app', 'want', 'remov', 'background', 'charg', 'money', 'nt', 'know', 'n', 'use', 'free', 'annoy', 'app', 'keep', 'prompt', 'email', 'alway', 'technic', 'issu', 'work', 'download', 'learn', 'basic', 'design', 'appthi', 'app', 'effect', 'effort', 'hobbythank', 'realli', 'good', 'app', 'provid', 'mani', 'mani', 'premium', 'featur', 'free', 'easi', 'use', 'friendli', 'toward', 'app', 'amaz', 'app', 'make', 'certif', 'logo', 'poster', 'need', 'short', 'video', 'anim', 'like', 'exist', 'one', 'though', 'best', 'app', 'use', 'web', 'design', 'incred', 'app', 'great', 'like', 'easi', 'creat', 'ever', 'want', 'creat', 'easi', 'use', 'mani', 'design', 'choos', 'wow', 'app', 'deserv', 'star', 'wonder', 'app', 'realli', 'amaz', 'creat', 'logo', 'keep', 'develop', 'worst', 'app', 'ever', 'ca', 'nt', 'download', 'video', 'even', 'though', 'connect', 'good', 'wifi', 'network', 'saaaad', 'welldon', 'far', 'canva', 'pleas', 'would', 'love', 'give', 'stroke', 'letter', 'make', 'possibl', 'pleas', 'textstrok', 'last', 'review', 'done', 'absolut', 'excel', 'seek', 'help', 'creat', 'onlin', 'repositori', 'serv', 'portfolio', 'graphic', 'design', 'hope', 'would', 'answer', 'ralph', 'time', 'best', 'app', 'design', 'flyer', 'mani', 'option', 'creat', 'dream', 'cool', 'app', 'comfort', 'easi', 'conveni', 'use', 'worth', 'download', 'pleas', 'tri', 'genuin', 'life', 'saver', 'start', 'busi', 'afford', 'graphic', 'design', 'superb', 'app', 'use', 'everyth', 'mean', 'edit', 'recommend', 'app', 'filmora', 'filmora', 'copi', 'canva', 'would', 'great', 'guy', 'remov', 'watermark', 'review', 'easi', 'app', 'work', 'great', 'small', 'busi', 'realli', 'good', 'birthday', 'present', 'lot', 'cool', 'thing', 'even', 'nt', 'premium', 'best', 'photo', 'editor', 'poster', 'banner', 'maker', 'logo', 'maker', 'awesom', 'app', 'paid', 'canva', 'pro', 'later', 'cancel', 'subscript', 'still', 'get', 'charg', 'subscript', 'nt', 'use', 'cancel', 'alreadi', 'appar', 'unsubscrib', 'awesom', 'mobil', 'app', 'graphic', 'design', 'person', 'love', 'nice', 'app', 'edit', 'make', 'cover', 'photo', 'stori', 'take', 'long', 'time', 'load', 'bad', 'app', 'sync', 'googl', 'acc', 'load', 'never', 'end', 'amazig', 'use', 'canva', 'graphic', 'design', 'though', 'still', 'improv', 'gon', 'na', 'tri', 'latest', 'design', 'option', 'thank', 'conveni', 'easi', 'use', 'nice', 'applic', 'esi', 'photo', 'pamphlet', 'etc', 'editor', 'content', 'app', 'german', 'option', 'switch', 'english', 'useless', 'download', 'edit', 'imag', 'load', 'show', 'prepar', 'design', 'hour', 'save', 'mobil', 'love', 'app', 'flyer', 'alway', 'best', 'get', 'great', 'feedback', 'canva', 'adapt', 'use', 'stylish', 'templat', 'design', 'love', 'alway', 'use', 'busi', 'ad', 'worth', 'realli', 'love', 'app', 'abl', 'make', 'job', 'announc', 'use', 'amaz', 'design', 'templat', 'open', 'app', 'first', 'start', 'say', 'updat', 'requir', 'fix', 'pleas', 'could', 'nt', 'even', 'log', 'download', 'today', 'ca', 'nt', 'even', 'log', 'even', 'upon', 'good', 'smooth', 'network', 'love', 'use', 'app', 'creat', 'wed', 'invit', 'super', 'easi', 'use', 'save', 'design', 'hang', 'complet', 'save', 'earlier', 'work', 'fine', 'best', 'provid', 'readymad', 'templat', 'easi', 'use', 'good', 'easi', 'app', 'work', 'user', 'friendli', 'quick', 'easi', 'ton', 'option', 'avail', 'nice', 'one', 'stop', 'app', 'u', 'make', 'alot', 'design', 'present', 'ca', 'nt', 'find', 'anyth', 'better', 'app', 'mobil', 'nt', 'know', 'stuck', 'load', 'play', 'creat', 'video', 'pleas', 'tell', 'like', 'user', 'interfac', 'easi', 'use', 'templat', 'great', 'app', 'design', 'anyth', 'want', 'truli', 'workingfriendli', 'use', 'light', 'app', 'creativ', 'mind', 'profession', 'thank', 'launchinghappi', 'design', 'wish', 'gradient', 'color', 'otherwis', 'fantast', 'app', 'dear', 'canva', 'unabl', 'save', 'project', 'good', 'internet', 'connect', 'still', 'stuck', 'solv', 'issu', 'earli', 'possibl', 'give', 'four', 'star', 'amaz', 'app', 'though', 'take', 'time', 'load', 'recommend', 'amaz', 'app', 'intuit', 'use', 'absolut', 'wonder', 'app', 'amaz', 'make', 'edit', 'pictur', 'amaz', 'good', 'thank', 'definit', 'help', 'design', 'ypur', 'first', 'logo', 'busi', 'card', 'etc', 'amaz', 'love', 'design', 'anyth', 'recommend', 'get', 'canva', 'pro', 'wow', 'amaz', 'app', 'oh', 'man', 'superstar', 'graphic', 'design', 'side', 'oh', 'thank', 'alot', 'guy', 'realli', 'help', 'app', 'help', 'complet', 'requir', 'smooth', 'way', 'nice', 'app', 'easi', 'free', 'everyth', 'god', 'bless', 'one', 'best', 'app', 'use', 'templat', 'frame', 'make', 'competit', 'unfold', 'also', 'good', 'absolut', 'exquisit', 'best', 'app', 'ever', 'use', 'social', 'media', 'content', 'keep', 'good', 'work', 'guy', 'love', 'easi', 'get', 'great', 'idea', 'turn', 'someth', 'amaz', 'thank', 'develop', 'app', 'save', 'lot', 'time', 'realli', 'use', 'beginn', 'freelanc', 'process', 'save', 'video', 'slow', 'old', 'version', 'better', 'nice', 'say', 'excel', 'app', 'video', 'edit', 'sometim', 'take', 'long', 'load', 'brillent', 'perfect', 'time', 'free', 'templat', 'top', 'class', 'great', 'app', 'quick', 'design', 'phone', 'super', 'app', 'use', 'make', 'present', 'video', 'love', 'thank', 'canva', 'hi', 'develop', 'design', 'save', 'put', 'mani', 'pic', 'dave', 'design', 'help', 'pleas', 'tq', 'amaiz', 'easi', 'use', 'alot', 'free', 'templat', 'make', 'easi', 'tous', 'crash', 'time', 'take', 'much', 'time', 'open', 'annoy', 'ca', 'nt', 'even', 'download', 'imag', 'upload', 'instagram', 'goe', 'infinit', 'wait', 'love', 'app', 'realli', 'good', 'app', 'r', 'new', 'technolog', 'even', 'misunderstood', 'di', 'app', 'recommend', 'easi', 'use', 'creativ', 'level', 'soar', 'design', 'offer', 'canva', 'worst', 'app', 'disappoint', 'instal', 'uninstal', 'twice', 'noth', 'improv', 'app', 'show', 'black', 'work', 'properli', 'imposs', 'even', 'log', 'let', 'alon', 'use', 'nice', 'app', 'help', 'work', 'perfectli', 'keep', 'good', 'work', 'recent', 'download', 'problem', 'save', 'file', 'take', 'much', 'time', 'minut', 'plz', 'check', 'issu', 'canva', 'flexibl', 'softwar', 'beginn', 'easi', 'access', 'usedul', 'free', 'tool', 'use', 'one', 'best', 'app', 'design', 'collag', 'poster', 'much', 'beat', 'thing', 'app', 'consist', 'lot', 'templat', 'worst', 'app', 'ever', 'want', 'reset', 'password', 'account', 'told', 'get', 'right', 'code', 'sent', 'right', 'say', 'wrong', 'cant', 'log', 'hate', 'hate', 'hate', 'hate', 'hate', 'hate', 'hate', 'hate', 'hate', 'app', 'love', 'love', 'love', 'canva', 'make', 'edit', 'design', 'soo', 'much', 'fun', 'easi', 'professionallook', 'easi', 'use', 'use', 'app', 'well', 'tri', 'make', 'design', 'noth', 'work', 'today', 'tri', 'updat', 'still', 'nt', 'work', 'lovveee', 'canva', 'sm', 'make', 'pfp', 'banner', 'pintrest', 'card', 'stuff', 'birthday', 'holiday', 'rli', 'good', 'app', 'mostli', 'free', 'could', 'nt', 'replac', 'imag', 'free', 'templat', 'samsung', 'tablet', 'imag', 'superimpos', 'exist', 'pictur', 'everyth', 'free', 'pictur', 'v', 'p', 'love', 'thumbnail', 'maker', 'lot', 'troubl', 'upload', 'googl', 'drive', 'great', 'photoshop', 'leav', 'that', 'need', 'awesom', 'shirt', 'design', 'poster', 'nice', 'app', 'someth', 'wrong', 'save', 'video', 'gif', 'easi', 'ui', 'great', 'templat', 'app', 'amaz', 'done', 'good', 'design', 'minut', 'mind', 'brilliant', 'app', 'mani', 'opportun', 'us', 'recommend', 'everyon', 'best', 'app', 'beginn', 'like', 'love', 'advertis', 'problem', 'sort', 'good', 'take', 'time', 'understand', 'tha', 'feather', 'excel', 'aap', 'make', 'pamphlet', 'beauti', 'work', 'easi', 'use', 'afford', 'love', 'sure', 'best', 'app', 'make', 'banner', 'thumbnail', 'logo', 'think', 'good', 'edit', 'photo', 'whichev', 'like', 'featur', 'noth', 'copi', 'past', 'write', 'test', 'write', 'solv', 'problem', 'easi', 'manuv', 'full', 'templat', 'conveni', 'use', 'pictur', 'video', 'edit', 'nice', 'app', 'help', 'much', 'matter', 'graphic', 'design', 'nice', 'way', 'make', 'beauti', 'creativ', 'design', 'use', 'year', 'perfect', 'recommend', 'use', 'pc', 'laptop', 'phone', 'awesom', 'app', 'soooo', 'mani', 'featur', 'video', 'use', 'love', 'app', 'help', 'applic', 'amaz', 'design', 'stlye', 'logo', 'creat', 'applic', 'amazingli', 'simpl', 'smart', 'highli', 'advanc', 'featur', 'easiest', 'use', 'much', 'satisfi', 'applic', 'awesom', 'edit', 'everyth', 'go', 'well', 'badli', 'need', 'dark', 'mode', 'canva', 'caus', 'switch', 'light', 'mode', 'whenev', 'use', 'canva', 'canva', 'cool', 'make', 'basic', 'high', 'qualiti', 'design', 'best', 'app', 'creat', 'ad', 'logo', 'poster', 'nice', 'app', 'edit', 'poster', 'flyer', 'excel', 'app', 'make', 'banner', 'nt', 'use', 'anyth', 'els', 'easi', 'simpl', 'free', 'without', 'watermark', 'use', 'user', 'friendli', 'easi', 'free', 'tool', 'use', 'thank', 'canva', 'use', 'canva', 'learn', 'lot', 'platform', 'hello', 'use', 'apk', 'work', 'say', 'connect', 'wifi', 'connet', 'wifi', 'workingpleas', 'fix', 'problem', 'easi', 'use', 'mani', 'templat', 'free', 'ca', 'nt', 'save', 'post', 'social', 'media', 'page', 'anyth', 'creat', 'app', 'pleas', 'fix', 'featur', 'make', 'design', 'easier', 'complet', 'quickli', 'ad', 'easi', 'use', 'lot', 'templat', 'featur', 'cool', 'app', 'good', 'busi', 'factor', 'ayeconet', 'curriculum', 'small', 'buis', 'even', 'larger', 'great', 'way', 'creat', 'promot', 'item', 'easili', 'templet', 'work', 'special', 'line', 'circl', 'great', 'program', 'make', 'visual', 'need', 'busi', 'person', 'use', 'app', 'featur', 'one', 'best', 'edit', 'app', 'search', 'best', 'video', 'editor', 'app', 'first', 'app', 'seen', 'screeni', 'suggest', 'one', 'interest', 'edit', 'instal', 'canva', 'app', 'nt', 'seen', 'app', 'like', 'wide', 'varieti', 'option', 'edit', 'round', 'shape', 'logo', 'design', 'avail', 'work', 'slowli', 'canva', 'app', 'realli', 'cool', 'awesom', 'lot', 'thing', 'differ', 'design', 'realli', 'realli', 'good', 'attract', 'templat', 'great', 'app', 'integr', 'finish', 'task', 'highli', 'recommend', 'creator', 'perfect', 'work', 'phone', 'easi', 'use', 'free', 'far', 'good', 'first', 'took', 'hour', 'download', 'prepar', 'sign', 'cool', 'next', 'creation', 'download', 'second', 'good', 'app', 'design', 'font', 'icon', 'ect', 'well', 'user', 'friendli', 'must', 'download', 'love', 'easi', 'work', 'lot', 'free', 'templat', 'tri', 'love', 'clear', 'photo', 'past', 'photo', 'anoth', 'one', 'si', 'neat', 'job', 'love', 'app', 'nice', 'time', 'app', 'nt', 'work', 'properli', 'perfect', 'applic', 'design', 'extrem', 'easi', 'use', 'best', 'platform', 'design', 'poster', 'use', 'sinc', 'long', 'work', 'pretti', 'darn', 'well', 'easi', 'use', 'realli', 'complaint', 'yet', 'rare', 'review', 'app', 'guy', 'great', 'job', 'come', 'say', 'thank', 'keep', 'user', 'friendli', 'idiot', 'savant', 'simpl', 'thing', 'hard', 'complex', 'thing', 'easier', 'trash', 'wo', 'nt', 'even', 'start', 'stuck', 'canva', 'logo', 'wo', 'nt', 'even', 'let', 'sign', 'app', 'super', 'help', 'simpl', 'practic', 'great', 'app', 'realli', 'good', 'app', 'interest', 'make', 'introsoutro', 'amaz', 'applic', 'sometim', 'slow', 'thank', 'x', 'creator', 'app', 'help', 'thousand', 'student', 'art', 'video', 'creator', 'design', 'amaz', 'attract', 'banner', 'poster', 'imag', 'thank', 'canva', 'good', 'experiencejust', 'add', 'word', 'shape', 'app', 'good', 'trash', 'never', 'let', 'download', 'design', 'love', 'omggggg', 'realli', 'good', 'aesthet', 'collag', 'make', 'app', 'come', 'major', 'benefit', 'templat', 'use', 'great', 'easili', 'creat', 'quick', 'engag', 'content', 'know', 'noth', 'design', 'mock', 'item', 'make', 'someon', 'went', 'perfectli', 'good', 'app', 'save', 'design', 'app', 'slow', 'help', 'make', 'perfectli', 'easi', 'make', 'pictur', 'canva', 'team', 'make', 'sure', 'work', 'save', 'hour', 'tri', 'save', 'work', 'noth', 'good', 'app', 'poor', 'storag', 'option', 'love', 'found', 'problem', 'pictur', 'fit', 'project', 'use', 'app', 'two', 'day', 'app', 'best', 'make', 'logo', 'resum', 'colleg', 'photo', 'lot', 'thing', 'nice', 'logo', 'thumbnail', 'edit', 'facebook', 'instagram', 'tube', 'use', 'edit', 'app', 'chang', 'text', 'background', 'fill', 'colour', 'chang', 'app', 'plz', 'add', 'option', 'ca', 'nt', 'get', 'app', 'wait', 'minut', 'best', 'way', 'could', 'think', 'sinc', 'nt', 'know', 'could', 'report', 'problem', 'noti', 'would', 'give', 'good', 'review', 'could', 'even', 'get', 'app', 'superb', 'applic', 'u', 'work', 'relat', 'graphic', 'design', 'consum', 'lot', 'data', 'download', 'problem', 'take', 'lot', 'time', 'download', 'get', 'stuck', 'download', 'use', 'app', 'like', 'creat', 'market', 'materi', 'anyon', 'easi', 'use', 'definit', 'recommend', 'good', 'get', 'creativ', 'side', 'go', 'work', 'well', 'internet', 'auto', 'save', 'work', 'kind', 'love', 'easi', 'use', 'everyon', 'amateur', 'expert', 'issu', 'canva', 'keep', 'say', 'offlin', 'load', 'download', 'imag', 'png', 'format', 'qualiti', 'imag', 'decreas', 'badli', 'take', 'screenshot', 'post', 'post', 'facebook', 'plz', 'look', 'issu', 'overal', 'good', 'appnic', 'handl', 'smoothlybut', 'bugdevelop', 'must', 'fix', 'easi', 'make', 'cover', 'want', 'make', 'app', 'best', 'app', 'ever', 'use', 'request', 'let', 'us', 'add', 'music', 'also', 'let', 'us', 'search', 'music', 'add', 'keep', 'mobil', 'tablet', 'realli', 'dificcult', 'use', 'pl', 'improv', 'superb', 'app', 'enjoy', 'lot', 'creat', 'mani', 'quotat', 'card', 'super', 'worst', 'app', 'unabl', 'add', 'imag', 'app', 'continuesli', 'crash', 'canva', 'canva', 'canva', 'awesom', 'best', 'ever', 'tool', 'grow', 'busi', 'doubt', 'creativ', 'peopl', 'work', 'canva', 'team', 'bless', 'develop', 'app', 'thank', 'much', 'keep', 'good', 'work', 'god', 'bless', 'gud', 'app', 'use', 'children', 'design', 'project', 'superb', 'applic', 'edit', 'continu', 'practic', 'help', 'guy', 'creat', 'profession', 'edit', 'canva', 'love', 'much', 'sooo', 'easi', 'use', 'use', 'app', 'easi', 'fast', 'made', 'flyer', 'less', 'min', 'amaz', 'applic', 'love', 'featur', 'easi', 'reliabl', 'use', 'download', 'part', 'take', 'much', 'time', 'nt', 'even', 'finish', 'good', 'applic', 'edit', 'creat', 'resum', 'best', 'app', 'edit', 'templat', 'thumbnail', 'photo', 'free', 'realli', 'like', 'app', 'realli', 'easi', 'use', 'also', 'phone', 'version', 'effici', 'interest', 'app', 'help', 'lot', 'school', 'project', 'instal', 'like', 'app', 'much', 'great', 'app', 'work', 'even', 'better', 'use', 'know', 'keep', 'good', 'work', 'go', 'even', 'choos', 'tempalt', 'accod', 'ly', 'still', 'fit', 'eg', 'wahtsapp', 'stori', 'post', 'design', 'fit', 'stori', 'page', 'absolut', 'amaz', 'lifesav', 'teacher', 'nice', 'mani', 'time', 'show', 'error', 'open', 'ppt', 'school', 'project', 'disturb', 'much', 'lag', 'alway', 'stuck', 'start', 'page', 'worst', 'app', 'nt', 'download', 'nice', 'app', 'colleg', 'work', 'mani', 'featur', 'templat', 'work', 'love', 'teacher', 'much', 'school', 'year', 'love']\n"
     ]
    },
    {
     "data": {
      "text/plain": [
       "(None, 13311)"
      ]
     },
     "execution_count": 189,
     "metadata": {},
     "output_type": "execute_result"
    }
   ],
   "source": [
    "print(word_list), len(word_list)"
   ]
  },
  {
   "cell_type": "code",
   "execution_count": 190,
   "metadata": {},
   "outputs": [
    {
     "data": {
      "text/plain": [
       "1656"
      ]
     },
     "execution_count": 190,
     "metadata": {},
     "output_type": "execute_result"
    }
   ],
   "source": [
    "word_set = set(word_list)\n",
    "len(word_set)"
   ]
  },
  {
   "cell_type": "markdown",
   "metadata": {},
   "source": [
    "### Bag of Words"
   ]
  },
  {
   "cell_type": "code",
   "execution_count": 191,
   "metadata": {},
   "outputs": [],
   "source": [
    "def word_join(words):\n",
    "    \n",
    "    return \" \".join(words)\n"
   ]
  },
  {
   "cell_type": "code",
   "execution_count": 192,
   "metadata": {},
   "outputs": [
    {
     "data": {
      "text/plain": [
       "0    overal realli amaz app use past year howev one...\n",
       "1    hey ye gave star rate coz believ deserv mostli...\n",
       "2    canva use good app recent face issu save file ...\n",
       "3    brilliant app one problem edit post doubl tap ...\n",
       "4    great app use make bt meme recent updat abl ch...\n",
       "Name: review, dtype: object"
      ]
     },
     "execution_count": 192,
     "metadata": {},
     "output_type": "execute_result"
    }
   ],
   "source": [
    "reviews[\"review\"] = reviews[\"review\"].apply(word_join)\n",
    "\n",
    "reviews[\"review\"].head()"
   ]
  },
  {
   "cell_type": "code",
   "execution_count": 193,
   "metadata": {},
   "outputs": [
    {
     "data": {
      "text/plain": [
       "collections.Counter"
      ]
     },
     "execution_count": 193,
     "metadata": {},
     "output_type": "execute_result"
    }
   ],
   "source": [
    "type(counts)"
   ]
  },
  {
   "cell_type": "code",
   "execution_count": 194,
   "metadata": {},
   "outputs": [],
   "source": [
    "vect = CountVectorizer(binary=True, min_df=5)\n",
    "X = vect.fit_transform(reviews[\"review\"])"
   ]
  },
  {
   "cell_type": "code",
   "execution_count": 195,
   "metadata": {},
   "outputs": [
    {
     "data": {
      "text/plain": [
       "(1500, 409)"
      ]
     },
     "execution_count": 195,
     "metadata": {},
     "output_type": "execute_result"
    }
   ],
   "source": [
    "X.shape"
   ]
  },
  {
   "cell_type": "code",
   "execution_count": 196,
   "metadata": {},
   "outputs": [
    {
     "data": {
      "text/plain": [
       "<1500x409 sparse matrix of type '<class 'numpy.int64'>'\n",
       "\twith 10608 stored elements in Compressed Sparse Row format>"
      ]
     },
     "execution_count": 196,
     "metadata": {},
     "output_type": "execute_result"
    }
   ],
   "source": [
    "X"
   ]
  },
  {
   "cell_type": "code",
   "execution_count": 199,
   "metadata": {},
   "outputs": [
    {
     "name": "stdout",
     "output_type": "stream",
     "text": [
      "{'overal': 241, 'realli': 286, 'amaz': 16, 'app': 23, 'use': 374, 'past': 244, 'year': 405, 'howev': 167, 'one': 235, 'issu': 182, 'though': 355, 'want': 381, 'get': 147, 'sinc': 312, 'think': 354, 'last': 191, 'mani': 212, 'text': 351, 'zoom': 408, 'thought': 356, 'mobil': 219, 'also': 14, 'present': 268, 'websit': 386, 'pleas': 260, 'fix': 131, 'still': 330, 'time': 358, 'export': 118, 'high': 163, 'definit': 81, 'love': 207, 'experi': 116, 'thank': 352, 'gave': 146, 'star': 328, 'rate': 284, 'deserv': 82, 'desktop': 84, 'version': 378, 'satisfi': 298, 'android': 17, 'develop': 85, 'beauti': 39, 'liter': 199, 'find': 127, 'almost': 11, 'everyth': 112, 'need': 226, 'best': 42, 'even': 108, 'without': 393, 'premium': 266, 'featur': 124, 'provid': 278, 'us': 373, 'lot': 206, 'canva': 54, 'good': 151, 'recent': 287, 'face': 119, 'save': 299, 'file': 126, 'stuck': 333, 'download': 93, 'call': 51, 'magic': 210, 'happen': 158, 'hope': 165, 'soon': 326, 'brilliant': 46, 'problem': 273, 'edit': 98, 'post': 264, 'photo': 252, 'start': 329, 'crash': 73, 'restart': 291, 'sometim': 324, 'go': 150, 'resum': 293, 'back': 34, 'great': 155, 'make': 211, 'updat': 370, 'abl': 1, 'chang': 56, 'font': 133, 'style': 337, 'option': 238, 'miss': 218, 'tri': 364, 'uninstal': 369, 'instal': 176, 'nt': 232, 'work': 397, 'far': 122, 'better': 43, 'could': 71, 'first': 130, 'give': 148, 'review': 294, 'creat': 74, 'logo': 203, 'small': 317, 'compani': 65, 'busi': 48, 'data': 79, 'see': 302, 'job': 183, 'basic': 38, 'design': 83, 'well': 387, 'keep': 184, 'take': 346, 'away': 32, 'free': 136, 'put': 280, 'subscript': 339, 'new': 229, 'ad': 6, 'graphic': 154, 'feel': 125, 'price': 270, 'pretti': 269, 'everi': 110, 'day': 80, 'month': 222, 'thumbnail': 357, 'banner': 37, 'video': 379, 'watermark': 383, 'look': 205, 'much': 223, 'attract': 28, 'peopl': 247, 'come': 64, 'wonder': 395, 'superb': 343, 'user': 376, 'interfac': 178, 'finish': 129, 'awesom': 33, 'paid': 243, 'product': 274, 'like': 196, 'full': 140, 'function': 142, 'kind': 185, 'skill': 314, 'easi': 95, 'purchas': 279, 'never': 228, 'said': 297, 'check': 59, 'seen': 304, 'pictur': 255, 'wast': 382, 'solv': 322, 'easier': 96, 'tool': 361, 'etc': 107, 'slow': 316, 'load': 201, 'especi': 106, 'stress': 332, 'got': 153, 'wait': 380, 'stuff': 335, 'page': 242, 'went': 388, 'improv': 172, 'disappoint': 89, 'wish': 392, 'close': 62, 'unabl': 367, 'noth': 231, 'help': 162, 'turn': 365, 'art': 26, 'money': 221, 'readi': 285, 'templat': 350, 'friendli': 138, 'poster': 265, 'conveni': 69, 'slide': 315, 'select': 305, 'frustrat': 139, 'automat': 30, 'anoth': 20, 'ca': 50, 'may': 214, 'show': 308, 'imag': 170, 'done': 90, 'hate': 161, 'complet': 66, 'background': 35, 'bad': 36, 'open': 237, 'let': 194, 'project': 276, 'social': 320, 'media': 215, 'site': 313, 'ever': 109, 'anyth': 22, 'glitch': 149, 'nice': 230, 'add': 7, 'thing': 353, 'remov': 289, 'long': 204, 'connect': 67, 'worst': 399, 'lag': 188, 'becom': 40, 'auto': 29, 'team': 347, 'enough': 104, 'say': 300, 'pro': 272, 'alot': 12, 'low': 208, 'fantast': 121, 'applic': 24, 'happi': 159, 'youtub': 407, 'someth': 323, 'perfect': 248, 'beginn': 41, 'right': 295, 'cool': 70, 'annoy': 19, 'share': 307, 'mode': 220, 'galleri': 144, 'log': 202, 'alway': 15, 'card': 55, 'advertis': 8, 'interest': 177, 'differ': 87, 'creator': 76, 'recommend': 288, 'everyon': 111, 'total': 363, 'would': 401, 'plz': 261, 'place': 257, 'creativ': 75, 'play': 259, 'life': 195, 'profession': 275, 'properli': 277, 'servic': 306, 'qualiti': 281, 'offer': 233, 'custom': 77, 'incred': 173, 'phone': 251, 'impress': 171, 'easili': 97, 'intuit': 180, 'afford': 9, 'absolut': 2, 'choos': 60, 'person': 250, 'yet': 406, 'made': 209, 'know': 187, 'other': 239, 'write': 403, 'tell': 349, 'wrong': 404, 'less': 193, 'idea': 168, 'varieti': 377, 'im': 169, 'requir': 290, 'payment': 246, 'simpl': 310, 'laptop': 190, 'fun': 141, 'perfectli': 249, 'pl': 256, 'platform': 258, 'way': 384, 'super': 342, 'cover': 72, 'end': 102, 'result': 292, 'sure': 344, 'anyon': 21, 'content': 68, 'anim': 18, 'error': 105, 'technic': 348, 'instagram': 175, 'softwar': 321, 'subscrib': 338, 'fast': 123, 'internet': 179, 'pay': 245, 'allow': 10, 'editor': 99, 'stori': 331, 'must': 224, 'world': 398, 'hang': 157, 'channel': 57, 'birthday': 44, 'facebook': 120, 'flyer': 132, 'suck': 340, 'charg': 58, 'student': 334, 'learn': 192, 'seem': 303, 'school': 301, 'bit': 45, 'otherwis': 240, 'excel': 114, 'smoothli': 319, 'top': 362, 'click': 61, 'bug': 47, 'cant': 53, 'access': 3, 'onlin': 236, 'quick': 282, 'difficult': 88, 'ton': 359, 'smooth': 318, 'friend': 137, 'market': 213, 'network': 227, 'cancel': 52, 'avail': 31, 'game': 145, 'offlin': 234, 'fine': 128, 'experienc': 117, 'photoshop': 253, 'wo': 394, 'googl': 152, 'account': 4, 'special': 327, 'aap': 0, 'print': 271, 'navig': 225, 'invit': 181, 'enjoy': 103, 'suggest': 341, 'understand': 368, 'useless': 375, 'insta': 174, 'hour': 166, 'line': 198, 'type': 366, 'due': 94, 'whatev': 389, 'highli': 164, 'collag': 63, 'found': 135, 'doubt': 92, 'effect': 100, 'email': 101, 'quit': 283, 'hard': 160, 'wow': 402, 'wifi': 391, 'ask': 27, 'daili': 78, 'run': 296, 'limit': 197, 'guy': 156, 'soo': 325, 'everytim': 113, 'forev': 134, 'simpli': 311, 'word': 396, 'worth': 400, 'took': 360, 'prepar': 267, 'minut': 217, 'except': 115, 'actual': 5, 'mind': 216, 'upgrad': 371, 'kindli': 186, 'stun': 336, 'pic': 254, 'futur': 143, 'appreci': 25, 'sign': 309, 'alreadi': 13, 'laggi': 189, 'buy': 49, 'upload': 372, 'dont': 91, 'wide': 390, 'littl': 200, 'web': 385, 'devic': 86, 'poor': 262, 'possibl': 263, 'tablet': 345}\n"
     ]
    },
    {
     "data": {
      "text/plain": [
       "(None, 409)"
      ]
     },
     "execution_count": 199,
     "metadata": {},
     "output_type": "execute_result"
    }
   ],
   "source": [
    "print(vect.vocabulary_), len(vect.vocabulary_)"
   ]
  },
  {
   "cell_type": "code",
   "execution_count": 200,
   "metadata": {},
   "outputs": [
    {
     "name": "stdout",
     "output_type": "stream",
     "text": [
      "[[0 0 0 ... 0 0 1]\n",
      " [0 0 0 ... 0 0 0]\n",
      " [0 0 0 ... 0 0 0]\n",
      " ...\n",
      " [0 0 0 ... 0 0 0]\n",
      " [0 0 0 ... 0 0 0]\n",
      " [0 0 0 ... 0 0 0]]\n"
     ]
    }
   ],
   "source": [
    "X_a = X.toarray()\n",
    "print(X_a)"
   ]
  },
  {
   "cell_type": "code",
   "execution_count": 202,
   "metadata": {},
   "outputs": [
    {
     "data": {
      "text/plain": [
       "4"
      ]
     },
     "execution_count": 202,
     "metadata": {},
     "output_type": "execute_result"
    }
   ],
   "source": [
    "X_a[13,:].sum()"
   ]
  },
  {
   "cell_type": "code",
   "execution_count": 203,
   "metadata": {},
   "outputs": [
    {
     "data": {
      "text/plain": [
       "'unabl save work noth work'"
      ]
     },
     "execution_count": 203,
     "metadata": {},
     "output_type": "execute_result"
    }
   ],
   "source": [
    "reviews[\"review\"].loc[13]"
   ]
  },
  {
   "cell_type": "code",
   "execution_count": 212,
   "metadata": {},
   "outputs": [
    {
     "data": {
      "text/plain": [
       "(array([367]),)"
      ]
     },
     "execution_count": 212,
     "metadata": {},
     "output_type": "execute_result"
    }
   ],
   "source": [
    "import numpy as np\n",
    "np.where(vect.get_feature_names_out() == \"unabl\")"
   ]
  },
  {
   "cell_type": "code",
   "execution_count": 213,
   "metadata": {},
   "outputs": [
    {
     "data": {
      "text/plain": [
       "1"
      ]
     },
     "execution_count": 213,
     "metadata": {},
     "output_type": "execute_result"
    }
   ],
   "source": [
    "X_a[13,367]"
   ]
  },
  {
   "cell_type": "code",
   "execution_count": 214,
   "metadata": {},
   "outputs": [
    {
     "data": {
      "text/plain": [
       "(array([397]),)"
      ]
     },
     "execution_count": 214,
     "metadata": {},
     "output_type": "execute_result"
    }
   ],
   "source": [
    "np.where(vect.get_feature_names_out() == \"work\")"
   ]
  },
  {
   "cell_type": "code",
   "execution_count": 215,
   "metadata": {},
   "outputs": [
    {
     "data": {
      "text/plain": [
       "1"
      ]
     },
     "execution_count": 215,
     "metadata": {},
     "output_type": "execute_result"
    }
   ],
   "source": [
    "X_a[13,397]"
   ]
  },
  {
   "cell_type": "code",
   "execution_count": 216,
   "metadata": {},
   "outputs": [
    {
     "data": {
      "text/plain": [
       "(1500, 409)"
      ]
     },
     "execution_count": 216,
     "metadata": {},
     "output_type": "execute_result"
    }
   ],
   "source": [
    "X_a.shape"
   ]
  },
  {
   "cell_type": "code",
   "execution_count": 218,
   "metadata": {},
   "outputs": [],
   "source": [
    "sentiment_mapping = {\n",
    "    \"Positive\": 1,\n",
    "    \"Negative\": 0\n",
    "}"
   ]
  },
  {
   "cell_type": "code",
   "execution_count": 219,
   "metadata": {},
   "outputs": [
    {
     "data": {
      "text/plain": [
       "Sentiment\n",
       "1    1032\n",
       "0     468\n",
       "Name: count, dtype: int64"
      ]
     },
     "execution_count": 219,
     "metadata": {},
     "output_type": "execute_result"
    }
   ],
   "source": [
    "reviews[\"Sentiment\"] = reviews[\"Sentiment\"].map(sentiment_mapping)\n",
    "reviews[\"Sentiment\"].value_counts()"
   ]
  },
  {
   "cell_type": "code",
   "execution_count": 220,
   "metadata": {},
   "outputs": [],
   "source": [
    "y = reviews[\"Sentiment\"]"
   ]
  },
  {
   "cell_type": "markdown",
   "metadata": {},
   "source": [
    "## Split the dataset into train and test sets"
   ]
  },
  {
   "cell_type": "code",
   "execution_count": 221,
   "metadata": {},
   "outputs": [],
   "source": [
    "X_train, X_test, y_train, y_test = train_test_split(X_a,y, test_size=0.2, stratify=y, random_state=42)"
   ]
  },
  {
   "cell_type": "markdown",
   "metadata": {},
   "source": [
    "## Build a Logistic Model"
   ]
  },
  {
   "cell_type": "code",
   "execution_count": 222,
   "metadata": {},
   "outputs": [],
   "source": [
    "model = LogisticRegression()"
   ]
  },
  {
   "cell_type": "code",
   "execution_count": 223,
   "metadata": {},
   "outputs": [
    {
     "data": {
      "text/html": [
       "<style>#sk-container-id-1 {color: black;background-color: white;}#sk-container-id-1 pre{padding: 0;}#sk-container-id-1 div.sk-toggleable {background-color: white;}#sk-container-id-1 label.sk-toggleable__label {cursor: pointer;display: block;width: 100%;margin-bottom: 0;padding: 0.3em;box-sizing: border-box;text-align: center;}#sk-container-id-1 label.sk-toggleable__label-arrow:before {content: \"▸\";float: left;margin-right: 0.25em;color: #696969;}#sk-container-id-1 label.sk-toggleable__label-arrow:hover:before {color: black;}#sk-container-id-1 div.sk-estimator:hover label.sk-toggleable__label-arrow:before {color: black;}#sk-container-id-1 div.sk-toggleable__content {max-height: 0;max-width: 0;overflow: hidden;text-align: left;background-color: #f0f8ff;}#sk-container-id-1 div.sk-toggleable__content pre {margin: 0.2em;color: black;border-radius: 0.25em;background-color: #f0f8ff;}#sk-container-id-1 input.sk-toggleable__control:checked~div.sk-toggleable__content {max-height: 200px;max-width: 100%;overflow: auto;}#sk-container-id-1 input.sk-toggleable__control:checked~label.sk-toggleable__label-arrow:before {content: \"▾\";}#sk-container-id-1 div.sk-estimator input.sk-toggleable__control:checked~label.sk-toggleable__label {background-color: #d4ebff;}#sk-container-id-1 div.sk-label input.sk-toggleable__control:checked~label.sk-toggleable__label {background-color: #d4ebff;}#sk-container-id-1 input.sk-hidden--visually {border: 0;clip: rect(1px 1px 1px 1px);clip: rect(1px, 1px, 1px, 1px);height: 1px;margin: -1px;overflow: hidden;padding: 0;position: absolute;width: 1px;}#sk-container-id-1 div.sk-estimator {font-family: monospace;background-color: #f0f8ff;border: 1px dotted black;border-radius: 0.25em;box-sizing: border-box;margin-bottom: 0.5em;}#sk-container-id-1 div.sk-estimator:hover {background-color: #d4ebff;}#sk-container-id-1 div.sk-parallel-item::after {content: \"\";width: 100%;border-bottom: 1px solid gray;flex-grow: 1;}#sk-container-id-1 div.sk-label:hover label.sk-toggleable__label {background-color: #d4ebff;}#sk-container-id-1 div.sk-serial::before {content: \"\";position: absolute;border-left: 1px solid gray;box-sizing: border-box;top: 0;bottom: 0;left: 50%;z-index: 0;}#sk-container-id-1 div.sk-serial {display: flex;flex-direction: column;align-items: center;background-color: white;padding-right: 0.2em;padding-left: 0.2em;position: relative;}#sk-container-id-1 div.sk-item {position: relative;z-index: 1;}#sk-container-id-1 div.sk-parallel {display: flex;align-items: stretch;justify-content: center;background-color: white;position: relative;}#sk-container-id-1 div.sk-item::before, #sk-container-id-1 div.sk-parallel-item::before {content: \"\";position: absolute;border-left: 1px solid gray;box-sizing: border-box;top: 0;bottom: 0;left: 50%;z-index: -1;}#sk-container-id-1 div.sk-parallel-item {display: flex;flex-direction: column;z-index: 1;position: relative;background-color: white;}#sk-container-id-1 div.sk-parallel-item:first-child::after {align-self: flex-end;width: 50%;}#sk-container-id-1 div.sk-parallel-item:last-child::after {align-self: flex-start;width: 50%;}#sk-container-id-1 div.sk-parallel-item:only-child::after {width: 0;}#sk-container-id-1 div.sk-dashed-wrapped {border: 1px dashed gray;margin: 0 0.4em 0.5em 0.4em;box-sizing: border-box;padding-bottom: 0.4em;background-color: white;}#sk-container-id-1 div.sk-label label {font-family: monospace;font-weight: bold;display: inline-block;line-height: 1.2em;}#sk-container-id-1 div.sk-label-container {text-align: center;}#sk-container-id-1 div.sk-container {/* jupyter's `normalize.less` sets `[hidden] { display: none; }` but bootstrap.min.css set `[hidden] { display: none !important; }` so we also need the `!important` here to be able to override the default hidden behavior on the sphinx rendered scikit-learn.org. See: https://github.com/scikit-learn/scikit-learn/issues/21755 */display: inline-block !important;position: relative;}#sk-container-id-1 div.sk-text-repr-fallback {display: none;}</style><div id=\"sk-container-id-1\" class=\"sk-top-container\"><div class=\"sk-text-repr-fallback\"><pre>LogisticRegression()</pre><b>In a Jupyter environment, please rerun this cell to show the HTML representation or trust the notebook. <br />On GitHub, the HTML representation is unable to render, please try loading this page with nbviewer.org.</b></div><div class=\"sk-container\" hidden><div class=\"sk-item\"><div class=\"sk-estimator sk-toggleable\"><input class=\"sk-toggleable__control sk-hidden--visually\" id=\"sk-estimator-id-1\" type=\"checkbox\" checked><label for=\"sk-estimator-id-1\" class=\"sk-toggleable__label sk-toggleable__label-arrow\">LogisticRegression</label><div class=\"sk-toggleable__content\"><pre>LogisticRegression()</pre></div></div></div></div></div>"
      ],
      "text/plain": [
       "LogisticRegression()"
      ]
     },
     "execution_count": 223,
     "metadata": {},
     "output_type": "execute_result"
    }
   ],
   "source": [
    "model.fit(X_train, y_train)"
   ]
  },
  {
   "cell_type": "code",
   "execution_count": 224,
   "metadata": {},
   "outputs": [],
   "source": [
    "train_pred = model.predict(X_train)"
   ]
  },
  {
   "cell_type": "code",
   "execution_count": 225,
   "metadata": {},
   "outputs": [
    {
     "data": {
      "text/plain": [
       "0.9608333333333333"
      ]
     },
     "execution_count": 225,
     "metadata": {},
     "output_type": "execute_result"
    }
   ],
   "source": [
    "accuracy_score(y_train, train_pred)"
   ]
  },
  {
   "cell_type": "code",
   "execution_count": 226,
   "metadata": {},
   "outputs": [
    {
     "data": {
      "text/plain": [
       "0.8866666666666667"
      ]
     },
     "execution_count": 226,
     "metadata": {},
     "output_type": "execute_result"
    }
   ],
   "source": [
    "test_pred = model.predict(X_test)\n",
    "accuracy_score(y_test, test_pred)"
   ]
  },
  {
   "cell_type": "code",
   "execution_count": 229,
   "metadata": {},
   "outputs": [],
   "source": [
    "with open(\"../../Output/binary_count_vect.pkl\", \"wb\") as f:\n",
    "    pickle.dump(vect, f)\n",
    "\n",
    "with open(\"../../Output/binary_count_vect_lr.pkl\", \"wb\") as f:\n",
    "    pickle.dump(model, f)"
   ]
  },
  {
   "cell_type": "markdown",
   "metadata": {},
   "source": [
    "## Bag of words - Non Binary"
   ]
  },
  {
   "cell_type": "code",
   "execution_count": 230,
   "metadata": {},
   "outputs": [],
   "source": [
    "vect = CountVectorizer(min_df=5)\n",
    "X = vect.fit_transform(reviews[\"review\"])"
   ]
  },
  {
   "cell_type": "code",
   "execution_count": 231,
   "metadata": {},
   "outputs": [],
   "source": [
    "X_a = X.toarray()"
   ]
  },
  {
   "cell_type": "code",
   "execution_count": 232,
   "metadata": {},
   "outputs": [
    {
     "data": {
      "text/plain": [
       "'unabl save work noth work'"
      ]
     },
     "execution_count": 232,
     "metadata": {},
     "output_type": "execute_result"
    }
   ],
   "source": [
    "reviews[\"review\"].loc[13]"
   ]
  },
  {
   "cell_type": "code",
   "execution_count": 233,
   "metadata": {},
   "outputs": [
    {
     "data": {
      "text/plain": [
       "(array([397]),)"
      ]
     },
     "execution_count": 233,
     "metadata": {},
     "output_type": "execute_result"
    }
   ],
   "source": [
    "np.where(vect.get_feature_names_out() == \"work\")"
   ]
  },
  {
   "cell_type": "code",
   "execution_count": 234,
   "metadata": {},
   "outputs": [
    {
     "data": {
      "text/plain": [
       "2"
      ]
     },
     "execution_count": 234,
     "metadata": {},
     "output_type": "execute_result"
    }
   ],
   "source": [
    "X_a[13,397]"
   ]
  },
  {
   "cell_type": "code",
   "execution_count": 235,
   "metadata": {},
   "outputs": [],
   "source": [
    "X_train, X_test, y_train, y_test = train_test_split(X_a,y, test_size=0.2, stratify=y, random_state=42)"
   ]
  },
  {
   "cell_type": "code",
   "execution_count": 236,
   "metadata": {},
   "outputs": [
    {
     "data": {
      "text/plain": [
       "0.9566666666666667"
      ]
     },
     "execution_count": 236,
     "metadata": {},
     "output_type": "execute_result"
    }
   ],
   "source": [
    "model = LogisticRegression()\n",
    "model.fit(X_train, y_train)\n",
    "train_pred = model.predict(X_train)\n",
    "accuracy_score(y_train, train_pred)"
   ]
  },
  {
   "cell_type": "code",
   "execution_count": 237,
   "metadata": {},
   "outputs": [
    {
     "data": {
      "text/plain": [
       "0.8833333333333333"
      ]
     },
     "execution_count": 237,
     "metadata": {},
     "output_type": "execute_result"
    }
   ],
   "source": [
    "test_pred = model.predict(X_test)\n",
    "accuracy_score(y_test, test_pred)"
   ]
  },
  {
   "cell_type": "code",
   "execution_count": 238,
   "metadata": {},
   "outputs": [],
   "source": [
    "with open(\"../../Output/non_binary_count_vect.pkl\", \"wb\") as f:\n",
    "    pickle.dump(vect, f)\n",
    "\n",
    "with open(\"../../Output/non_binary_count_vect_lr.pkl\", \"wb\") as f:\n",
    "    pickle.dump(model, f)"
   ]
  },
  {
   "cell_type": "markdown",
   "metadata": {},
   "source": [
    "## N-Gram (1,3)"
   ]
  },
  {
   "cell_type": "code",
   "execution_count": 275,
   "metadata": {},
   "outputs": [
    {
     "name": "stdout",
     "output_type": "stream",
     "text": [
      "(1500, 659)\n"
     ]
    },
    {
     "data": {
      "text/html": [
       "<div>\n",
       "<style scoped>\n",
       "    .dataframe tbody tr th:only-of-type {\n",
       "        vertical-align: middle;\n",
       "    }\n",
       "\n",
       "    .dataframe tbody tr th {\n",
       "        vertical-align: top;\n",
       "    }\n",
       "\n",
       "    .dataframe thead th {\n",
       "        text-align: right;\n",
       "    }\n",
       "</style>\n",
       "<table border=\"1\" class=\"dataframe\">\n",
       "  <thead>\n",
       "    <tr style=\"text-align: right;\">\n",
       "      <th></th>\n",
       "      <th>Token</th>\n",
       "      <th>Count</th>\n",
       "      <th>NumOfWords</th>\n",
       "    </tr>\n",
       "  </thead>\n",
       "  <tbody>\n",
       "    <tr>\n",
       "      <th>521</th>\n",
       "      <td>graphic design app</td>\n",
       "      <td>272</td>\n",
       "      <td>3</td>\n",
       "    </tr>\n",
       "    <tr>\n",
       "      <th>352</th>\n",
       "      <td>canva best app</td>\n",
       "      <td>118</td>\n",
       "      <td>3</td>\n",
       "    </tr>\n",
       "    <tr>\n",
       "      <th>534</th>\n",
       "      <td>realli like app</td>\n",
       "      <td>481</td>\n",
       "      <td>3</td>\n",
       "    </tr>\n",
       "    <tr>\n",
       "      <th>537</th>\n",
       "      <td>easi use realli</td>\n",
       "      <td>187</td>\n",
       "      <td>3</td>\n",
       "    </tr>\n",
       "    <tr>\n",
       "      <th>500</th>\n",
       "      <td>easi use great</td>\n",
       "      <td>184</td>\n",
       "      <td>3</td>\n",
       "    </tr>\n",
       "    <tr>\n",
       "      <th>...</th>\n",
       "      <td>...</td>\n",
       "      <td>...</td>\n",
       "      <td>...</td>\n",
       "    </tr>\n",
       "    <tr>\n",
       "      <th>216</th>\n",
       "      <td>noth</td>\n",
       "      <td>402</td>\n",
       "      <td>1</td>\n",
       "    </tr>\n",
       "    <tr>\n",
       "      <th>215</th>\n",
       "      <td>unabl</td>\n",
       "      <td>591</td>\n",
       "      <td>1</td>\n",
       "    </tr>\n",
       "    <tr>\n",
       "      <th>214</th>\n",
       "      <td>close</td>\n",
       "      <td>128</td>\n",
       "      <td>1</td>\n",
       "    </tr>\n",
       "    <tr>\n",
       "      <th>213</th>\n",
       "      <td>wish</td>\n",
       "      <td>637</td>\n",
       "      <td>1</td>\n",
       "    </tr>\n",
       "    <tr>\n",
       "      <th>329</th>\n",
       "      <td>everyon</td>\n",
       "      <td>210</td>\n",
       "      <td>1</td>\n",
       "    </tr>\n",
       "  </tbody>\n",
       "</table>\n",
       "<p>659 rows × 3 columns</p>\n",
       "</div>"
      ],
      "text/plain": [
       "                  Token  Count  NumOfWords\n",
       "521  graphic design app    272           3\n",
       "352      canva best app    118           3\n",
       "534     realli like app    481           3\n",
       "537     easi use realli    187           3\n",
       "500      easi use great    184           3\n",
       "..                  ...    ...         ...\n",
       "216                noth    402           1\n",
       "215               unabl    591           1\n",
       "214               close    128           1\n",
       "213                wish    637           1\n",
       "329             everyon    210           1\n",
       "\n",
       "[659 rows x 3 columns]"
      ]
     },
     "execution_count": 275,
     "metadata": {},
     "output_type": "execute_result"
    }
   ],
   "source": [
    "vect = CountVectorizer(min_df=5,ngram_range=(1,3))\n",
    "X = vect.fit_transform(reviews[\"review\"])\n",
    "print(X.shape)\n",
    "\n",
    "df = pd.DataFrame(list(vect.vocabulary_.items()), columns=['Token', \"Count\"])\n",
    "\n",
    "# Add a new column for the length of the keys\n",
    "df['NumOfWords'] = df['Token'].apply(lambda x: len(x.split()))\n",
    "\n",
    "df.sort_values(\"NumOfWords\",ascending=False)\n"
   ]
  },
  {
   "cell_type": "code",
   "execution_count": 276,
   "metadata": {},
   "outputs": [
    {
     "name": "stdout",
     "output_type": "stream",
     "text": [
      "Training Accuracys is 0.9708333333333333\n",
      "Test Accuracy is 0.89\n"
     ]
    }
   ],
   "source": [
    "X_a = X.toarray()\n",
    "X_train, X_test, y_train, y_test = train_test_split(X_a,y, test_size=0.2, stratify=y, random_state=42)\n",
    "\n",
    "model = LogisticRegression()\n",
    "model.fit(X_train, y_train)\n",
    "train_pred = model.predict(X_train)\n",
    "print(f\"Training Accuracys is {accuracy_score(y_train, train_pred)}\")\n",
    "test_pred = model.predict(X_test)\n",
    "print(f\"Test Accuracy is {accuracy_score(y_test, test_pred)}\")"
   ]
  },
  {
   "cell_type": "code",
   "execution_count": 277,
   "metadata": {},
   "outputs": [],
   "source": [
    "with open(\"../../Output/ngram3_count_vect.pkl\", \"wb\") as f:\n",
    "    pickle.dump(vect, f)\n",
    "\n",
    "with open(\"../../Output/ngram3_count_vect_lr.pkl\", \"wb\") as f:\n",
    "    pickle.dump(model, f)"
   ]
  },
  {
   "cell_type": "markdown",
   "metadata": {},
   "source": [
    "## N-Gram (1,5)"
   ]
  },
  {
   "cell_type": "code",
   "execution_count": 278,
   "metadata": {},
   "outputs": [
    {
     "name": "stdout",
     "output_type": "stream",
     "text": [
      "(1500, 664)\n"
     ]
    },
    {
     "data": {
      "text/html": [
       "<div>\n",
       "<style scoped>\n",
       "    .dataframe tbody tr th:only-of-type {\n",
       "        vertical-align: middle;\n",
       "    }\n",
       "\n",
       "    .dataframe tbody tr th {\n",
       "        vertical-align: top;\n",
       "    }\n",
       "\n",
       "    .dataframe thead th {\n",
       "        text-align: right;\n",
       "    }\n",
       "</style>\n",
       "<table border=\"1\" class=\"dataframe\">\n",
       "  <thead>\n",
       "    <tr style=\"text-align: right;\">\n",
       "      <th></th>\n",
       "      <th>Token</th>\n",
       "      <th>Count</th>\n",
       "      <th>NumOfWords</th>\n",
       "    </tr>\n",
       "  </thead>\n",
       "  <tbody>\n",
       "    <tr>\n",
       "      <th>503</th>\n",
       "      <td>love app easi use</td>\n",
       "      <td>354</td>\n",
       "      <td>4</td>\n",
       "    </tr>\n",
       "    <tr>\n",
       "      <th>525</th>\n",
       "      <td>best graphic design app</td>\n",
       "      <td>99</td>\n",
       "      <td>4</td>\n",
       "    </tr>\n",
       "    <tr>\n",
       "      <th>589</th>\n",
       "      <td>take much time save</td>\n",
       "      <td>566</td>\n",
       "      <td>4</td>\n",
       "    </tr>\n",
       "    <tr>\n",
       "      <th>399</th>\n",
       "      <td>great app easi use</td>\n",
       "      <td>278</td>\n",
       "      <td>4</td>\n",
       "    </tr>\n",
       "    <tr>\n",
       "      <th>416</th>\n",
       "      <td>best app ever use</td>\n",
       "      <td>92</td>\n",
       "      <td>4</td>\n",
       "    </tr>\n",
       "    <tr>\n",
       "      <th>...</th>\n",
       "      <td>...</td>\n",
       "      <td>...</td>\n",
       "      <td>...</td>\n",
       "    </tr>\n",
       "    <tr>\n",
       "      <th>152</th>\n",
       "      <td>video</td>\n",
       "      <td>628</td>\n",
       "      <td>1</td>\n",
       "    </tr>\n",
       "    <tr>\n",
       "      <th>153</th>\n",
       "      <td>watermark</td>\n",
       "      <td>633</td>\n",
       "      <td>1</td>\n",
       "    </tr>\n",
       "    <tr>\n",
       "      <th>367</th>\n",
       "      <td>afford</td>\n",
       "      <td>11</td>\n",
       "      <td>1</td>\n",
       "    </tr>\n",
       "    <tr>\n",
       "      <th>154</th>\n",
       "      <td>look</td>\n",
       "      <td>346</td>\n",
       "      <td>1</td>\n",
       "    </tr>\n",
       "    <tr>\n",
       "      <th>0</th>\n",
       "      <td>overal</td>\n",
       "      <td>427</td>\n",
       "      <td>1</td>\n",
       "    </tr>\n",
       "  </tbody>\n",
       "</table>\n",
       "<p>664 rows × 3 columns</p>\n",
       "</div>"
      ],
      "text/plain": [
       "                       Token  Count  NumOfWords\n",
       "503        love app easi use    354           4\n",
       "525  best graphic design app     99           4\n",
       "589      take much time save    566           4\n",
       "399       great app easi use    278           4\n",
       "416        best app ever use     92           4\n",
       "..                       ...    ...         ...\n",
       "152                    video    628           1\n",
       "153                watermark    633           1\n",
       "367                   afford     11           1\n",
       "154                     look    346           1\n",
       "0                     overal    427           1\n",
       "\n",
       "[664 rows x 3 columns]"
      ]
     },
     "execution_count": 278,
     "metadata": {},
     "output_type": "execute_result"
    }
   ],
   "source": [
    "vect = CountVectorizer(min_df=5,ngram_range=(1,5))\n",
    "X = vect.fit_transform(reviews[\"review\"])\n",
    "print(X.shape)\n",
    "\n",
    "df = pd.DataFrame(list(vect.vocabulary_.items()), columns=['Token', \"Count\"])\n",
    "\n",
    "# Add a new column for the length of the keys\n",
    "df['NumOfWords'] = df['Token'].apply(lambda x: len(x.split()))\n",
    "\n",
    "df.sort_values(\"NumOfWords\",ascending=False)\n"
   ]
  },
  {
   "cell_type": "code",
   "execution_count": 279,
   "metadata": {},
   "outputs": [
    {
     "name": "stdout",
     "output_type": "stream",
     "text": [
      "Training Accuracys is 0.9708333333333333\n",
      "Test Accuracy is 0.89\n"
     ]
    }
   ],
   "source": [
    "X_a = X.toarray()\n",
    "X_train, X_test, y_train, y_test = train_test_split(X_a,y, test_size=0.2, stratify=y, random_state=42)\n",
    "\n",
    "model = LogisticRegression()\n",
    "model.fit(X_train, y_train)\n",
    "train_pred = model.predict(X_train)\n",
    "print(f\"Training Accuracys is {accuracy_score(y_train, train_pred)}\")\n",
    "test_pred = model.predict(X_test)\n",
    "print(f\"Test Accuracy is {accuracy_score(y_test, test_pred)}\")"
   ]
  },
  {
   "cell_type": "code",
   "execution_count": 280,
   "metadata": {},
   "outputs": [],
   "source": [
    "with open(\"../../Output/ngram5_count_vect.pkl\", \"wb\") as f:\n",
    "    pickle.dump(vect, f)\n",
    "\n",
    "with open(\"../../Output/ngram5_count_vect_lr.pkl\", \"wb\") as f:\n",
    "    pickle.dump(model, f)"
   ]
  },
  {
   "cell_type": "markdown",
   "metadata": {},
   "source": [
    "## N-Gram (1,10)"
   ]
  },
  {
   "cell_type": "code",
   "execution_count": 281,
   "metadata": {},
   "outputs": [
    {
     "name": "stdout",
     "output_type": "stream",
     "text": [
      "(1500, 664)\n"
     ]
    },
    {
     "data": {
      "text/html": [
       "<div>\n",
       "<style scoped>\n",
       "    .dataframe tbody tr th:only-of-type {\n",
       "        vertical-align: middle;\n",
       "    }\n",
       "\n",
       "    .dataframe tbody tr th {\n",
       "        vertical-align: top;\n",
       "    }\n",
       "\n",
       "    .dataframe thead th {\n",
       "        text-align: right;\n",
       "    }\n",
       "</style>\n",
       "<table border=\"1\" class=\"dataframe\">\n",
       "  <thead>\n",
       "    <tr style=\"text-align: right;\">\n",
       "      <th></th>\n",
       "      <th>Token</th>\n",
       "      <th>Count</th>\n",
       "      <th>NumOfWords</th>\n",
       "    </tr>\n",
       "  </thead>\n",
       "  <tbody>\n",
       "    <tr>\n",
       "      <th>503</th>\n",
       "      <td>love app easi use</td>\n",
       "      <td>354</td>\n",
       "      <td>4</td>\n",
       "    </tr>\n",
       "    <tr>\n",
       "      <th>525</th>\n",
       "      <td>best graphic design app</td>\n",
       "      <td>99</td>\n",
       "      <td>4</td>\n",
       "    </tr>\n",
       "    <tr>\n",
       "      <th>589</th>\n",
       "      <td>take much time save</td>\n",
       "      <td>566</td>\n",
       "      <td>4</td>\n",
       "    </tr>\n",
       "    <tr>\n",
       "      <th>399</th>\n",
       "      <td>great app easi use</td>\n",
       "      <td>278</td>\n",
       "      <td>4</td>\n",
       "    </tr>\n",
       "    <tr>\n",
       "      <th>416</th>\n",
       "      <td>best app ever use</td>\n",
       "      <td>92</td>\n",
       "      <td>4</td>\n",
       "    </tr>\n",
       "    <tr>\n",
       "      <th>...</th>\n",
       "      <td>...</td>\n",
       "      <td>...</td>\n",
       "      <td>...</td>\n",
       "    </tr>\n",
       "    <tr>\n",
       "      <th>152</th>\n",
       "      <td>video</td>\n",
       "      <td>628</td>\n",
       "      <td>1</td>\n",
       "    </tr>\n",
       "    <tr>\n",
       "      <th>153</th>\n",
       "      <td>watermark</td>\n",
       "      <td>633</td>\n",
       "      <td>1</td>\n",
       "    </tr>\n",
       "    <tr>\n",
       "      <th>367</th>\n",
       "      <td>afford</td>\n",
       "      <td>11</td>\n",
       "      <td>1</td>\n",
       "    </tr>\n",
       "    <tr>\n",
       "      <th>154</th>\n",
       "      <td>look</td>\n",
       "      <td>346</td>\n",
       "      <td>1</td>\n",
       "    </tr>\n",
       "    <tr>\n",
       "      <th>0</th>\n",
       "      <td>overal</td>\n",
       "      <td>427</td>\n",
       "      <td>1</td>\n",
       "    </tr>\n",
       "  </tbody>\n",
       "</table>\n",
       "<p>664 rows × 3 columns</p>\n",
       "</div>"
      ],
      "text/plain": [
       "                       Token  Count  NumOfWords\n",
       "503        love app easi use    354           4\n",
       "525  best graphic design app     99           4\n",
       "589      take much time save    566           4\n",
       "399       great app easi use    278           4\n",
       "416        best app ever use     92           4\n",
       "..                       ...    ...         ...\n",
       "152                    video    628           1\n",
       "153                watermark    633           1\n",
       "367                   afford     11           1\n",
       "154                     look    346           1\n",
       "0                     overal    427           1\n",
       "\n",
       "[664 rows x 3 columns]"
      ]
     },
     "execution_count": 281,
     "metadata": {},
     "output_type": "execute_result"
    }
   ],
   "source": [
    "vect = CountVectorizer(min_df=5,ngram_range=(1,10))\n",
    "X = vect.fit_transform(reviews[\"review\"])\n",
    "print(X.shape)\n",
    "\n",
    "df = pd.DataFrame(list(vect.vocabulary_.items()), columns=['Token', \"Count\"])\n",
    "\n",
    "# Add a new column for the length of the keys\n",
    "df['NumOfWords'] = df['Token'].apply(lambda x: len(x.split()))\n",
    "\n",
    "df.sort_values(\"NumOfWords\",ascending=False)\n"
   ]
  },
  {
   "cell_type": "code",
   "execution_count": 282,
   "metadata": {},
   "outputs": [
    {
     "name": "stdout",
     "output_type": "stream",
     "text": [
      "Training Accuracys is 0.9708333333333333\n",
      "Test Accuracy is 0.89\n"
     ]
    }
   ],
   "source": [
    "X_a = X.toarray()\n",
    "X_train, X_test, y_train, y_test = train_test_split(X_a,y, test_size=0.2, stratify=y, random_state=42)\n",
    "\n",
    "model = LogisticRegression()\n",
    "model.fit(X_train, y_train)\n",
    "train_pred = model.predict(X_train)\n",
    "print(f\"Training Accuracys is {accuracy_score(y_train, train_pred)}\")\n",
    "test_pred = model.predict(X_test)\n",
    "print(f\"Test Accuracy is {accuracy_score(y_test, test_pred)}\")"
   ]
  },
  {
   "cell_type": "code",
   "execution_count": 283,
   "metadata": {},
   "outputs": [],
   "source": [
    "with open(\"../../Output/ngram10_count_vect.pkl\", \"wb\") as f:\n",
    "    pickle.dump(vect, f)\n",
    "\n",
    "with open(\"../../Output/ngram10_count_vect_lr.pkl\", \"wb\") as f:\n",
    "    pickle.dump(model, f)"
   ]
  },
  {
   "cell_type": "markdown",
   "metadata": {},
   "source": [
    "## N-Gram (1,2)"
   ]
  },
  {
   "cell_type": "code",
   "execution_count": 284,
   "metadata": {},
   "outputs": [
    {
     "name": "stdout",
     "output_type": "stream",
     "text": [
      "(1500, 620)\n"
     ]
    },
    {
     "data": {
      "text/html": [
       "<div>\n",
       "<style scoped>\n",
       "    .dataframe tbody tr th:only-of-type {\n",
       "        vertical-align: middle;\n",
       "    }\n",
       "\n",
       "    .dataframe tbody tr th {\n",
       "        vertical-align: top;\n",
       "    }\n",
       "\n",
       "    .dataframe thead th {\n",
       "        text-align: right;\n",
       "    }\n",
       "</style>\n",
       "<table border=\"1\" class=\"dataframe\">\n",
       "  <thead>\n",
       "    <tr style=\"text-align: right;\">\n",
       "      <th></th>\n",
       "      <th>Token</th>\n",
       "      <th>Count</th>\n",
       "      <th>NumOfWords</th>\n",
       "    </tr>\n",
       "  </thead>\n",
       "  <tbody>\n",
       "    <tr>\n",
       "      <th>310</th>\n",
       "      <td>awesom app</td>\n",
       "      <td>73</td>\n",
       "      <td>2</td>\n",
       "    </tr>\n",
       "    <tr>\n",
       "      <th>365</th>\n",
       "      <td>love canva</td>\n",
       "      <td>323</td>\n",
       "      <td>2</td>\n",
       "    </tr>\n",
       "    <tr>\n",
       "      <th>362</th>\n",
       "      <td>lot free</td>\n",
       "      <td>319</td>\n",
       "      <td>2</td>\n",
       "    </tr>\n",
       "    <tr>\n",
       "      <th>361</th>\n",
       "      <td>use lot</td>\n",
       "      <td>570</td>\n",
       "      <td>2</td>\n",
       "    </tr>\n",
       "    <tr>\n",
       "      <th>359</th>\n",
       "      <td>best edit</td>\n",
       "      <td>85</td>\n",
       "      <td>2</td>\n",
       "    </tr>\n",
       "    <tr>\n",
       "      <th>...</th>\n",
       "      <td>...</td>\n",
       "      <td>...</td>\n",
       "      <td>...</td>\n",
       "    </tr>\n",
       "    <tr>\n",
       "      <th>325</th>\n",
       "      <td>everyon</td>\n",
       "      <td>190</td>\n",
       "      <td>1</td>\n",
       "    </tr>\n",
       "    <tr>\n",
       "      <th>324</th>\n",
       "      <td>recommend</td>\n",
       "      <td>449</td>\n",
       "      <td>1</td>\n",
       "    </tr>\n",
       "    <tr>\n",
       "      <th>133</th>\n",
       "      <td>keep</td>\n",
       "      <td>290</td>\n",
       "      <td>1</td>\n",
       "    </tr>\n",
       "    <tr>\n",
       "      <th>134</th>\n",
       "      <td>take</td>\n",
       "      <td>518</td>\n",
       "      <td>1</td>\n",
       "    </tr>\n",
       "    <tr>\n",
       "      <th>0</th>\n",
       "      <td>overal</td>\n",
       "      <td>390</td>\n",
       "      <td>1</td>\n",
       "    </tr>\n",
       "  </tbody>\n",
       "</table>\n",
       "<p>620 rows × 3 columns</p>\n",
       "</div>"
      ],
      "text/plain": [
       "          Token  Count  NumOfWords\n",
       "310  awesom app     73           2\n",
       "365  love canva    323           2\n",
       "362    lot free    319           2\n",
       "361     use lot    570           2\n",
       "359   best edit     85           2\n",
       "..          ...    ...         ...\n",
       "325     everyon    190           1\n",
       "324   recommend    449           1\n",
       "133        keep    290           1\n",
       "134        take    518           1\n",
       "0        overal    390           1\n",
       "\n",
       "[620 rows x 3 columns]"
      ]
     },
     "execution_count": 284,
     "metadata": {},
     "output_type": "execute_result"
    }
   ],
   "source": [
    "vect = CountVectorizer(min_df=5,ngram_range=(1,2))\n",
    "X = vect.fit_transform(reviews[\"review\"])\n",
    "print(X.shape)\n",
    "\n",
    "df = pd.DataFrame(list(vect.vocabulary_.items()), columns=['Token', \"Count\"])\n",
    "\n",
    "# Add a new column for the length of the keys\n",
    "df['NumOfWords'] = df['Token'].apply(lambda x: len(x.split()))\n",
    "\n",
    "df.sort_values(\"NumOfWords\",ascending=False)\n"
   ]
  },
  {
   "cell_type": "code",
   "execution_count": 285,
   "metadata": {},
   "outputs": [
    {
     "name": "stdout",
     "output_type": "stream",
     "text": [
      "Training Accuracys is 0.97\n",
      "Test Accuracy is 0.89\n"
     ]
    }
   ],
   "source": [
    "X_a = X.toarray()\n",
    "X_train, X_test, y_train, y_test = train_test_split(X_a,y, test_size=0.2, stratify=y, random_state=42)\n",
    "\n",
    "model = LogisticRegression()\n",
    "model.fit(X_train, y_train)\n",
    "train_pred = model.predict(X_train)\n",
    "print(f\"Training Accuracys is {accuracy_score(y_train, train_pred)}\")\n",
    "test_pred = model.predict(X_test)\n",
    "print(f\"Test Accuracy is {accuracy_score(y_test, test_pred)}\")"
   ]
  },
  {
   "cell_type": "code",
   "execution_count": 286,
   "metadata": {},
   "outputs": [],
   "source": [
    "with open(\"../../Output/ngram2_count_vect.pkl\", \"wb\") as f:\n",
    "    pickle.dump(vect, f)\n",
    "\n",
    "with open(\"../../Output/ngram2_count_vect_lr.pkl\", \"wb\") as f:\n",
    "    pickle.dump(model, f)"
   ]
  },
  {
   "cell_type": "markdown",
   "metadata": {},
   "source": [
    "## TF-IDF"
   ]
  },
  {
   "cell_type": "code",
   "execution_count": 289,
   "metadata": {},
   "outputs": [
    {
     "name": "stdout",
     "output_type": "stream",
     "text": [
      "(1500, 409)\n"
     ]
    },
    {
     "data": {
      "text/html": [
       "<div>\n",
       "<style scoped>\n",
       "    .dataframe tbody tr th:only-of-type {\n",
       "        vertical-align: middle;\n",
       "    }\n",
       "\n",
       "    .dataframe tbody tr th {\n",
       "        vertical-align: top;\n",
       "    }\n",
       "\n",
       "    .dataframe thead th {\n",
       "        text-align: right;\n",
       "    }\n",
       "</style>\n",
       "<table border=\"1\" class=\"dataframe\">\n",
       "  <thead>\n",
       "    <tr style=\"text-align: right;\">\n",
       "      <th></th>\n",
       "      <th>Token</th>\n",
       "      <th>Count</th>\n",
       "      <th>NumOfWords</th>\n",
       "    </tr>\n",
       "  </thead>\n",
       "  <tbody>\n",
       "    <tr>\n",
       "      <th>0</th>\n",
       "      <td>overal</td>\n",
       "      <td>241</td>\n",
       "      <td>1</td>\n",
       "    </tr>\n",
       "    <tr>\n",
       "      <th>269</th>\n",
       "      <td>yet</td>\n",
       "      <td>406</td>\n",
       "      <td>1</td>\n",
       "    </tr>\n",
       "    <tr>\n",
       "      <th>279</th>\n",
       "      <td>im</td>\n",
       "      <td>169</td>\n",
       "      <td>1</td>\n",
       "    </tr>\n",
       "    <tr>\n",
       "      <th>278</th>\n",
       "      <td>varieti</td>\n",
       "      <td>377</td>\n",
       "      <td>1</td>\n",
       "    </tr>\n",
       "    <tr>\n",
       "      <th>277</th>\n",
       "      <td>idea</td>\n",
       "      <td>168</td>\n",
       "      <td>1</td>\n",
       "    </tr>\n",
       "    <tr>\n",
       "      <th>...</th>\n",
       "      <td>...</td>\n",
       "      <td>...</td>\n",
       "      <td>...</td>\n",
       "    </tr>\n",
       "    <tr>\n",
       "      <th>134</th>\n",
       "      <td>attract</td>\n",
       "      <td>28</td>\n",
       "      <td>1</td>\n",
       "    </tr>\n",
       "    <tr>\n",
       "      <th>133</th>\n",
       "      <td>much</td>\n",
       "      <td>223</td>\n",
       "      <td>1</td>\n",
       "    </tr>\n",
       "    <tr>\n",
       "      <th>132</th>\n",
       "      <td>look</td>\n",
       "      <td>205</td>\n",
       "      <td>1</td>\n",
       "    </tr>\n",
       "    <tr>\n",
       "      <th>131</th>\n",
       "      <td>watermark</td>\n",
       "      <td>383</td>\n",
       "      <td>1</td>\n",
       "    </tr>\n",
       "    <tr>\n",
       "      <th>408</th>\n",
       "      <td>tablet</td>\n",
       "      <td>345</td>\n",
       "      <td>1</td>\n",
       "    </tr>\n",
       "  </tbody>\n",
       "</table>\n",
       "<p>409 rows × 3 columns</p>\n",
       "</div>"
      ],
      "text/plain": [
       "         Token  Count  NumOfWords\n",
       "0       overal    241           1\n",
       "269        yet    406           1\n",
       "279         im    169           1\n",
       "278    varieti    377           1\n",
       "277       idea    168           1\n",
       "..         ...    ...         ...\n",
       "134    attract     28           1\n",
       "133       much    223           1\n",
       "132       look    205           1\n",
       "131  watermark    383           1\n",
       "408     tablet    345           1\n",
       "\n",
       "[409 rows x 3 columns]"
      ]
     },
     "execution_count": 289,
     "metadata": {},
     "output_type": "execute_result"
    }
   ],
   "source": [
    "vect = TfidfVectorizer(min_df=5)\n",
    "X = vect.fit_transform(reviews[\"review\"])\n",
    "print(X.shape)\n",
    "\n",
    "\n",
    "df = pd.DataFrame(list(vect.vocabulary_.items()), columns=['Token', \"Count\"])\n",
    "\n",
    "# Add a new column for the length of the keys\n",
    "df['NumOfWords'] = df['Token'].apply(lambda x: len(x.split()))\n",
    "\n",
    "df.sort_values(\"NumOfWords\",ascending=False)"
   ]
  },
  {
   "cell_type": "code",
   "execution_count": 292,
   "metadata": {},
   "outputs": [
    {
     "name": "stdout",
     "output_type": "stream",
     "text": [
      "Training Accuracys is 0.935\n",
      "Test Accuracy is 0.8766666666666667\n"
     ]
    }
   ],
   "source": [
    "X_a = X.toarray()\n",
    "X_train, X_test, y_train, y_test = train_test_split(X_a,y, test_size=0.2, stratify=y, random_state=42)\n",
    "\n",
    "model = LogisticRegression()\n",
    "model.fit(X_train, y_train)\n",
    "train_pred = model.predict(X_train)\n",
    "print(f\"Training Accuracys is {accuracy_score(y_train, train_pred)}\")\n",
    "test_pred = model.predict(X_test)\n",
    "print(f\"Test Accuracy is {accuracy_score(y_test, test_pred)}\")"
   ]
  },
  {
   "cell_type": "code",
   "execution_count": 293,
   "metadata": {},
   "outputs": [],
   "source": [
    "with open(\"../../Output/tfidf_count_vect.pkl\", \"wb\") as f:\n",
    "    pickle.dump(vect, f)\n",
    "\n",
    "with open(\"../../Output/tfidf_count_vect_lr.pkl\", \"wb\") as f:\n",
    "    pickle.dump(model, f)"
   ]
  },
  {
   "cell_type": "markdown",
   "metadata": {},
   "source": [
    "## Predictions for new reviews"
   ]
  },
  {
   "cell_type": "code",
   "execution_count": 300,
   "metadata": {},
   "outputs": [],
   "source": [
    "# Sample test reviews\n",
    "test_review_1 = '''this is a truly amazing app, best for those who havw content but don't know how to express it in a good and shareable manner. Thanks Team Canva for such a great app.'''\n",
    "test_review_2 = '''Its the worst app ever I save my designs lts not save'''"
   ]
  },
  {
   "cell_type": "markdown",
   "metadata": {},
   "source": [
    "## Load the best n-gram model and its vectorizer"
   ]
  },
  {
   "cell_type": "code",
   "execution_count": 330,
   "metadata": {},
   "outputs": [],
   "source": [
    "vect = pickle.load(open(\"../../Output/ngram/ngram3_count_vect.pkl\", \"rb\"))\n",
    "\n",
    "model = pickle.load(open(\"../../Output/ngram/ngram3_count_vect_lr.pkl\", \"rb\"))"
   ]
  },
  {
   "cell_type": "markdown",
   "metadata": {},
   "source": [
    "## Convert the reviews to a batch of 1 record"
   ]
  },
  {
   "cell_type": "code",
   "execution_count": 297,
   "metadata": {},
   "outputs": [],
   "source": [
    "test_review_1 = [test_review_1]\n",
    "test_review_2 = [test_review_2]"
   ]
  },
  {
   "cell_type": "code",
   "execution_count": 298,
   "metadata": {},
   "outputs": [],
   "source": [
    "test_review_1 = [r.lower() for r in test_review_1]\n",
    "test_review_2 = [r.lower() for r in test_review_2]"
   ]
  },
  {
   "cell_type": "code",
   "execution_count": null,
   "metadata": {},
   "outputs": [],
   "source": [
    "def perform_tokenize(sentence):\n",
    "    \n",
    "    words = word_tokenize(sentence)\n",
    "\n",
    "    words_wo_punctuation = [\"\".join(tokenizer.tokenize(x)) for x in words if len(tokenizer.tokenize(x))>0]\n",
    "\n",
    "    words_wo_stopwords = [word for word in words_wo_punctuation if word not in sw]\n",
    "\n",
    "    return words_wo_stopwords"
   ]
  },
  {
   "cell_type": "code",
   "execution_count": 302,
   "metadata": {},
   "outputs": [],
   "source": [
    "test_review_1 = perform_tokenize(test_review_1)\n",
    "\n",
    "test_review_2 = perform_tokenize(test_review_2)\n",
    "\n",
    "print(test_review_1, \"\\n\", test_review_2)"
   ]
  },
  {
   "cell_type": "code",
   "execution_count": null,
   "metadata": {},
   "outputs": [],
   "source": [
    "test_review_1 = perform_stemming(\"porter\", test_review_1)\n",
    "test_review_2 = perform_stemming(\"porter\", test_review_2)\n",
    "\n",
    "test_review_1 = \" \".join(test_review_1)\n",
    "test_review_2 = \" \".join(test_review_2)"
   ]
  },
  {
   "cell_type": "code",
   "execution_count": 315,
   "metadata": {},
   "outputs": [],
   "source": [
    "np_test_reviews_1 =np.array(test_review_1)\n",
    "np_test_reviews_2 =np.array(test_review_2)\n",
    "\n",
    "np_test_reviews = np.row_stack((np_test_reviews_1, np_test_reviews_2))\n",
    "\n",
    "df_test_reviews = pd.DataFrame(np_test_reviews, columns=[\"review\"])"
   ]
  },
  {
   "cell_type": "code",
   "execution_count": 328,
   "metadata": {},
   "outputs": [
    {
     "data": {
      "text/html": [
       "<div>\n",
       "<style scoped>\n",
       "    .dataframe tbody tr th:only-of-type {\n",
       "        vertical-align: middle;\n",
       "    }\n",
       "\n",
       "    .dataframe tbody tr th {\n",
       "        vertical-align: top;\n",
       "    }\n",
       "\n",
       "    .dataframe thead th {\n",
       "        text-align: right;\n",
       "    }\n",
       "</style>\n",
       "<table border=\"1\" class=\"dataframe\">\n",
       "  <thead>\n",
       "    <tr style=\"text-align: right;\">\n",
       "      <th></th>\n",
       "      <th>review</th>\n",
       "    </tr>\n",
       "  </thead>\n",
       "  <tbody>\n",
       "    <tr>\n",
       "      <th>0</th>\n",
       "      <td>truli amaz app best havw content nt know expre...</td>\n",
       "    </tr>\n",
       "    <tr>\n",
       "      <th>1</th>\n",
       "      <td>it worst app ever i save design lt save</td>\n",
       "    </tr>\n",
       "  </tbody>\n",
       "</table>\n",
       "</div>"
      ],
      "text/plain": [
       "                                              review\n",
       "0  truli amaz app best havw content nt know expre...\n",
       "1            it worst app ever i save design lt save"
      ]
     },
     "execution_count": 328,
     "metadata": {},
     "output_type": "execute_result"
    }
   ],
   "source": [
    "df_test_reviews"
   ]
  },
  {
   "cell_type": "code",
   "execution_count": 334,
   "metadata": {},
   "outputs": [
    {
     "name": "stdout",
     "output_type": "stream",
     "text": [
      "(2, 659)\n"
     ]
    },
    {
     "data": {
      "text/plain": [
       "array([[0.00434476, 0.99565524],\n",
       "       [0.89877615, 0.10122385]])"
      ]
     },
     "execution_count": 334,
     "metadata": {},
     "output_type": "execute_result"
    }
   ],
   "source": [
    "X = vect.transform(df_test_reviews[\"review\"])\n",
    "print(X.shape)\n",
    "\n",
    "model.predict_proba(X)"
   ]
  },
  {
   "cell_type": "code",
   "execution_count": 335,
   "metadata": {},
   "outputs": [
    {
     "data": {
      "text/plain": [
       "array([1, 0])"
      ]
     },
     "execution_count": 335,
     "metadata": {},
     "output_type": "execute_result"
    }
   ],
   "source": [
    "model.predict(X)"
   ]
  },
  {
   "cell_type": "code",
   "execution_count": null,
   "metadata": {},
   "outputs": [],
   "source": []
  }
 ],
 "metadata": {
  "kernelspec": {
   "display_name": "Python 3 (ipykernel)",
   "language": "python",
   "name": "python3"
  },
  "language_info": {
   "codemirror_mode": {
    "name": "ipython",
    "version": 3
   },
   "file_extension": ".py",
   "mimetype": "text/x-python",
   "name": "python",
   "nbconvert_exporter": "python",
   "pygments_lexer": "ipython3",
   "version": "3.9.16"
  },
  "orig_nbformat": 4
 },
 "nbformat": 4,
 "nbformat_minor": 2
}
